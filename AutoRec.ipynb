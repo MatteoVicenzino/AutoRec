{
 "cells": [
  {
   "cell_type": "markdown",
   "id": "7133b4e8",
   "metadata": {},
   "source": [
    "# Autoencoder Recommendation System"
   ]
  },
  {
   "cell_type": "code",
   "id": "1a1b0094",
   "metadata": {
    "ExecuteTime": {
     "end_time": "2025-06-18T19:33:59.496948Z",
     "start_time": "2025-06-18T19:33:59.492437Z"
    }
   },
   "source": [
    "import pandas as pd\n",
    "import numpy as np\n",
    "import matplotlib.pyplot as plt\n",
    "import math\n",
    "from time import time\n",
    "from collections import Counter\n",
    "import ast\n",
    "\n",
    "import torch\n",
    "import torch.nn as nn \n",
    "import torch.nn.functional as F \n",
    "import torchvision \n",
    "import torch.utils.data as data\n",
    "import torch.distributions as dist\n",
    "import tqdm"
   ],
   "outputs": [],
   "execution_count": 75
  },
  {
   "cell_type": "markdown",
   "id": "1f678c39",
   "metadata": {},
   "source": [
    "## Data Preparation"
   ]
  },
  {
   "cell_type": "code",
   "id": "96d9330b",
   "metadata": {
    "ExecuteTime": {
     "end_time": "2025-06-18T19:33:59.787191Z",
     "start_time": "2025-06-18T19:33:59.543681Z"
    }
   },
   "source": [
    "df_books = pd.read_csv('books_autorec.csv')\n",
    "df_books.sort_values(by='ratings_count', ascending=False, inplace=True)\n",
    "Books_number = 2000\n",
    "df_books = df_books.iloc[:Books_number]\n",
    "df_books['goodreads_book_id'] = df_books['goodreads_book_id'].astype(int)\n",
    "book_ids = df_books['goodreads_book_id']"
   ],
   "outputs": [],
   "execution_count": 76
  },
  {
   "cell_type": "code",
   "id": "34cad950",
   "metadata": {
    "ExecuteTime": {
     "end_time": "2025-06-18T19:34:29.801397Z",
     "start_time": "2025-06-18T19:33:59.846534Z"
    }
   },
   "source": [
    "df = pd.read_csv(\"books_autorec.csv\")\n",
    "df_ratings = pd.read_csv(\"ratings_autorec.csv\")\n",
    "\n",
    "modified_df_ratings = df_ratings.merge(\n",
    "    df[['goodreads_book_id']], \n",
    "    left_on='book_id', \n",
    "    right_on='goodreads_book_id', \n",
    "    how='left'\n",
    ")\n",
    "\n",
    "# create dictionary with user and ratings\n",
    "sparse_users = {}\n",
    "for user_id, group in modified_df_ratings.groupby('user_id'):\n",
    "    modified_books_ratings = group[['book_id', 'rating']].values.tolist()\n",
    "    sparse_users[user_id] = modified_books_ratings\n",
    "\n",
    "filter_users = {\n",
    "    user: [triplet for triplet in triplets if triplet[0] in book_ids]\n",
    "    for user, triplets in sparse_users.items()\n",
    "}\n",
    "filter_users = {user: triplets for user, triplets in filter_users.items() if triplets}\n",
    "#user taken\n",
    "taken_users = 50000\n",
    "filter_users = sorted(filter_users.items(), key=lambda x: len(x[1]), reverse=True)[:taken_users]\n",
    "filter_users = dict(filter_users)"
   ],
   "outputs": [],
   "execution_count": 77
  },
  {
   "cell_type": "code",
   "id": "c33aeea5",
   "metadata": {
    "ExecuteTime": {
     "end_time": "2025-06-18T19:34:29.895337Z",
     "start_time": "2025-06-18T19:34:29.861943Z"
    }
   },
   "source": [
    "mapping_pos_to_books = dict(zip(range(Books_number), book_ids))\n",
    "mapping_books_to_pos = dict(zip(book_ids,range(Books_number)))\n",
    "mapping_pos_to_users = dict(zip(range(taken_users), filter_users.keys()))\n",
    "mapping_users_to_pos = dict(zip(filter_users.keys(),range(taken_users)))"
   ],
   "outputs": [],
   "execution_count": 78
  },
  {
   "cell_type": "code",
   "id": "750eb98c",
   "metadata": {
    "ExecuteTime": {
     "end_time": "2025-06-18T19:34:57.094204Z",
     "start_time": "2025-06-18T19:34:29.954894Z"
    }
   },
   "source": [
    "n_books = len(mapping_books_to_pos)\n",
    "user_vectors = []\n",
    "for user_id, book_rating in filter_users.items():\n",
    "    vector = np.zeros(n_books)  # initialize vector with zeros\n",
    "\n",
    "    for book_id, rating in book_rating:\n",
    "        if book_id in mapping_books_to_pos:  # if book_id is in the mapping\n",
    "            index = mapping_books_to_pos[book_id]\n",
    "            vector[index] = rating  # insert rating in the correct position\n",
    "\n",
    "    user_vectors.append(vector)\n",
    "    \n",
    "print(\"Number of Users\", len(user_vectors))\n",
    "print(\"Number of Books\", len(user_vectors[0]))\n",
    "for i in range(len(user_vectors)):\n",
    "    user_vectors[i] = [0 if elem < 4 else 1 for elem in user_vectors[i]]\n",
    "print(\"Example of a user: \", user_vectors[0][:20])\n",
    "df_input_data = pd.DataFrame(user_vectors)"
   ],
   "outputs": [
    {
     "name": "stdout",
     "output_type": "stream",
     "text": [
      "Number of Users 48939\n",
      "Number of Books 2000\n",
      "Example of a user:  [0, 1, 0, 0, 0, 0, 0, 0, 1, 0, 0, 0, 0, 0, 1, 0, 0, 0, 0, 1]\n"
     ]
    }
   ],
   "execution_count": 79
  },
  {
   "metadata": {
    "ExecuteTime": {
     "end_time": "2025-06-18T19:34:57.311659Z",
     "start_time": "2025-06-18T19:34:57.155308Z"
    }
   },
   "cell_type": "code",
   "source": [
    "def compute_item_weights(df_input_data, weight_strategy='inverse_log'):\n",
    "    item_review_counts = (df_input_data != 0).sum(axis=0)  # Conta recensioni per libro\n",
    "\n",
    "    if weight_strategy == 'inverse':\n",
    "        item_weights = 1.0 / (item_review_counts + 1)\n",
    "    elif weight_strategy == 'inverse_log':\n",
    "        item_weights = 1.0 / np.log(item_review_counts + 2)\n",
    "    elif weight_strategy == 'inverse_sqrt':\n",
    "        item_weights = 1.0 / np.sqrt(item_review_counts + 1)\n",
    "    else:\n",
    "        raise ValueError(\"Invalid weight strategy\")\n",
    "\n",
    "    item_weights = item_weights / item_weights.mean()\n",
    "\n",
    "    print(f\"Item weights stats:\")\n",
    "    print(f\"  Min weight: {item_weights.min():.4f}\")\n",
    "    print(f\"  Max weight: {item_weights.max():.4f}\")\n",
    "    print(f\"  Mean weight: {item_weights.mean():.4f}\")\n",
    "    print(f\"  Std weight: {item_weights.std():.4f}\")\n",
    "\n",
    "    return torch.tensor(item_weights.values, dtype=torch.float32)\n",
    "\n",
    "item_weights = compute_item_weights(df_input_data, weight_strategy='inverse_log')"
   ],
   "id": "5b8076c0bbaf97b2",
   "outputs": [
    {
     "name": "stdout",
     "output_type": "stream",
     "text": [
      "Item weights stats:\n",
      "  Min weight: 0.0731\n",
      "  Max weight: 1.0356\n",
      "  Mean weight: 1.0000\n",
      "  Std weight: 0.1793\n"
     ]
    }
   ],
   "execution_count": 80
  },
  {
   "cell_type": "markdown",
   "id": "c75c1e66",
   "metadata": {},
   "source": [
    "## Clustering"
   ]
  },
  {
   "cell_type": "code",
   "id": "78026898",
   "metadata": {
    "ExecuteTime": {
     "end_time": "2025-06-18T19:34:57.391478Z",
     "start_time": "2025-06-18T19:34:57.321544Z"
    }
   },
   "source": [
    "def string_to_list(stringa):\n",
    "    lista = [elemento.strip() for elemento in stringa.split(\",\")]\n",
    "    for i, element in enumerate(lista):\n",
    "        lista[i] = element.strip('[').strip(']').strip('\\'')\n",
    "    return lista\n",
    "\n",
    "df_books['tags_list'] = df_books['tags_list'].apply(string_to_list)"
   ],
   "outputs": [],
   "execution_count": 81
  },
  {
   "cell_type": "code",
   "id": "16968924",
   "metadata": {
    "ExecuteTime": {
     "end_time": "2025-06-18T19:34:57.688622Z",
     "start_time": "2025-06-18T19:34:57.486704Z"
    }
   },
   "source": [
    "from sklearn.feature_extraction.text import TfidfVectorizer\n",
    "\n",
    "tfidf = TfidfVectorizer()\n",
    "X = tfidf.fit_transform(df_books['tags_string'])"
   ],
   "outputs": [],
   "execution_count": 82
  },
  {
   "cell_type": "code",
   "id": "2da8f238",
   "metadata": {
    "ExecuteTime": {
     "end_time": "2025-06-18T19:34:58.185309Z",
     "start_time": "2025-06-18T19:34:57.769380Z"
    }
   },
   "source": [
    "from sklearn.cluster import KMeans\n",
    "\n",
    "k = 8\n",
    "kmeans_model = KMeans(n_clusters=k, random_state=3, max_iter=1000, n_init=10)\n",
    "df_books['cluster'] = kmeans_model.fit_predict(X)"
   ],
   "outputs": [],
   "execution_count": 83
  },
  {
   "cell_type": "code",
   "id": "68bcff54",
   "metadata": {
    "ExecuteTime": {
     "end_time": "2025-06-18T19:34:58.259483Z",
     "start_time": "2025-06-18T19:34:58.254319Z"
    }
   },
   "source": [
    "cluster_counts = df_books['cluster'].value_counts().sort_index()\n",
    "for cluster_id, count in cluster_counts.items():\n",
    "    print(f\"Cluster {cluster_id}: {count} elements\")"
   ],
   "outputs": [
    {
     "name": "stdout",
     "output_type": "stream",
     "text": [
      "Cluster 0: 247 elements\n",
      "Cluster 1: 264 elements\n",
      "Cluster 2: 318 elements\n",
      "Cluster 3: 157 elements\n",
      "Cluster 4: 269 elements\n",
      "Cluster 5: 474 elements\n",
      "Cluster 6: 56 elements\n",
      "Cluster 7: 215 elements\n"
     ]
    }
   ],
   "execution_count": 84
  },
  {
   "cell_type": "code",
   "id": "ef5c5b14",
   "metadata": {
    "ExecuteTime": {
     "end_time": "2025-06-18T19:34:58.338034Z",
     "start_time": "2025-06-18T19:34:58.333844Z"
    }
   },
   "source": [
    "def print_top_tags_per_cluster(df, top_n=20):\n",
    "\n",
    "    for cluster_id in sorted(df['cluster'].unique()):\n",
    "        tags = df[df['cluster'] == cluster_id]['tags_list'].explode()\n",
    "        tag_counts = Counter(tags)\n",
    "        most_common = tag_counts.most_common(top_n)\n",
    "        print(f\"\\nCluster {cluster_id}:\")\n",
    "        for tag, count in most_common:\n",
    "            print(f\"  {tag}\")"
   ],
   "outputs": [],
   "execution_count": 85
  },
  {
   "metadata": {
    "ExecuteTime": {
     "end_time": "2025-06-18T19:34:58.450413Z",
     "start_time": "2025-06-18T19:34:58.396464Z"
    }
   },
   "cell_type": "code",
   "source": "print_top_tags_per_cluster(df_books, top_n=10)",
   "id": "3df8db97",
   "outputs": [
    {
     "name": "stdout",
     "output_type": "stream",
     "text": [
      "\n",
      "Cluster 0:\n",
      "  sci-fi-fantasy\n",
      "  fantasy\n",
      "  favorites\n",
      "  fiction\n",
      "  books-i-own\n",
      "  currently-reading\n",
      "  library\n",
      "  owned\n",
      "  owned-books\n",
      "  favourites\n",
      "\n",
      "Cluster 1:\n",
      "  owned\n",
      "  owned-books\n",
      "  books-i-own\n",
      "  library\n",
      "  currently-reading\n",
      "  to-buy\n",
      "  favorites\n",
      "  default\n",
      "  my-library\n",
      "  non-fiction\n",
      "\n",
      "Cluster 2:\n",
      "  fantasy\n",
      "  owned\n",
      "  fiction\n",
      "  books-i-own\n",
      "  favorites\n",
      "  i-own\n",
      "  currently-reading\n",
      "  library\n",
      "  series\n",
      "  favourites\n",
      "\n",
      "Cluster 3:\n",
      "  mystery\n",
      "  favorites\n",
      "  mystery-thriller\n",
      "  kindle\n",
      "  ebook\n",
      "  fiction\n",
      "  books-i-own\n",
      "  owned-books\n",
      "  currently-reading\n",
      "  thriller\n",
      "\n",
      "Cluster 4:\n",
      "  fiction\n",
      "  favorites\n",
      "  literature\n",
      "  books-i-own\n",
      "  owned\n",
      "  my-books\n",
      "  to-buy\n",
      "  default\n",
      "  adult\n",
      "  my-library\n",
      "\n",
      "Cluster 5:\n",
      "  favorites\n",
      "  fiction\n",
      "  owned\n",
      "  books-i-own\n",
      "  currently-reading\n",
      "  owned-books\n",
      "  library\n",
      "  contemporary\n",
      "  kindle\n",
      "  to-buy\n",
      "\n",
      "Cluster 6:\n",
      "  fiction\n",
      "  owned\n",
      "  library\n",
      "  my-library\n",
      "  fantasy\n",
      "  suspense\n",
      "  adult\n",
      "  my-books\n",
      "  ebooks\n",
      "  currently-reading\n",
      "\n",
      "Cluster 7:\n",
      "  children-s\n",
      "  children-s-lit\n",
      "  favorites\n",
      "  kids-books\n",
      "  fiction\n",
      "  childrens\n",
      "  childrens-books\n",
      "  children\n",
      "  books-i-own\n",
      "  owned\n"
     ]
    }
   ],
   "execution_count": 86
  },
  {
   "metadata": {},
   "cell_type": "markdown",
   "source": "## Training",
   "id": "de4873d3"
  },
  {
   "metadata": {
    "ExecuteTime": {
     "end_time": "2025-06-18T19:34:58.465963Z",
     "start_time": "2025-06-18T19:34:58.459393Z"
    }
   },
   "cell_type": "code",
   "source": [
    "class Spatial_F_AE(nn.Module):\n",
    "    def __init__(self,k):\n",
    "        super(Spatial_F_AE, self).__init__()\n",
    "        self.encoder = nn.Sequential(\n",
    "            nn.Linear(k,500),\n",
    "            nn.ReLU(),\n",
    "            nn.Linear(500,250),\n",
    "            nn.ReLU(),\n",
    "            nn.Linear(250,125),\n",
    "            nn.ReLU(),\n",
    "            nn.Linear(125,50),\n",
    "            nn.ReLU(),\n",
    "            nn.Linear(50,2)\n",
    "        )\n",
    "        self.decoder = nn.Sequential(\n",
    "            nn.Linear(2,50),\n",
    "            nn.ReLU(),\n",
    "            nn.Linear(50,125),\n",
    "            nn.ReLU(),\n",
    "            nn.Linear(125,250),\n",
    "            nn.ReLU(),\n",
    "            nn.Linear(250,500),\n",
    "            nn.ReLU(),\n",
    "            nn.Linear(500,k),\n",
    "            nn.Sigmoid(),\n",
    "        )\n",
    "    def forward(self,x):\n",
    "        z = self.encoder(x)\n",
    "        final = self.decoder(z)\n",
    "        return final"
   ],
   "id": "9c0e4058",
   "outputs": [],
   "execution_count": 87
  },
  {
   "metadata": {
    "ExecuteTime": {
     "end_time": "2025-06-18T19:34:58.525243Z",
     "start_time": "2025-06-18T19:34:58.518987Z"
    }
   },
   "cell_type": "code",
   "source": [
    "def train(model, dataloader, criterion, optimizer, num_epochs, item_weights=None, scheduler=None, best_loss=float('inf')):\n",
    "    device = torch.device('cuda' if torch.cuda.is_available() else 'cpu')\n",
    "    losses = []\n",
    "    model.to(device)\n",
    "\n",
    "    # Sposta i pesi degli item sul device\n",
    "    if item_weights is not None:\n",
    "        item_weights = item_weights.to(device)\n",
    "\n",
    "    for epoch in range(num_epochs):\n",
    "        model.train()\n",
    "        running_loss = 0.0\n",
    "        for i, batch in enumerate(dataloader):\n",
    "            inputs = batch[0]\n",
    "            inputs = inputs.to(device)\n",
    "            recon = model(inputs)\n",
    "\n",
    "            if item_weights is not None:\n",
    "                # Calcola la loss pesata per item\n",
    "                squared_errors = (recon - inputs) ** 2\n",
    "                weighted_errors = squared_errors * item_weights.unsqueeze(0)  # Broadcast sui batch\n",
    "                loss = weighted_errors.mean()\n",
    "            else:\n",
    "                # Loss standard\n",
    "                loss = criterion(recon, inputs)\n",
    "\n",
    "            optimizer.zero_grad()\n",
    "            loss.backward()\n",
    "            optimizer.step()\n",
    "\n",
    "            if scheduler is not None:\n",
    "                scheduler.step(loss.item())\n",
    "            running_loss += loss.item()\n",
    "\n",
    "        losses.append(running_loss / (i + 1))\n",
    "        if running_loss < best_loss:\n",
    "            best_loss = running_loss\n",
    "            torch.save(model.state_dict(), 'best_model.pth')\n",
    "        print(f\"Epoch {epoch+1}: Loss = {running_loss / (i + 1):.10f}\")\n",
    "    return losses"
   ],
   "id": "85667552",
   "outputs": [],
   "execution_count": 88
  },
  {
   "metadata": {
    "ExecuteTime": {
     "end_time": "2025-06-18T19:34:58.629110Z",
     "start_time": "2025-06-18T19:34:58.624556Z"
    }
   },
   "cell_type": "code",
   "source": [
    "def loss_graph(tr_loss,n_epochs):\n",
    "    plt.plot(range(n_epochs),tr_loss,label='tr_loss', c='black')\n",
    "    plt.xlabel('Epochs')\n",
    "    plt.ylabel('Loss')\n",
    "    plt.title('Loss over Epochs')\n",
    "    plt.legend()\n",
    "    plt.show()"
   ],
   "id": "fc5c327f",
   "outputs": [],
   "execution_count": 89
  },
  {
   "cell_type": "code",
   "id": "9c295695",
   "metadata": {
    "ExecuteTime": {
     "end_time": "2025-06-18T19:34:58.790984Z",
     "start_time": "2025-06-18T19:34:58.694200Z"
    }
   },
   "source": [
    "tensor_data = torch.tensor(df_input_data.values, dtype=torch.float32)\n",
    "dataset = torch.utils.data.TensorDataset(tensor_data)\n",
    "dataloader = torch.utils.data.DataLoader(dataset, batch_size=32, shuffle=True)\n",
    "model = Spatial_F_AE(Books_number)"
   ],
   "outputs": [],
   "execution_count": 90
  },
  {
   "cell_type": "markdown",
   "id": "d8b56d43",
   "metadata": {},
   "source": [
    "It the model is already trained and you see the best_model.pth file in the repository you can avoid retraining and run the followinc cell to sideload the weights of the model"
   ]
  },
  {
   "cell_type": "code",
   "id": "9423daa4",
   "metadata": {
    "ExecuteTime": {
     "end_time": "2025-06-18T19:34:58.856646Z",
     "start_time": "2025-06-18T19:34:58.852974Z"
    }
   },
   "source": [
    "# model.load_state_dict(torch.load('best_model.pth'))"
   ],
   "outputs": [],
   "execution_count": 91
  },
  {
   "cell_type": "markdown",
   "id": "ab8f65ca",
   "metadata": {},
   "source": [
    "Actual train of the model:"
   ]
  },
  {
   "cell_type": "code",
   "id": "7d543211",
   "metadata": {
    "ExecuteTime": {
     "end_time": "2025-06-18T19:37:23.830734Z",
     "start_time": "2025-06-18T19:34:58.921211Z"
    }
   },
   "source": [
    "criterion = nn.MSELoss()\n",
    "N_Epochs = 5\n",
    "optimizer = torch.optim.Adam(model.parameters(), lr = 0.001)\n",
    "scheduler = torch.optim.lr_scheduler.ReduceLROnPlateau(optimizer, mode='min', factor=0.1, patience=2)\n",
    "\n",
    "losses = train(model, dataloader, criterion, optimizer, N_Epochs, item_weights, scheduler)\n",
    "loss_graph(losses, N_Epochs)"
   ],
   "outputs": [
    {
     "name": "stdout",
     "output_type": "stream",
     "text": [
      "Epoch 1: Loss = 0.0018656808\n",
      "Epoch 2: Loss = 0.0002055560\n",
      "Epoch 3: Loss = 0.0002054906\n",
      "Epoch 4: Loss = 0.0002053852\n",
      "Epoch 5: Loss = 0.0002052664\n"
     ]
    },
    {
     "data": {
      "text/plain": [
       "<Figure size 640x480 with 1 Axes>"
      ],
      "image/png": "[encoded data removed]"
     },
     "metadata": {},
     "output_type": "display_data"
    }
   ],
   "execution_count": 92
  },
  {
   "metadata": {},
   "cell_type": "markdown",
   "source": "## Find Recommendations",
   "id": "c0dbb325"
  },
  {
   "metadata": {
    "ExecuteTime": {
     "end_time": "2025-06-18T19:37:29.671612Z",
     "start_time": "2025-06-18T19:37:29.666526Z"
    }
   },
   "cell_type": "code",
   "source": [
    "def recommendations(user, model, n=25):\n",
    "    model.eval()\n",
    "    recon = model(user)\n",
    "\n",
    "    recon_masked = recon.clone()\n",
    "    recon_masked[user != 0] = float('-inf')  # Escludi libri già valutati\n",
    "\n",
    "    _, new_books = torch.topk(recon_masked, n)\n",
    "    new_books = new_books.tolist()\n",
    "\n",
    "    new_books_map = [mapping_pos_to_books[pos] for pos in new_books]\n",
    "    new_titles = [df_books[df_books['goodreads_book_id'] == id].values.tolist()[0][5] for id in new_books_map]\n",
    "\n",
    "    return new_titles, new_books_map"
   ],
   "id": "9698fbcb",
   "outputs": [],
   "execution_count": 98
  },
  {
   "metadata": {
    "ExecuteTime": {
     "end_time": "2025-06-18T19:37:24.010731Z",
     "start_time": "2025-06-18T19:37:24.005531Z"
    }
   },
   "cell_type": "code",
   "source": [
    "def print_users_ratings(us):\n",
    "    utente = df_ratings[df_ratings['user_id'] == us]\n",
    "    utente = utente[['book_id', 'rating']].sort_values(by='rating', ascending=False)\n",
    "\n",
    "    for book_id, rating in utente.values:\n",
    "        if book_id in df_books['goodreads_book_id'].values:\n",
    "            book_title = df_books[df_books['goodreads_book_id'] == book_id]['title'].values[0]\n",
    "            print(f\"{book_title},   {rating}\")"
   ],
   "id": "71237943f10f8c7f",
   "outputs": [],
   "execution_count": 94
  },
  {
   "metadata": {
    "ExecuteTime": {
     "end_time": "2025-06-18T19:37:24.082126Z",
     "start_time": "2025-06-18T19:37:24.077218Z"
    }
   },
   "cell_type": "code",
   "source": [
    "def print_recommendations(user, n=25):\n",
    "    if isinstance(user, int):\n",
    "        rec, rec_id = recommendations(dataloader.dataset[user][0], model, n)\n",
    "    else:\n",
    "        rec, rec_id = recommendations(user, model, n)\n",
    "\n",
    "    print(\"#############################################\\n\")\n",
    "    print(f\"Top {n} recommendations for user {user}\\n\")\n",
    "    [print(i) for i in rec]\n",
    "    print(\"\\n#############################################\")"
   ],
   "id": "cf7b87b3",
   "outputs": [],
   "execution_count": 95
  },
  {
   "cell_type": "markdown",
   "id": "3b6bb16e",
   "metadata": {},
   "source": [
    "## Generate new user"
   ]
  },
  {
   "cell_type": "code",
   "id": "b8272f20",
   "metadata": {
    "ExecuteTime": {
     "end_time": "2025-06-18T19:37:24.173481Z",
     "start_time": "2025-06-18T19:37:24.168444Z"
    }
   },
   "source": [
    "n_best_books_for_cluster = 2\n",
    "min_n_chosen = 3\n",
    "\n",
    "def find_bestbooks(n_best_books_for_cluster=n_best_books_for_cluster):\n",
    "    books = []\n",
    "    for cluster in df_books['cluster'].unique():\n",
    "        top_books = df_books[df_books['cluster'] == cluster].nlargest(n_best_books_for_cluster, 'work_ratings_count')\n",
    "        books.extend(top_books['goodreads_book_id'].tolist())\n",
    "    return books\n",
    "\n",
    "def user_from_ids(books_ids):\n",
    "    user_preferences = np.zeros(n_books)\n",
    "    for book_id in books_ids:\n",
    "        if book_id in mapping_books_to_pos:\n",
    "            user_preferences[mapping_books_to_pos[book_id]] = 1\n",
    "    return torch.tensor(user_preferences, dtype=torch.float32)"
   ],
   "outputs": [],
   "execution_count": 96
  },
  {
   "metadata": {
    "ExecuteTime": {
     "end_time": "2025-06-18T19:37:42.673131Z",
     "start_time": "2025-06-18T19:37:36.066828Z"
    }
   },
   "cell_type": "code",
   "source": [
    "print(f\"Choose more than {min_n_chosen} books from the following list:\\n\")\n",
    "book_ids = find_bestbooks()\n",
    "ids = []\n",
    "for i, book in enumerate(book_ids):\n",
    "    print(f\"{i + 1}. {df_books[df_books['goodreads_book_id'] == book]['title'].values[0]}\")\n",
    "    ids.append(book)\n",
    "\n",
    "chosen_books = input(\"\\nEnter numbers separated by commas: \")\n",
    "chosen_books = [int(x) for x in chosen_books.split(\",\")]\n",
    "chosen_ids = []\n",
    "\n",
    "for element in chosen_books:\n",
    "    chosen_ids.append(ids[element - 1])\n",
    "    print (f\"Chosen book: {df_books[df_books['goodreads_book_id'] == chosen_ids[-1]]['title'].values[0]}\")"
   ],
   "id": "974601e0cb0ff5",
   "outputs": [
    {
     "name": "stdout",
     "output_type": "stream",
     "text": [
      "Choose more than 3 books from the following list:\n",
      "\n",
      "1. The Hunger Games (The Hunger Games, #1)\n",
      "2. Harry Potter and the Sorcerer's Stone (Harry Potter, #1)\n",
      "3. To Kill a Mockingbird\n",
      "4. The Great Gatsby\n",
      "5. The Fault in Our Stars\n",
      "6. The Kite Runner\n",
      "7. The Hobbit\n",
      "8. The Fellowship of the Ring (The Lord of the Rings, #1)\n",
      "9. Angels & Demons  (Robert Langdon, #1)\n",
      "10. The Girl with the Dragon Tattoo (Millennium, #1)\n",
      "11. The Diary of a Young Girl\n",
      "12. Eat, Pray, Love\n",
      "13. The Lion, the Witch, and the Wardrobe (Chronicles of Narnia, #1)\n",
      "14. The Giver (The Giver, #1)\n",
      "15. The Shining (The Shining #1)\n",
      "16. It\n",
      "Chosen book: The Shining (The Shining #1)\n",
      "Chosen book: It\n",
      "Chosen book: The Hunger Games (The Hunger Games, #1)\n"
     ]
    }
   ],
   "execution_count": 99
  },
  {
   "metadata": {
    "ExecuteTime": {
     "end_time": "2025-06-18T19:37:44.971789Z",
     "start_time": "2025-06-18T19:37:44.948403Z"
    }
   },
   "cell_type": "code",
   "source": [
    "if len(chosen_books) < min_n_chosen:\n",
    "    print(f\"Please choose at least {min_n_chosen} books.\")\n",
    "else:\n",
    "    print_recommendations(user_from_ids(chosen_ids), n=50)"
   ],
   "id": "3f1f121abe80b783",
   "outputs": [
    {
     "name": "stdout",
     "output_type": "stream",
     "text": [
      "#############################################\n",
      "\n",
      "Top 50 recommendations for user tensor([1., 0., 0.,  ..., 0., 0., 0.])\n",
      "\n",
      "Harry Potter and the Sorcerer's Stone (Harry Potter, #1)\n",
      "Harry Potter and the Order of the Phoenix (Harry Potter, #5)\n",
      "Harry Potter and the Prisoner of Azkaban (Harry Potter, #3)\n",
      "Harry Potter and the Goblet of Fire (Harry Potter, #4)\n",
      "Harry Potter and the Half-Blood Prince (Harry Potter, #6)\n",
      "Pride and Prejudice\n",
      "The Cat in the Hat\n",
      "Night (The Night Trilogy #1)\n",
      "The Fellowship of the Ring (The Lord of the Rings, #1)\n",
      "Girls in Pants: The Third Summer of the Sisterhood (Sisterhood, #3)\n",
      "Angels & Demons  (Robert Langdon, #1)\n",
      "The Witch of Blackbird Pond\n",
      "The Lord of the Rings (The Lord of the Rings, #1-3)\n",
      "The Hitchhiker's Guide to the Galaxy (Hitchhiker's Guide to the Galaxy, #1)\n",
      "To the Lighthouse\n",
      "Brave New World / Brave New World Revisited\n",
      "The Complete Sherlock Holmes, Vol 2\n",
      "Three Cups of Tea: One Man's Mission to Promote Peace ... One School at a Time\n",
      "The Vincent Boys (The Vincent Boys, #1)\n",
      "Grey (Fifty Shades, #4)\n",
      "Hatchet (Brian's Saga, #1)\n",
      "The Richest Man in Babylon\n",
      "Keeping Faith\n",
      "The Stinky Cheese Man and Other Fairly Stupid Tales\n",
      "Keeping the Moon\n",
      "The Secret of Ella and Micha (The Secret, #1)\n",
      "The Devil Wears Prada (The Devil Wears Prada, #1)\n",
      "The Awakening (Darkest Powers, #2)\n",
      "Deadlocked (Sookie Stackhouse, #12)\n",
      "Colorless Tsukuru Tazaki and His Years of Pilgrimage\n",
      "Einstein: His Life and Universe\n",
      "All Together Dead (Sookie Stackhouse, #7)\n",
      "What If?: Serious Scientific Answers to Absurd Hypothetical Questions\n",
      "The Goldfinch\n",
      "Of Mice and Men\n",
      "Pollyanna (Pollyanna, #1)\n",
      "One Thousand White Women: The Journals of May Dodd (One Thousand White Women#1)\n",
      "Frankenstein\n",
      "The Titan's Curse (Percy Jackson and the Olympians, #3)\n",
      "The Darkest Minds (The Darkest Minds, #1)\n",
      "Twilight (Twilight, #1)\n",
      "Shantaram\n",
      "A Dirty Job (Grim Reaper, #1)\n",
      "Dead and Gone (Sookie Stackhouse, #9)\n",
      "Sh*t My Dad Says\n",
      "Holes (Holes, #1)\n",
      "White Night (The Dresden Files, #9)\n",
      "The Complete Stories and Poems\n",
      "A Midsummer Night's Dream\n",
      "Clifford the Big Red Dog\n",
      "\n",
      "#############################################\n"
     ]
    }
   ],
   "execution_count": 100
  },
  {
   "cell_type": "markdown",
   "id": "0babcdb3",
   "metadata": {},
   "source": [
    "## Evaluating"
   ]
  },
  {
   "cell_type": "code",
   "id": "3cd31f29",
   "metadata": {
    "ExecuteTime": {
     "end_time": "2025-06-18T19:37:53.438950Z",
     "start_time": "2025-06-18T19:37:53.434650Z"
    }
   },
   "source": [
    "def user_refinding(model,user):\n",
    "    rating_pos = user[user == 1.0]\n",
    "    if len(rating_pos) != 0:\n",
    "        removed_pos = rating_pos[:int(len(rating_pos)/5)+1]\n",
    "        removed_books = [mapping_pos_to_books[elem] for elem in removed_pos.tolist()]\n",
    "        _, diff_id = recommendations(user, model)\n",
    "        diff = list(set(removed_books) - set(diff_id))\n",
    "        return len(diff)/len(removed_books), len(removed_books)\n",
    "    else:\n",
    "        return 0,0"
   ],
   "outputs": [],
   "execution_count": 101
  },
  {
   "cell_type": "code",
   "id": "1dd70ed9",
   "metadata": {
    "ExecuteTime": {
     "end_time": "2025-06-18T19:43:51.112008Z",
     "start_time": "2025-06-18T19:37:54.911596Z"
    }
   },
   "source": [
    "from tqdm import tqdm\n",
    "\n",
    "device = torch.device('cuda' if torch.cuda.is_available() else 'cpu')\n",
    "sum = 0\n",
    "for i in tqdm(range(len(mapping_users_to_pos)), desc=\"Evaluating users\"):\n",
    "    user_tensor = dataloader.dataset[i][0].to(device)\n",
    "    len_ratio, _ = user_refinding(model, user_tensor)\n",
    "    sum += len_ratio\n",
    "print('On avg we refind: ', sum/len(mapping_users_to_pos), \"% of the removed items\")"
   ],
   "outputs": [
    {
     "name": "stderr",
     "output_type": "stream",
     "text": [
      "Evaluating users: 100%|██████████| 48939/48939 [05:56<00:00, 137.40it/s]"
     ]
    },
    {
     "name": "stdout",
     "output_type": "stream",
     "text": [
      "On avg we refind:  0.21513040043046833 % of the removed items\n"
     ]
    },
    {
     "name": "stderr",
     "output_type": "stream",
     "text": [
      "\n"
     ]
    }
   ],
   "execution_count": 102
  },
  {
   "cell_type": "markdown",
   "id": "b1fce1e4",
   "metadata": {},
   "source": [
    "## Example of use"
   ]
  },
  {
   "metadata": {
    "ExecuteTime": {
     "end_time": "2025-06-18T19:45:01.883799Z",
     "start_time": "2025-06-18T19:45:01.858522Z"
    }
   },
   "cell_type": "code",
   "source": "print_users_ratings(78)",
   "id": "2d323e7c03be707e",
   "outputs": [
    {
     "name": "stdout",
     "output_type": "stream",
     "text": [
      "The Brothers Karamazov,   5\n",
      "Waiting for Godot,   5\n",
      "Dubliners,   5\n",
      "A Portrait of the Artist as a Young Man,   5\n",
      "The Return of the King (The Lord of the Rings, #3),   5\n",
      "The Master and Margarita,   5\n",
      "The Picture of Dorian Gray,   5\n",
      "The Prince,   5\n",
      "The Idiot,   5\n",
      "For Whom the Bell Tolls,   4\n",
      "On the Road,   4\n",
      "Macbeth,   4\n",
      "J.R.R. Tolkien 4-Book Boxed Set: The Hobbit and The Lord of the Rings,   4\n",
      "The Old Man and the Sea,   4\n",
      "The Fellowship of the Ring (The Lord of the Rings, #1),   4\n",
      "The Hobbit,   4\n",
      "Kafka on the Shore,   4\n",
      "Good Omens: The Nice and Accurate Prophecies of Agnes Nutter, Witch,   4\n",
      "The Amber Spyglass (His Dark Materials, #3),   4\n",
      "American Gods (American Gods, #1),   4\n",
      "Thus Spoke Zarathustra,   4\n",
      "One Hundred Years of Solitude,   4\n",
      "The Wind-Up Bird Chronicle,   3\n",
      "Dracula,   3\n",
      "Ender's Game (Ender's Saga, #1),   3\n",
      "The Complete Stories and Poems,   3\n",
      "Persepolis: The Story of a Childhood (Persepolis, #1),   3\n",
      "Anansi Boys,   3\n",
      "The Hitchhiker's Guide to the Galaxy (Hitchhiker's Guide to the Galaxy, #1),   3\n",
      "His Dark Materials (His Dark Materials #1-3),   3\n",
      "The Subtle Knife (His Dark Materials, #2),   3\n",
      "The Two Towers (The Lord of the Rings, #2),   3\n",
      "Crime and Punishment,   3\n",
      "Dune (Dune Chronicles #1),   3\n",
      "The Trial,   3\n",
      "A Brief History of Time,   3\n",
      "The Communist Manifesto,   3\n",
      "Dune Messiah (Dune Chronicles #2),   3\n",
      "The Golden Compass (His Dark Materials, #1),   3\n",
      "Brave New World,   2\n",
      "Animal Farm,   2\n",
      "Blindness,   2\n",
      "1984,   2\n",
      "The Sound and the Fury,   2\n",
      "The Little Prince,   2\n",
      "Sophie's World,   2\n",
      "Siddhartha,   1\n",
      "Harry Potter and the Chamber of Secrets (Harry Potter, #2),   1\n"
     ]
    }
   ],
   "execution_count": 105
  },
  {
   "cell_type": "code",
   "id": "6f3366cf",
   "metadata": {
    "ExecuteTime": {
     "end_time": "2025-06-18T19:45:31.554167Z",
     "start_time": "2025-06-18T19:45:31.539236Z"
    }
   },
   "source": "print_recommendations(78, 20)",
   "outputs": [
    {
     "name": "stdout",
     "output_type": "stream",
     "text": [
      "#############################################\n",
      "\n",
      "Top 20 recommendations for user 78\n",
      "\n",
      "Harry Potter and the Order of the Phoenix (Harry Potter, #5)\n",
      "Harry Potter and the Half-Blood Prince (Harry Potter, #6)\n",
      "The Cat in the Hat\n",
      "Girls in Pants: The Third Summer of the Sisterhood (Sisterhood, #3)\n",
      "Angels & Demons  (Robert Langdon, #1)\n",
      "The Lord of the Rings (The Lord of the Rings, #1-3)\n",
      "The Witch of Blackbird Pond\n",
      "To the Lighthouse\n",
      "The Complete Sherlock Holmes, Vol 2\n",
      "Brave New World / Brave New World Revisited\n",
      "The Vincent Boys (The Vincent Boys, #1)\n",
      "Three Cups of Tea: One Man's Mission to Promote Peace ... One School at a Time\n",
      "Grey (Fifty Shades, #4)\n",
      "The Richest Man in Babylon\n",
      "The Stinky Cheese Man and Other Fairly Stupid Tales\n",
      "Hatchet (Brian's Saga, #1)\n",
      "The Devil Wears Prada (The Devil Wears Prada, #1)\n",
      "Keeping Faith\n",
      "The Secret of Ella and Micha (The Secret, #1)\n",
      "Keeping the Moon\n",
      "\n",
      "#############################################\n"
     ]
    }
   ],
   "execution_count": 106
  }
 ],
 "metadata": {
  "kernelspec": {
   "display_name": "venv",
   "language": "python",
   "name": "python3"
  },
  "language_info": {
   "codemirror_mode": {
    "name": "ipython",
    "version": 3
   },
   "file_extension": ".py",
   "mimetype": "text/x-python",
   "name": "python",
   "nbconvert_exporter": "python",
   "pygments_lexer": "ipython3",
   "version": "3.9.20"
  }
 },
 "nbformat": 4,
 "nbformat_minor": 5
}
