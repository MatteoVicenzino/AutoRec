{
 "cells": [
  {
   "cell_type": "markdown",
   "id": "7133b4e8",
   "metadata": {},
   "source": [
    "# Autoencoder Recommendation System"
   ]
  },
  {
   "cell_type": "code",
   "id": "1a1b0094",
   "metadata": {
    "ExecuteTime": {
     "end_time": "2025-06-18T14:43:41.485380Z",
     "start_time": "2025-06-18T14:43:20.933812Z"
    }
   },
   "source": [
    "import pandas as pd\n",
    "import numpy as np\n",
    "import matplotlib.pyplot as plt\n",
    "import math\n",
    "from time import time\n",
    "from collections import Counter\n",
    "import ast\n",
    "\n",
    "import torch\n",
    "import torch.nn as nn \n",
    "import torch.nn.functional as F \n",
    "import torchvision \n",
    "import torch.utils.data as data\n",
    "import torch.distributions as dist"
   ],
   "outputs": [],
   "execution_count": 1
  },
  {
   "cell_type": "markdown",
   "id": "1f678c39",
   "metadata": {},
   "source": [
    "## Data Preparation"
   ]
  },
  {
   "cell_type": "code",
   "id": "96d9330b",
   "metadata": {
    "ExecuteTime": {
     "end_time": "2025-06-18T14:43:41.948799Z",
     "start_time": "2025-06-18T14:43:41.504388Z"
    }
   },
   "source": [
    "df_books = pd.read_csv('books_autorec.csv')\n",
    "df_books.sort_values(by='ratings_count', ascending=False, inplace=True)\n",
    "Books_number = 2000\n",
    "df_books = df_books.iloc[:Books_number]\n",
    "df_books['goodreads_book_id'] = df_books['goodreads_book_id'].astype(int)\n",
    "book_ids = df_books['goodreads_book_id']"
   ],
   "outputs": [],
   "execution_count": 2
  },
  {
   "cell_type": "code",
   "id": "34cad950",
   "metadata": {
    "ExecuteTime": {
     "end_time": "2025-06-18T14:44:06.244035Z",
     "start_time": "2025-06-18T14:43:42.335796Z"
    }
   },
   "source": [
    "df = pd.read_csv(\"books_autorec.csv\")\n",
    "df_ratings = pd.read_csv(\"ratings_autorec.csv\")\n",
    "\n",
    "modified_df_ratings = df_ratings.merge(\n",
    "    df[['goodreads_book_id']], \n",
    "    left_on='book_id', \n",
    "    right_on='goodreads_book_id', \n",
    "    how='left'\n",
    ")\n",
    "\n",
    "# create dictionary with user and ratings\n",
    "sparse_users = {}\n",
    "for user_id, group in modified_df_ratings.groupby('user_id'):\n",
    "    modified_books_ratings = group[['book_id', 'rating']].values.tolist()\n",
    "    sparse_users[user_id] = modified_books_ratings\n",
    "\n",
    "filter_users = {\n",
    "    user: [triplet for triplet in triplets if triplet[0] in book_ids]\n",
    "    for user, triplets in sparse_users.items()\n",
    "}\n",
    "filter_users = {user: triplets for user, triplets in filter_users.items() if triplets}\n",
    "#user taken\n",
    "taken_users = 50000\n",
    "filter_users = sorted(filter_users.items(), key=lambda x: len(x[1]), reverse=True)[:taken_users]\n",
    "filter_users = dict(filter_users)"
   ],
   "outputs": [],
   "execution_count": 3
  },
  {
   "cell_type": "code",
   "id": "c33aeea5",
   "metadata": {
    "ExecuteTime": {
     "end_time": "2025-06-18T14:44:06.306108Z",
     "start_time": "2025-06-18T14:44:06.277865Z"
    }
   },
   "source": [
    "mapping_pos_to_books = dict(zip(range(Books_number), book_ids))\n",
    "mapping_books_to_pos = dict(zip(book_ids,range(Books_number)))\n",
    "mapping_pos_to_users = dict(zip(range(taken_users), filter_users.keys()))\n",
    "mapping_users_to_pos = dict(zip(filter_users.keys(),range(taken_users)))"
   ],
   "outputs": [],
   "execution_count": 4
  },
  {
   "cell_type": "code",
   "id": "750eb98c",
   "metadata": {
    "ExecuteTime": {
     "end_time": "2025-06-18T14:44:39.163744Z",
     "start_time": "2025-06-18T14:44:06.352797Z"
    }
   },
   "source": [
    "n_books = len(mapping_books_to_pos)\n",
    "user_vectors = []\n",
    "for user_id, book_rating in filter_users.items():\n",
    "    vector = np.zeros(n_books)  # initialize vector with zeros\n",
    "\n",
    "    for book_id, rating in book_rating:\n",
    "        if book_id in mapping_books_to_pos:  # if book_id is in the mapping\n",
    "            index = mapping_books_to_pos[book_id]\n",
    "            vector[index] = rating  # insert rating in the correct position\n",
    "\n",
    "    user_vectors.append(vector)\n",
    "    \n",
    "print(\"Number of Users\", len(user_vectors))\n",
    "print(\"Number of Books\", len(user_vectors[0]))\n",
    "for i in range(len(user_vectors)):\n",
    "    user_vectors[i] = [0 if elem < 3 else 1 for elem in user_vectors[i]]\n",
    "print(\"Example of a user: \", user_vectors[0][:20])\n",
    "df_input_data = pd.DataFrame(user_vectors)"
   ],
   "outputs": [
    {
     "name": "stdout",
     "output_type": "stream",
     "text": [
      "Number of Users 48939\n",
      "Number of Books 2000\n",
      "Example of a user:  [0, 1, 0, 0, 0, 0, 0, 0, 1, 1, 0, 0, 0, 0, 1, 0, 0, 0, 0, 1]\n"
     ]
    }
   ],
   "execution_count": 5
  },
  {
   "cell_type": "markdown",
   "id": "c75c1e66",
   "metadata": {},
   "source": [
    "## Clustering"
   ]
  },
  {
   "cell_type": "code",
   "id": "78026898",
   "metadata": {
    "ExecuteTime": {
     "end_time": "2025-06-18T14:44:39.287992Z",
     "start_time": "2025-06-18T14:44:39.225856Z"
    }
   },
   "source": [
    "def string_to_list(stringa):\n",
    "    lista = [elemento.strip() for elemento in stringa.split(\",\")]\n",
    "    for i, element in enumerate(lista):\n",
    "        lista[i] = element.strip('[').strip(']').strip('\\'')\n",
    "    return lista\n",
    "\n",
    "df_books['tags_list'] = df_books['tags_list'].apply(string_to_list)"
   ],
   "outputs": [],
   "execution_count": 6
  },
  {
   "cell_type": "code",
   "id": "16968924",
   "metadata": {
    "ExecuteTime": {
     "end_time": "2025-06-18T14:44:49.720879Z",
     "start_time": "2025-06-18T14:44:39.370570Z"
    }
   },
   "source": [
    "from sklearn.feature_extraction.text import TfidfVectorizer\n",
    "\n",
    "tfidf = TfidfVectorizer()\n",
    "X = tfidf.fit_transform(df_books['tags_string'])"
   ],
   "outputs": [],
   "execution_count": 7
  },
  {
   "cell_type": "code",
   "id": "2da8f238",
   "metadata": {
    "ExecuteTime": {
     "end_time": "2025-06-18T14:44:52.633721Z",
     "start_time": "2025-06-18T14:44:49.784357Z"
    }
   },
   "source": [
    "from sklearn.cluster import KMeans\n",
    "\n",
    "k = 8\n",
    "kmeans_model = KMeans(n_clusters=k, random_state=3, max_iter=1000, n_init=10)\n",
    "df_books['cluster'] = kmeans_model.fit_predict(X)"
   ],
   "outputs": [],
   "execution_count": 8
  },
  {
   "cell_type": "code",
   "id": "68bcff54",
   "metadata": {
    "ExecuteTime": {
     "end_time": "2025-06-18T14:44:52.711735Z",
     "start_time": "2025-06-18T14:44:52.704062Z"
    }
   },
   "source": [
    "cluster_counts = df_books['cluster'].value_counts().sort_index()\n",
    "for cluster_id, count in cluster_counts.items():\n",
    "    print(f\"Cluster {cluster_id}: {count} elements\")"
   ],
   "outputs": [
    {
     "name": "stdout",
     "output_type": "stream",
     "text": [
      "Cluster 0: 247 elements\n",
      "Cluster 1: 264 elements\n",
      "Cluster 2: 318 elements\n",
      "Cluster 3: 157 elements\n",
      "Cluster 4: 269 elements\n",
      "Cluster 5: 474 elements\n",
      "Cluster 6: 56 elements\n",
      "Cluster 7: 215 elements\n"
     ]
    }
   ],
   "execution_count": 9
  },
  {
   "cell_type": "code",
   "id": "ef5c5b14",
   "metadata": {
    "ExecuteTime": {
     "end_time": "2025-06-18T14:44:52.783798Z",
     "start_time": "2025-06-18T14:44:52.779127Z"
    }
   },
   "source": [
    "def print_top_tags_per_cluster(df, top_n=20):\n",
    "\n",
    "    for cluster_id in sorted(df['cluster'].unique()):\n",
    "        tags = df[df['cluster'] == cluster_id]['tags_list'].explode()\n",
    "        tag_counts = Counter(tags)\n",
    "        most_common = tag_counts.most_common(top_n)\n",
    "        print(f\"\\nCluster {cluster_id}:\")\n",
    "        for tag, count in most_common:\n",
    "            print(f\"  {tag}\")"
   ],
   "outputs": [],
   "execution_count": 10
  },
  {
   "cell_type": "code",
   "id": "3df8db97",
   "metadata": {
    "ExecuteTime": {
     "end_time": "2025-06-18T14:44:52.885426Z",
     "start_time": "2025-06-18T14:44:52.841800Z"
    }
   },
   "source": [
    "print_top_tags_per_cluster(df_books, top_n=10)"
   ],
   "outputs": [
    {
     "name": "stdout",
     "output_type": "stream",
     "text": [
      "\n",
      "Cluster 0:\n",
      "  sci-fi-fantasy\n",
      "  fantasy\n",
      "  favorites\n",
      "  fiction\n",
      "  books-i-own\n",
      "  currently-reading\n",
      "  library\n",
      "  owned\n",
      "  owned-books\n",
      "  favourites\n",
      "\n",
      "Cluster 1:\n",
      "  owned\n",
      "  owned-books\n",
      "  books-i-own\n",
      "  library\n",
      "  currently-reading\n",
      "  to-buy\n",
      "  favorites\n",
      "  default\n",
      "  my-library\n",
      "  non-fiction\n",
      "\n",
      "Cluster 2:\n",
      "  fantasy\n",
      "  owned\n",
      "  fiction\n",
      "  books-i-own\n",
      "  favorites\n",
      "  i-own\n",
      "  currently-reading\n",
      "  library\n",
      "  series\n",
      "  favourites\n",
      "\n",
      "Cluster 3:\n",
      "  mystery\n",
      "  favorites\n",
      "  mystery-thriller\n",
      "  kindle\n",
      "  ebook\n",
      "  fiction\n",
      "  books-i-own\n",
      "  owned-books\n",
      "  currently-reading\n",
      "  thriller\n",
      "\n",
      "Cluster 4:\n",
      "  fiction\n",
      "  favorites\n",
      "  literature\n",
      "  books-i-own\n",
      "  owned\n",
      "  my-books\n",
      "  to-buy\n",
      "  default\n",
      "  adult\n",
      "  my-library\n",
      "\n",
      "Cluster 5:\n",
      "  favorites\n",
      "  fiction\n",
      "  owned\n",
      "  books-i-own\n",
      "  currently-reading\n",
      "  owned-books\n",
      "  library\n",
      "  contemporary\n",
      "  kindle\n",
      "  to-buy\n",
      "\n",
      "Cluster 6:\n",
      "  fiction\n",
      "  owned\n",
      "  library\n",
      "  my-library\n",
      "  fantasy\n",
      "  suspense\n",
      "  adult\n",
      "  my-books\n",
      "  ebooks\n",
      "  currently-reading\n",
      "\n",
      "Cluster 7:\n",
      "  children-s\n",
      "  children-s-lit\n",
      "  favorites\n",
      "  kids-books\n",
      "  fiction\n",
      "  childrens\n",
      "  childrens-books\n",
      "  children\n",
      "  books-i-own\n",
      "  owned\n"
     ]
    }
   ],
   "execution_count": 11
  },
  {
   "cell_type": "markdown",
   "id": "de4873d3",
   "metadata": {},
   "source": [
    "## Training"
   ]
  },
  {
   "cell_type": "code",
   "id": "9c0e4058",
   "metadata": {
    "ExecuteTime": {
     "end_time": "2025-06-18T14:44:52.957628Z",
     "start_time": "2025-06-18T14:44:52.951286Z"
    }
   },
   "source": [
    "class Spatial_F_AE(nn.Module):\n",
    "    def __init__(self,k):\n",
    "        super(Spatial_F_AE, self).__init__()\n",
    "        self.encoder = nn.Sequential(\n",
    "            nn.Linear(k,500),\n",
    "            nn.ReLU(),\n",
    "            nn.Linear(500,250),\n",
    "            nn.ReLU(),\n",
    "            nn.Linear(250,125),\n",
    "            nn.ReLU(),\n",
    "            nn.Linear(125,50),\n",
    "            nn.ReLU(),\n",
    "            nn.Linear(50,2)\n",
    "        )\n",
    "        self.decoder = nn.Sequential(\n",
    "            nn.Linear(2,50),\n",
    "            nn.ReLU(),\n",
    "            nn.Linear(50,125),\n",
    "            nn.ReLU(),\n",
    "            nn.Linear(125,250),\n",
    "            nn.ReLU(),\n",
    "            nn.Linear(250,500),\n",
    "            nn.ReLU(),\n",
    "            nn.Linear(500,k),\n",
    "            nn.Sigmoid(),\n",
    "        )\n",
    "    def forward(self,x):\n",
    "        z = self.encoder(x)\n",
    "        final = self.decoder(z)\n",
    "        return final"
   ],
   "outputs": [],
   "execution_count": 12
  },
  {
   "cell_type": "code",
   "id": "85667552",
   "metadata": {
    "ExecuteTime": {
     "end_time": "2025-06-18T14:44:53.015206Z",
     "start_time": "2025-06-18T14:44:53.009204Z"
    }
   },
   "source": [
    "def train(model, dataloader, criterion, optimizer, num_epochs, scheduler=None, best_loss=float('inf')):\n",
    "    device = torch.device('cuda' if torch.cuda.is_available() else 'cpu')\n",
    "    losses = []\n",
    "    model.to(device)\n",
    "    for epoch in range(num_epochs):\n",
    "        model.train()\n",
    "        running_loss = 0.0\n",
    "        for i, batch in enumerate(dataloader):\n",
    "            inputs = batch[0]\n",
    "            inputs = inputs.to(device)\n",
    "            recon = model(inputs)\n",
    "            loss = criterion(recon, inputs)\n",
    "            optimizer.zero_grad()\n",
    "            loss.backward()\n",
    "            optimizer.step()\n",
    "            if scheduler is not None:\n",
    "                scheduler.step(loss.item())\n",
    "            running_loss += loss.item()\n",
    "        losses.append(running_loss / (i + 1))\n",
    "        if running_loss < best_loss:\n",
    "            best_loss = running_loss\n",
    "            torch.save(model.state_dict(), 'best_model.pth')\n",
    "        print(f\"Epoch {epoch+1}: Loss = {running_loss / (i + 1):.10f}\")\n",
    "    return losses"
   ],
   "outputs": [],
   "execution_count": 13
  },
  {
   "cell_type": "code",
   "id": "fc5c327f",
   "metadata": {
    "ExecuteTime": {
     "end_time": "2025-06-18T14:44:53.072140Z",
     "start_time": "2025-06-18T14:44:53.067937Z"
    }
   },
   "source": [
    "def loss_graph(tr_loss,n_epochs):\n",
    "    plt.plot(range(n_epochs),tr_loss,label='tr_loss', c='black')\n",
    "    plt.xlabel('Epochs')\n",
    "    plt.ylabel('Loss')\n",
    "    plt.title('Loss over Epochs')\n",
    "    plt.legend()\n",
    "    plt.show()"
   ],
   "outputs": [],
   "execution_count": 14
  },
  {
   "cell_type": "code",
   "id": "9c295695",
   "metadata": {
    "ExecuteTime": {
     "end_time": "2025-06-18T14:44:53.254363Z",
     "start_time": "2025-06-18T14:44:53.126709Z"
    }
   },
   "source": [
    "tensor_data = torch.tensor(df_input_data.values, dtype=torch.float32)\n",
    "dataset = torch.utils.data.TensorDataset(tensor_data)\n",
    "dataloader = torch.utils.data.DataLoader(dataset, batch_size=32, shuffle=True)\n",
    "model = Spatial_F_AE(Books_number)"
   ],
   "outputs": [],
   "execution_count": 15
  },
  {
   "cell_type": "markdown",
   "id": "d8b56d43",
   "metadata": {},
   "source": [
    "It the model is already trained and you see the best_model.pth file in the repository you can avoid retraining and run the followinc cell to sideload the weights of the model"
   ]
  },
  {
   "cell_type": "code",
   "id": "9423daa4",
   "metadata": {
    "ExecuteTime": {
     "end_time": "2025-06-18T14:44:53.355887Z",
     "start_time": "2025-06-18T14:44:53.351537Z"
    }
   },
   "source": [
    "# model.load_state_dict(torch.load('best_model.pth'))"
   ],
   "outputs": [],
   "execution_count": 16
  },
  {
   "cell_type": "markdown",
   "id": "ab8f65ca",
   "metadata": {},
   "source": [
    "Actual train of the model:"
   ]
  },
  {
   "cell_type": "code",
   "id": "7d543211",
   "metadata": {
    "ExecuteTime": {
     "end_time": "2025-06-18T14:52:14.901614Z",
     "start_time": "2025-06-18T14:44:53.421392Z"
    }
   },
   "source": [
    "criterion = nn.MSELoss()\n",
    "N_Epochs = 20\n",
    "optimizer = torch.optim.Adam(model.parameters(), lr = 0.001)\n",
    "scheduler = torch.optim.lr_scheduler.ReduceLROnPlateau(optimizer, mode='min', factor=0.1, patience=2, verbose=False)\n",
    "\n",
    "losses = train(model,dataloader,criterion, optimizer, N_Epochs, scheduler)\n",
    "loss_graph(losses, N_Epochs)"
   ],
   "outputs": [
    {
     "name": "stdout",
     "output_type": "stream",
     "text": [
      "Epoch 1: Loss = 0.0044543960\n",
      "Epoch 2: Loss = 0.0030503899\n",
      "Epoch 3: Loss = 0.0030501267\n",
      "Epoch 4: Loss = 0.0030494922\n",
      "Epoch 5: Loss = 0.0030496693\n",
      "Epoch 6: Loss = 0.0030487959\n",
      "Epoch 7: Loss = 0.0030483381\n",
      "Epoch 8: Loss = 0.0030483136\n",
      "Epoch 9: Loss = 0.0030485133\n",
      "Epoch 10: Loss = 0.0030476742\n",
      "Epoch 11: Loss = 0.0030480432\n",
      "Epoch 12: Loss = 0.0030473403\n",
      "Epoch 13: Loss = 0.0030466958\n",
      "Epoch 14: Loss = 0.0030466362\n",
      "Epoch 15: Loss = 0.0030466372\n",
      "Epoch 16: Loss = 0.0030460878\n",
      "Epoch 17: Loss = 0.0030462569\n",
      "Epoch 18: Loss = 0.0030460548\n",
      "Epoch 19: Loss = 0.0030461519\n",
      "Epoch 20: Loss = 0.0030453626\n"
     ]
    },
    {
     "data": {
      "text/plain": [
       "<Figure size 640x480 with 1 Axes>"
      ],
      "image/png": "[encoded data removed]"
     },
     "metadata": {},
     "output_type": "display_data"
    }
   ],
   "execution_count": 17
  },
  {
   "cell_type": "markdown",
   "id": "c0dbb325",
   "metadata": {},
   "source": [
    "## Find Recommendations"
   ]
  },
  {
   "cell_type": "code",
   "id": "9698fbcb",
   "metadata": {
    "ExecuteTime": {
     "end_time": "2025-06-18T14:52:15.001785Z",
     "start_time": "2025-06-18T14:52:14.992977Z"
    }
   },
   "source": [
    "def recommendations(user, model, n=25):\n",
    "    model.eval()\n",
    "    recon = model(user)\n",
    "    old_books= (user != 0).nonzero(as_tuple=True)[0].tolist()\n",
    "    _, new_books = torch.topk(recon, n) # top recommendations\n",
    "    new_books = new_books.tolist()\n",
    "    old_books_map = [mapping_pos_to_books[pos] for pos in old_books]\n",
    "    new_books_map = [mapping_pos_to_books[pos] for pos in new_books]\n",
    "    old_titles = [df_books[df_books['goodreads_book_id'] == id].values.tolist()[0][5] for id in old_books_map]\n",
    "    new_titles = [df_books[df_books['goodreads_book_id'] == id].values.tolist()[0][5] for id in new_books_map]\n",
    "    diff = list(set(new_titles) - set(old_titles))\n",
    "    diff_id = list(set(new_books_map) - set(old_books_map))\n",
    "    return diff, diff_id, old_books_map"
   ],
   "outputs": [],
   "execution_count": 18
  },
  {
   "cell_type": "code",
   "id": "cf7b87b3",
   "metadata": {
    "ExecuteTime": {
     "end_time": "2025-06-18T14:52:15.102497Z",
     "start_time": "2025-06-18T14:52:15.098218Z"
    }
   },
   "source": [
    "def print_recommendations(user, n=25):\n",
    "    if isinstance(user, int):\n",
    "        rec, rec_id, old_id = recommendations(dataloader.dataset[user][0], model, n)\n",
    "    else:\n",
    "        rec, rec_id, old_id = recommendations(user, model, n)\n",
    "\n",
    "    print(\"#############################################\\n\")\n",
    "    print(f\"Top {n} recommendations for user {user}\\n\")\n",
    "    [print(i) for i in rec]\n",
    "    print(\"\\n#############################################\")"
   ],
   "outputs": [],
   "execution_count": 19
  },
  {
   "cell_type": "markdown",
   "id": "3b6bb16e",
   "metadata": {},
   "source": [
    "## Generate new user"
   ]
  },
  {
   "cell_type": "code",
   "id": "b8272f20",
   "metadata": {
    "ExecuteTime": {
     "end_time": "2025-06-18T15:01:03.145574Z",
     "start_time": "2025-06-18T15:01:03.139983Z"
    }
   },
   "source": [
    "n_best_books_for_cluster = 2\n",
    "min_n_chosen = 3\n",
    "\n",
    "def find_bestbooks(n_best_books_for_cluster=n_best_books_for_cluster):\n",
    "    books = []\n",
    "    for cluster in df_books['cluster'].unique():\n",
    "        top_books = df_books[df_books['cluster'] == cluster].nlargest(n_best_books_for_cluster, 'work_ratings_count')\n",
    "        books.extend(top_books['goodreads_book_id'].tolist())\n",
    "    return books\n",
    "\n",
    "def user_from_ids(books_ids):\n",
    "    user_preferences = np.zeros(n_books)\n",
    "    for book_id in books_ids:\n",
    "        if book_id in mapping_books_to_pos:\n",
    "            user_preferences[mapping_books_to_pos[book_id]] = 1\n",
    "    return torch.tensor(user_preferences, dtype=torch.float32)"
   ],
   "outputs": [],
   "execution_count": 32
  },
  {
   "metadata": {
    "ExecuteTime": {
     "end_time": "2025-06-18T15:08:52.191005Z",
     "start_time": "2025-06-18T15:08:38.637616Z"
    }
   },
   "cell_type": "code",
   "source": [
    "print(f\"Choose more than {min_n_chosen} books from the following list:\\n\")\n",
    "book_ids = find_bestbooks()\n",
    "ids = []\n",
    "for i, book in enumerate(book_ids):\n",
    "    print(f\"{i + 1}. {df_books[df_books['goodreads_book_id'] == book]['title'].values[0]}\")\n",
    "    ids.append(book)\n",
    "\n",
    "chosen_books = input(\"\\nEnter numbers separated by commas: \")\n",
    "chosen_books = [int(x) for x in chosen_books.split(\",\")]\n",
    "chosen_ids = []\n",
    "\n",
    "for element in chosen_books:\n",
    "    chosen_ids.append(ids[element - 1])\n",
    "    print (f\"Chosen book: {df_books[df_books['goodreads_book_id'] == chosen_ids[-1]]['title'].values[0]}\")"
   ],
   "id": "974601e0cb0ff5",
   "outputs": [
    {
     "name": "stdout",
     "output_type": "stream",
     "text": [
      "Choose more than 3 books from the following list:\n",
      "\n",
      "1. The Hunger Games (The Hunger Games, #1)\n",
      "2. Harry Potter and the Sorcerer's Stone (Harry Potter, #1)\n",
      "3. To Kill a Mockingbird\n",
      "4. The Great Gatsby\n",
      "5. The Fault in Our Stars\n",
      "6. The Kite Runner\n",
      "7. The Hobbit\n",
      "8. The Fellowship of the Ring (The Lord of the Rings, #1)\n",
      "9. Angels & Demons  (Robert Langdon, #1)\n",
      "10. The Girl with the Dragon Tattoo (Millennium, #1)\n",
      "11. The Diary of a Young Girl\n",
      "12. Eat, Pray, Love\n",
      "13. The Lion, the Witch, and the Wardrobe (Chronicles of Narnia, #1)\n",
      "14. The Giver (The Giver, #1)\n",
      "15. The Shining (The Shining #1)\n",
      "16. It\n",
      "Chosen book: It\n",
      "Chosen book: The Shining (The Shining #1)\n",
      "Chosen book: The Giver (The Giver, #1)\n"
     ]
    }
   ],
   "execution_count": 45
  },
  {
   "metadata": {
    "ExecuteTime": {
     "end_time": "2025-06-18T15:08:54.772664Z",
     "start_time": "2025-06-18T15:08:54.761572Z"
    }
   },
   "cell_type": "code",
   "source": [
    "if len(chosen_books) < min_n_chosen:\n",
    "    print(f\"Please choose at least {min_n_chosen} books.\")\n",
    "else:\n",
    "    print_recommendations(user_from_ids(chosen_ids), n=5)"
   ],
   "id": "3f1f121abe80b783",
   "outputs": [
    {
     "name": "stdout",
     "output_type": "stream",
     "text": [
      "#############################################\n",
      "\n",
      "Top 5 recommendations for user tensor([0., 0., 0.,  ..., 0., 0., 0.])\n",
      "\n",
      "Harry Potter and the Order of the Phoenix (Harry Potter, #5)\n",
      "Harry Potter and the Sorcerer's Stone (Harry Potter, #1)\n",
      "Pride and Prejudice\n",
      "Harry Potter and the Goblet of Fire (Harry Potter, #4)\n",
      "The Fellowship of the Ring (The Lord of the Rings, #1)\n",
      "\n",
      "#############################################\n"
     ]
    }
   ],
   "execution_count": 46
  },
  {
   "cell_type": "markdown",
   "id": "0babcdb3",
   "metadata": {},
   "source": [
    "## Evaluating"
   ]
  },
  {
   "cell_type": "code",
   "id": "3cd31f29",
   "metadata": {
    "ExecuteTime": {
     "end_time": "2025-06-18T15:00:12.491306Z",
     "start_time": "2025-06-18T15:00:12.485617Z"
    }
   },
   "source": [
    "def user_refinding(model,user):\n",
    "    rating_pos = user[user == 1.0]\n",
    "    if len(rating_pos) != 0:\n",
    "        removed_pos = rating_pos[:int(len(rating_pos)/5)+1]\n",
    "        removed_books = [mapping_pos_to_books[elem] for elem in removed_pos.tolist()]\n",
    "        _, diff_id, _ = recommendations(user, model)\n",
    "        diff = list(set(removed_books) - set(diff_id))\n",
    "        return len(diff)/len(removed_books), len(removed_books)\n",
    "    else:\n",
    "        return 0,0"
   ],
   "outputs": [],
   "execution_count": 26
  },
  {
   "cell_type": "code",
   "id": "1dd70ed9",
   "metadata": {},
   "source": [
    "sum = 0\n",
    "for i in range(len(mapping_users_to_pos)):\n",
    "    len_ratio, _ = user_refinding(model, dataloader.dataset[i][0])\n",
    "    sum += len_ratio\n",
    "print('On avg we refind: ', sum/len(mapping_users_to_pos), \"% of the removed items\")"
   ],
   "outputs": [],
   "execution_count": null
  },
  {
   "cell_type": "markdown",
   "id": "b1fce1e4",
   "metadata": {},
   "source": [
    "## Example of use"
   ]
  },
  {
   "cell_type": "code",
   "id": "6f3366cf",
   "metadata": {
    "ExecuteTime": {
     "end_time": "2025-06-18T15:00:22.619266Z",
     "start_time": "2025-06-18T15:00:22.598486Z"
    }
   },
   "source": [
    "print_recommendations(678, 20)"
   ],
   "outputs": [
    {
     "name": "stdout",
     "output_type": "stream",
     "text": [
      "#############################################\n",
      "\n",
      "Top 20 recommendations for user 678\n",
      "\n",
      "Harriet the Spy (Harriet the Spy #1)\n",
      "A Court of Mist and Fury (A Court of Thorns and Roses, #2)\n",
      "The Woman in White\n",
      "Inheritance (The Inheritance Cycle, #4)\n",
      "Shadow of the Hegemon (Ender's Shadow, #2)\n",
      "The Good Earth (House of Earth, #1)\n",
      "Requiem (Delirium, #3)\n",
      "Of Mice and Men\n",
      "The Curious Incident of the Dog in the Night-Time\n",
      "The Fellowship of the Ring (The Lord of the Rings, #1)\n",
      "The Man in the Brown Suit\n",
      "The Da Vinci Code (Robert Langdon, #2)\n",
      "Memoirs of a Geisha\n",
      "Winnie-the-Pooh (Winnie-the-Pooh, #1)\n",
      "\n",
      "#############################################\n"
     ]
    }
   ],
   "execution_count": 27
  }
 ],
 "metadata": {
  "kernelspec": {
   "display_name": "venv",
   "language": "python",
   "name": "python3"
  },
  "language_info": {
   "codemirror_mode": {
    "name": "ipython",
    "version": 3
   },
   "file_extension": ".py",
   "mimetype": "text/x-python",
   "name": "python",
   "nbconvert_exporter": "python",
   "pygments_lexer": "ipython3",
   "version": "3.9.20"
  }
 },
 "nbformat": 4,
 "nbformat_minor": 5
}
