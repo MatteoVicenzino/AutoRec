{
 "cells": [
  {
   "cell_type": "markdown",
   "id": "7133b4e8",
   "metadata": {},
   "source": [
    "# Autoencoder Recommendation System"
   ]
  },
  {
   "metadata": {},
   "cell_type": "markdown",
   "source": [
    "**Autoencoder-based Collaborative Filtering System**\n",
    "Implements AutoRec model using matrix factorization through neural networks to learn user preference patterns for book recommendations."
   ],
   "id": "1c73efd29c2a0eb1"
  },
  {
   "cell_type": "code",
   "id": "1a1b0094",
   "metadata": {
    "ExecuteTime": {
     "end_time": "2025-06-18T20:53:04.475389Z",
     "start_time": "2025-06-18T20:52:57.050349Z"
    }
   },
   "source": [
    "import pandas as pd\n",
    "import numpy as np\n",
    "import matplotlib.pyplot as plt\n",
    "import math\n",
    "from time import time\n",
    "from collections import Counter\n",
    "import ast\n",
    "\n",
    "import torch\n",
    "import torch.nn as nn \n",
    "import torch.nn.functional as F \n",
    "import torchvision \n",
    "import torch.utils.data as data\n",
    "import torch.distributions as dist\n",
    "import tqdm"
   ],
   "outputs": [],
   "execution_count": 1
  },
  {
   "cell_type": "markdown",
   "id": "1f678c39",
   "metadata": {},
   "source": [
    "## Data Preparation"
   ]
  },
  {
   "metadata": {},
   "cell_type": "markdown",
   "source": [
    "**Scalability Optimization**\n",
    "Limiting to top 2000 books by rating count reduces computational complexity while maintaining recommendation quality."
   ],
   "id": "bb92e295b6a3cf8d"
  },
  {
   "metadata": {
    "ExecuteTime": {
     "end_time": "2025-06-18T20:53:05.019709Z",
     "start_time": "2025-06-18T20:53:04.773447Z"
    }
   },
   "cell_type": "code",
   "source": [
    "df_books = pd.read_csv('books_autorec.csv')\n",
    "df_books.sort_values(by='ratings_count', ascending=False, inplace=True)\n",
    "Books_number = 2000\n",
    "df_books = df_books.iloc[:Books_number]\n",
    "df_books['goodreads_book_id'] = df_books['goodreads_book_id'].astype(int)\n",
    "book_ids = df_books['goodreads_book_id']"
   ],
   "id": "96d9330b",
   "outputs": [],
   "execution_count": 2
  },
  {
   "metadata": {},
   "cell_type": "markdown",
   "source": "Create filtered user dictionary containing only users who rated books in the selected 2000-book subset.",
   "id": "9b382f6752f94760"
  },
  {
   "metadata": {
    "ExecuteTime": {
     "end_time": "2025-06-18T20:53:33.770722Z",
     "start_time": "2025-06-18T20:53:05.035008Z"
    }
   },
   "cell_type": "code",
   "source": [
    "df = pd.read_csv(\"books_autorec.csv\")\n",
    "df_ratings = pd.read_csv(\"ratings_autorec.csv\")\n",
    "\n",
    "modified_df_ratings = df_ratings.merge(\n",
    "    df[['goodreads_book_id']],\n",
    "    left_on='book_id',\n",
    "    right_on='goodreads_book_id',\n",
    "    how='left'\n",
    ")\n",
    "\n",
    "# create dictionary with user and ratings\n",
    "sparse_users = {}\n",
    "for user_id, group in modified_df_ratings.groupby('user_id'):\n",
    "    modified_books_ratings = group[['book_id', 'rating']].values.tolist()\n",
    "    sparse_users[user_id] = modified_books_ratings\n",
    "\n",
    "filter_users = {\n",
    "    user: [triplet for triplet in triplets if triplet[0] in book_ids]\n",
    "    for user, triplets in sparse_users.items()\n",
    "}\n",
    "filter_users = {user: triplets for user, triplets in filter_users.items() if triplets}\n",
    "#user taken\n",
    "taken_users = 50000\n",
    "filter_users = sorted(filter_users.items(), key=lambda x: len(x[1]), reverse=True)[:taken_users]\n",
    "filter_users = dict(filter_users)"
   ],
   "id": "34cad950",
   "outputs": [],
   "execution_count": 3
  },
  {
   "metadata": {},
   "cell_type": "markdown",
   "source": "Establish bidirectional mappings between array positions and book/user IDs for matrix operations.",
   "id": "fd64bb8071b24198"
  },
  {
   "metadata": {
    "ExecuteTime": {
     "end_time": "2025-06-18T20:53:33.848169Z",
     "start_time": "2025-06-18T20:53:33.816250Z"
    }
   },
   "cell_type": "code",
   "source": [
    "mapping_pos_to_books = dict(zip(range(Books_number), book_ids))\n",
    "mapping_books_to_pos = dict(zip(book_ids,range(Books_number)))\n",
    "mapping_pos_to_users = dict(zip(range(taken_users), filter_users.keys()))\n",
    "mapping_users_to_pos = dict(zip(filter_users.keys(),range(taken_users)))"
   ],
   "id": "c33aeea5",
   "outputs": [],
   "execution_count": 4
  },
  {
   "metadata": {},
   "cell_type": "markdown",
   "source": "Convert explicit ratings to binary implicit feedback (1 if rating ≥4, 0 otherwise) and create user-item matrix.",
   "id": "cc70d9014a914027"
  },
  {
   "metadata": {
    "ExecuteTime": {
     "end_time": "2025-06-18T20:54:04.108207Z",
     "start_time": "2025-06-18T20:53:33.920656Z"
    }
   },
   "cell_type": "code",
   "source": [
    "n_books = len(mapping_books_to_pos)\n",
    "user_vectors = []\n",
    "for user_id, book_rating in filter_users.items():\n",
    "    vector = np.zeros(n_books)  # initialize vector with zeros\n",
    "\n",
    "    for book_id, rating in book_rating:\n",
    "        if book_id in mapping_books_to_pos:  # if book_id is in the mapping\n",
    "            index = mapping_books_to_pos[book_id]\n",
    "            vector[index] = rating  # insert rating in the correct position\n",
    "\n",
    "    user_vectors.append(vector)\n",
    "\n",
    "print(\"Number of Users\", len(user_vectors))\n",
    "print(\"Number of Books\", len(user_vectors[0]))\n",
    "for i in range(len(user_vectors)):\n",
    "    user_vectors[i] = [0 if elem < 4 else 1 for elem in user_vectors[i]]\n",
    "print(\"Example of a user: \", user_vectors[0][:20])\n",
    "df_input_data = pd.DataFrame(user_vectors)"
   ],
   "id": "750eb98c",
   "outputs": [
    {
     "name": "stdout",
     "output_type": "stream",
     "text": [
      "Number of Users 48939\n",
      "Number of Books 2000\n",
      "Example of a user:  [0, 1, 0, 0, 0, 0, 0, 0, 1, 0, 0, 0, 0, 0, 1, 0, 0, 0, 0, 1]\n"
     ]
    }
   ],
   "execution_count": 5
  },
  {
   "metadata": {},
   "cell_type": "markdown",
   "source": [
    "Calculate inverse linear, logarithmic, and square root weights for items to reduce popularity bias in the loss function.\n",
    "We decided to use the inverse logarithmic strategy as it provides a good balance between popular and less popular items, allowing the model to learn from both without being overly influenced by the most popular items."
   ],
   "id": "593852759744d526"
  },
  {
   "metadata": {
    "ExecuteTime": {
     "end_time": "2025-06-18T20:54:04.343535Z",
     "start_time": "2025-06-18T20:54:04.178962Z"
    }
   },
   "cell_type": "code",
   "source": [
    "def compute_item_weights(df_input_data, weight_strategy='inverse_log'):\n",
    "    item_review_counts = (df_input_data != 0).sum(axis=0)\n",
    "\n",
    "    if weight_strategy == 'inverse':\n",
    "        item_weights = 1.0 / (item_review_counts + 1)\n",
    "    elif weight_strategy == 'inverse_log':\n",
    "        item_weights = 1.0 / np.log(item_review_counts + 2)\n",
    "    elif weight_strategy == 'inverse_sqrt':\n",
    "        item_weights = 1.0 / np.sqrt(item_review_counts + 1)\n",
    "    else:\n",
    "        raise ValueError(\"Invalid weight strategy\")\n",
    "\n",
    "    item_weights = item_weights / item_weights.mean()\n",
    "\n",
    "    print(f\"Item weights stats:\")\n",
    "    print(f\"  Min weight: {item_weights.min():.4f}\")\n",
    "    print(f\"  Max weight: {item_weights.max():.4f}\")\n",
    "    print(f\"  Mean weight: {item_weights.mean():.4f}\")\n",
    "    print(f\"  Std weight: {item_weights.std():.4f}\")\n",
    "\n",
    "    return torch.tensor(item_weights.values, dtype=torch.float32)\n",
    "\n",
    "item_weights = compute_item_weights(df_input_data, weight_strategy='inverse_log')"
   ],
   "id": "5b8076c0bbaf97b2",
   "outputs": [
    {
     "name": "stdout",
     "output_type": "stream",
     "text": [
      "Item weights stats:\n",
      "  Min weight: 0.0731\n",
      "  Max weight: 1.0356\n",
      "  Mean weight: 1.0000\n",
      "  Std weight: 0.1793\n"
     ]
    }
   ],
   "execution_count": 6
  },
  {
   "cell_type": "markdown",
   "id": "c75c1e66",
   "metadata": {},
   "source": [
    "## Clustering\n",
    "The division of books in clusters is used only in the new user generation"
   ]
  },
  {
   "metadata": {},
   "cell_type": "markdown",
   "source": "Convert string representations of tag lists back to actual Python lists for processing:",
   "id": "5b50b6bb3bb655c8"
  },
  {
   "cell_type": "code",
   "id": "78026898",
   "metadata": {
    "ExecuteTime": {
     "end_time": "2025-06-18T20:54:04.454463Z",
     "start_time": "2025-06-18T20:54:04.403470Z"
    }
   },
   "source": [
    "def string_to_list(stringa):\n",
    "    lista = [elemento.strip() for elemento in stringa.split(\",\")]\n",
    "    for i, element in enumerate(lista):\n",
    "        lista[i] = element.strip('[').strip(']').strip('\\'')\n",
    "    return lista\n",
    "\n",
    "df_books['tags_list'] = df_books['tags_list'].apply(string_to_list)"
   ],
   "outputs": [],
   "execution_count": 7
  },
  {
   "metadata": {},
   "cell_type": "markdown",
   "source": "Create TF-IDF feature vectors from book tags for content-based similarity computation.",
   "id": "a57148d1248cee42"
  },
  {
   "cell_type": "code",
   "id": "16968924",
   "metadata": {
    "ExecuteTime": {
     "end_time": "2025-06-18T20:54:05.863828Z",
     "start_time": "2025-06-18T20:54:04.529796Z"
    }
   },
   "source": [
    "from sklearn.feature_extraction.text import TfidfVectorizer\n",
    "\n",
    "tfidf = TfidfVectorizer()\n",
    "X = tfidf.fit_transform(df_books['tags_string'])"
   ],
   "outputs": [],
   "execution_count": 8
  },
  {
   "metadata": {},
   "cell_type": "markdown",
   "source": "Group books into 8 semantic clusters based on TF-IDF tag similarities.",
   "id": "252df76b10784f93"
  },
  {
   "cell_type": "code",
   "id": "2da8f238",
   "metadata": {
    "ExecuteTime": {
     "end_time": "2025-06-18T20:54:06.835353Z",
     "start_time": "2025-06-18T20:54:05.914654Z"
    }
   },
   "source": [
    "from sklearn.cluster import KMeans\n",
    "\n",
    "k = 10\n",
    "kmeans_model = KMeans(n_clusters=k, random_state=33, max_iter=1000, n_init=10)\n",
    "df_books['cluster'] = kmeans_model.fit_predict(X)"
   ],
   "outputs": [],
   "execution_count": 9
  },
  {
   "metadata": {},
   "cell_type": "markdown",
   "source": "Display the distribution of books across clusters to verify balanced clustering.",
   "id": "cb76d8770c98d5bc"
  },
  {
   "cell_type": "code",
   "id": "68bcff54",
   "metadata": {
    "ExecuteTime": {
     "end_time": "2025-06-18T20:54:06.903751Z",
     "start_time": "2025-06-18T20:54:06.897316Z"
    }
   },
   "source": [
    "cluster_counts = df_books['cluster'].value_counts().sort_index()\n",
    "for cluster_id, count in cluster_counts.items():\n",
    "    print(f\"Cluster {cluster_id}: {count} elements\")"
   ],
   "outputs": [
    {
     "name": "stdout",
     "output_type": "stream",
     "text": [
      "Cluster 0: 280 elements\n",
      "Cluster 1: 245 elements\n",
      "Cluster 2: 136 elements\n",
      "Cluster 3: 265 elements\n",
      "Cluster 4: 215 elements\n",
      "Cluster 5: 101 elements\n",
      "Cluster 6: 46 elements\n",
      "Cluster 7: 188 elements\n",
      "Cluster 8: 276 elements\n",
      "Cluster 9: 248 elements\n"
     ]
    }
   ],
   "execution_count": 10
  },
  {
   "metadata": {},
   "cell_type": "markdown",
   "source": "Define and execute a function to analyze and validate cluster quality by examining most frequent tags per cluster, showing top tags for each cluster",
   "id": "3f34a67b468dcb32"
  },
  {
   "cell_type": "code",
   "id": "ef5c5b14",
   "metadata": {
    "ExecuteTime": {
     "end_time": "2025-06-18T20:54:06.970452Z",
     "start_time": "2025-06-18T20:54:06.965934Z"
    }
   },
   "source": [
    "def print_top_tags_per_cluster(df, top_n=20):\n",
    "\n",
    "    for cluster_id in sorted(df['cluster'].unique()):\n",
    "        tags = df[df['cluster'] == cluster_id]['tags_list'].explode()\n",
    "        tag_counts = Counter(tags)\n",
    "        most_common = tag_counts.most_common(top_n)\n",
    "        print(f\"\\nCluster {cluster_id}:\")\n",
    "        for tag, count in most_common:\n",
    "            print(f\"  {tag}\")"
   ],
   "outputs": [],
   "execution_count": 11
  },
  {
   "metadata": {
    "ExecuteTime": {
     "end_time": "2025-06-18T20:54:07.063907Z",
     "start_time": "2025-06-18T20:54:07.021771Z"
    }
   },
   "cell_type": "code",
   "source": "print_top_tags_per_cluster(df_books, top_n=10)",
   "id": "3df8db97",
   "outputs": [
    {
     "name": "stdout",
     "output_type": "stream",
     "text": [
      "\n",
      "Cluster 0:\n",
      "  fiction\n",
      "  favorites\n",
      "  books-i-own\n",
      "  owned\n",
      "  adult\n",
      "  owned-books\n",
      "  library\n",
      "  book-club\n",
      "  novels\n",
      "  currently-reading\n",
      "\n",
      "Cluster 1:\n",
      "  fantasy\n",
      "  favorites\n",
      "  owned\n",
      "  fiction\n",
      "  books-i-own\n",
      "  paranormal\n",
      "  currently-reading\n",
      "  i-own\n",
      "  library\n",
      "  series\n",
      "\n",
      "Cluster 2:\n",
      "  currently-reading\n",
      "  owned\n",
      "  books-i-own\n",
      "  my-library\n",
      "  library\n",
      "  owned-books\n",
      "  default\n",
      "  favorites\n",
      "  to-buy\n",
      "  non-fiction\n",
      "\n",
      "Cluster 3:\n",
      "  favorites\n",
      "  fiction\n",
      "  literature\n",
      "  books-i-own\n",
      "  owned\n",
      "  to-buy\n",
      "  my-books\n",
      "  default\n",
      "  adult\n",
      "  library\n",
      "\n",
      "Cluster 4:\n",
      "  children-s\n",
      "  children-s-lit\n",
      "  favorites\n",
      "  kids-books\n",
      "  fiction\n",
      "  childrens\n",
      "  childrens-books\n",
      "  children\n",
      "  books-i-own\n",
      "  children-s-books\n",
      "\n",
      "Cluster 5:\n",
      "  non-fiction\n",
      "  nonfiction\n",
      "  owned\n",
      "  biography-memoir\n",
      "  owned-books\n",
      "  biography\n",
      "  biographies\n",
      "  to-buy\n",
      "  library\n",
      "  favorites\n",
      "\n",
      "Cluster 6:\n",
      "  graphic-novels\n",
      "  favorites\n",
      "  graphic-novel\n",
      "  fiction\n",
      "  owned\n",
      "  currently-reading\n",
      "  books-i-own\n",
      "  favourites\n",
      "  owned-books\n",
      "  graphic\n",
      "\n",
      "Cluster 7:\n",
      "  fiction\n",
      "  mystery\n",
      "  favorites\n",
      "  owned\n",
      "  books-i-own\n",
      "  suspense\n",
      "  currently-reading\n",
      "  library\n",
      "  kindle\n",
      "  owned-books\n",
      "\n",
      "Cluster 8:\n",
      "  fantasy\n",
      "  sci-fi-fantasy\n",
      "  favorites\n",
      "  fiction\n",
      "  library\n",
      "  books-i-own\n",
      "  owned\n",
      "  owned-books\n",
      "  currently-reading\n",
      "  fantasy-sci-fi\n",
      "\n",
      "Cluster 9:\n",
      "  fiction\n",
      "  owned\n",
      "  favorites\n",
      "  books-i-own\n",
      "  romance\n",
      "  currently-reading\n",
      "  owned-books\n",
      "  kindle\n",
      "  ebooks\n",
      "  ebook\n"
     ]
    }
   ],
   "execution_count": 12
  },
  {
   "metadata": {},
   "cell_type": "markdown",
   "source": "## Training",
   "id": "de4873d3"
  },
  {
   "metadata": {},
   "cell_type": "markdown",
   "source": "Define symmetric autoencoder architecture with 2D bottleneck (2000→500→250→125→50→2→...→2000).",
   "id": "4d5ad6ce2cffc02d"
  },
  {
   "metadata": {
    "ExecuteTime": {
     "end_time": "2025-06-18T20:54:07.128579Z",
     "start_time": "2025-06-18T20:54:07.123487Z"
    }
   },
   "cell_type": "code",
   "source": [
    "class Spatial_F_AE(nn.Module):\n",
    "    def __init__(self,k):\n",
    "        super(Spatial_F_AE, self).__init__()\n",
    "        self.encoder = nn.Sequential(\n",
    "            nn.Linear(k,500),\n",
    "            nn.ReLU(),\n",
    "            nn.Linear(500,250),\n",
    "            nn.ReLU(),\n",
    "            nn.Linear(250,125),\n",
    "            nn.ReLU(),\n",
    "            nn.Linear(125,50),\n",
    "            nn.ReLU(),\n",
    "            nn.Linear(50,2)\n",
    "        )\n",
    "        self.decoder = nn.Sequential(\n",
    "            nn.Linear(2,50),\n",
    "            nn.ReLU(),\n",
    "            nn.Linear(50,125),\n",
    "            nn.ReLU(),\n",
    "            nn.Linear(125,250),\n",
    "            nn.ReLU(),\n",
    "            nn.Linear(250,500),\n",
    "            nn.ReLU(),\n",
    "            nn.Linear(500,k),\n",
    "            nn.Sigmoid(),\n",
    "        )\n",
    "    def forward(self,x):\n",
    "        z = self.encoder(x)\n",
    "        final = self.decoder(z)\n",
    "        return final"
   ],
   "id": "9c0e4058",
   "outputs": [],
   "execution_count": 13
  },
  {
   "metadata": {},
   "cell_type": "markdown",
   "source": "Implement custom training loop with weighted loss function.",
   "id": "375a31cb463e05d"
  },
  {
   "metadata": {
    "ExecuteTime": {
     "end_time": "2025-06-18T20:54:07.184001Z",
     "start_time": "2025-06-18T20:54:07.178567Z"
    }
   },
   "cell_type": "code",
   "source": [
    "def train(model, dataloader, criterion, optimizer, num_epochs, item_weights=None, scheduler=None, best_loss=float('inf')):\n",
    "    device = torch.device('cuda' if torch.cuda.is_available() else 'cpu')\n",
    "    losses = []\n",
    "    model.to(device)\n",
    "\n",
    "    # Move weights to device if provided\n",
    "    if item_weights is not None:\n",
    "        item_weights = item_weights.to(device)\n",
    "\n",
    "    for epoch in range(num_epochs):\n",
    "        model.train()\n",
    "        running_loss = 0.0\n",
    "        for i, batch in enumerate(dataloader):\n",
    "            inputs = batch[0]\n",
    "            inputs = inputs.to(device)\n",
    "            recon = model(inputs)\n",
    "\n",
    "            if item_weights is not None:\n",
    "                # evaluate weighted loss\n",
    "                squared_errors = (recon - inputs) ** 2\n",
    "                weighted_errors = squared_errors * item_weights.unsqueeze(0)  # Broadcast sui batch\n",
    "                loss = weighted_errors.mean()\n",
    "            else:\n",
    "                # standard loss\n",
    "                loss = criterion(recon, inputs)\n",
    "\n",
    "            optimizer.zero_grad()\n",
    "            loss.backward()\n",
    "            optimizer.step()\n",
    "\n",
    "            if scheduler is not None:\n",
    "                scheduler.step(loss.item())\n",
    "            running_loss += loss.item()\n",
    "\n",
    "        losses.append(running_loss / (i + 1))\n",
    "        if running_loss < best_loss:\n",
    "            best_loss = running_loss\n",
    "            torch.save(model.state_dict(), 'best_model.pth')\n",
    "        print(f\"Epoch {epoch+1}: Loss = {running_loss / (i + 1):.10f}\")\n",
    "    return losses"
   ],
   "id": "85667552",
   "outputs": [],
   "execution_count": 14
  },
  {
   "metadata": {},
   "cell_type": "markdown",
   "source": "Define visualization function for training loss progression.",
   "id": "c6cc92d7475b3a73"
  },
  {
   "metadata": {
    "ExecuteTime": {
     "end_time": "2025-06-18T20:54:07.241799Z",
     "start_time": "2025-06-18T20:54:07.236590Z"
    }
   },
   "cell_type": "code",
   "source": [
    "def loss_graph(tr_loss,n_epochs):\n",
    "    plt.plot(range(n_epochs),tr_loss,label='tr_loss', c='black')\n",
    "    plt.xlabel('Epochs')\n",
    "    plt.ylabel('Loss')\n",
    "    plt.title('Loss over Epochs')\n",
    "    plt.legend()\n",
    "    plt.show()"
   ],
   "id": "fc5c327f",
   "outputs": [],
   "execution_count": 15
  },
  {
   "metadata": {},
   "cell_type": "markdown",
   "source": "Convert user-item matrix to PyTorch tensors and instantiate autoencoder model.",
   "id": "76eca7061a69cde2"
  },
  {
   "cell_type": "code",
   "id": "9c295695",
   "metadata": {
    "ExecuteTime": {
     "end_time": "2025-06-18T20:54:07.375716Z",
     "start_time": "2025-06-18T20:54:07.294198Z"
    }
   },
   "source": [
    "tensor_data = torch.tensor(df_input_data.values, dtype=torch.float32)\n",
    "dataset = torch.utils.data.TensorDataset(tensor_data)\n",
    "dataloader = torch.utils.data.DataLoader(dataset, batch_size=32, shuffle=True)\n",
    "model = Spatial_F_AE(Books_number)"
   ],
   "outputs": [],
   "execution_count": 16
  },
  {
   "cell_type": "markdown",
   "id": "d8b56d43",
   "metadata": {},
   "source": [
    "It the model is already trained and you see the best_model.pth file in the repository you can avoid retraining and run the followinc cell to sideload the weights of the model"
   ]
  },
  {
   "cell_type": "code",
   "id": "9423daa4",
   "metadata": {
    "ExecuteTime": {
     "end_time": "2025-06-18T20:54:07.434074Z",
     "start_time": "2025-06-18T20:54:07.430832Z"
    }
   },
   "source": [
    "# model.load_state_dict(torch.load('best_model.pth'))"
   ],
   "outputs": [],
   "execution_count": 17
  },
  {
   "cell_type": "markdown",
   "id": "ab8f65ca",
   "metadata": {},
   "source": [
    "Actual train of the model:"
   ]
  },
  {
   "cell_type": "code",
   "id": "7d543211",
   "metadata": {
    "ExecuteTime": {
     "end_time": "2025-06-18T20:56:47.555520Z",
     "start_time": "2025-06-18T20:54:07.495526Z"
    }
   },
   "source": [
    "criterion = nn.MSELoss()\n",
    "N_Epochs = 5\n",
    "optimizer = torch.optim.Adam(model.parameters(), lr = 0.001)\n",
    "scheduler = torch.optim.lr_scheduler.ReduceLROnPlateau(optimizer, mode='min', factor=0.1, patience=2)\n",
    "\n",
    "losses = train(model, dataloader, criterion, optimizer, N_Epochs, item_weights, scheduler)\n",
    "loss_graph(losses, N_Epochs)"
   ],
   "outputs": [
    {
     "name": "stdout",
     "output_type": "stream",
     "text": [
      "Epoch 1: Loss = 0.0018723988\n",
      "Epoch 2: Loss = 0.0002041616\n",
      "Epoch 3: Loss = 0.0002041162\n",
      "Epoch 4: Loss = 0.0002040522\n",
      "Epoch 5: Loss = 0.0002040235\n"
     ]
    },
    {
     "data": {
      "text/plain": [
       "<Figure size 640x480 with 1 Axes>"
      ],
      "image/png": "[encoded data removed]"
     },
     "metadata": {},
     "output_type": "display_data"
    }
   ],
   "execution_count": 18
  },
  {
   "metadata": {},
   "cell_type": "markdown",
   "source": "## Find Recommendations",
   "id": "c0dbb325"
  },
  {
   "metadata": {},
   "cell_type": "markdown",
   "source": "Generate top-N recommendations by masking known items and selecting highest reconstruction scores.",
   "id": "b6eb39d60eb32e6a"
  },
  {
   "metadata": {
    "ExecuteTime": {
     "end_time": "2025-06-18T20:56:47.681378Z",
     "start_time": "2025-06-18T20:56:47.667686Z"
    }
   },
   "cell_type": "code",
   "source": [
    "def recommendations(user, model, n=25):\n",
    "    model.eval()\n",
    "    recon = model(user)\n",
    "\n",
    "    recon_masked = recon.clone()\n",
    "    recon_masked[user != 0] = float('-inf')  # already read books are not recommended\n",
    "\n",
    "    _, new_books = torch.topk(recon_masked, n)\n",
    "    new_books = new_books.tolist()\n",
    "\n",
    "    new_books_map = [mapping_pos_to_books[pos] for pos in new_books]\n",
    "    new_titles = [df_books[df_books['goodreads_book_id'] == id].values.tolist()[0][5] for id in new_books_map]\n",
    "\n",
    "    return new_titles, new_books_map"
   ],
   "id": "9698fbcb",
   "outputs": [],
   "execution_count": 19
  },
  {
   "metadata": {},
   "cell_type": "markdown",
   "source": "Display a specific user's rating history for manual inspection and validation.",
   "id": "73aa9dbf378e9425"
  },
  {
   "metadata": {
    "ExecuteTime": {
     "end_time": "2025-06-18T21:08:13.746851Z",
     "start_time": "2025-06-18T21:08:13.741659Z"
    }
   },
   "cell_type": "code",
   "source": [
    "def print_users_ratings(us):\n",
    "    utente = df_ratings[df_ratings['user_id'] == us]\n",
    "    utente = utente[['book_id', 'rating']].sort_values(by='rating', ascending=False)\n",
    "\n",
    "    for book_id, rating in utente.values:\n",
    "        if book_id in df_books['goodreads_book_id'].values:\n",
    "            book_title = df_books[df_books['goodreads_book_id'] == book_id]['title'].values[0]\n",
    "            print(f\"{book_title},   {rating}\")"
   ],
   "id": "71237943f10f8c7f",
   "outputs": [],
   "execution_count": 32
  },
  {
   "metadata": {},
   "cell_type": "markdown",
   "source": "Format and display recommendation results with book titles.",
   "id": "fe0b736f4506e5e5"
  },
  {
   "metadata": {
    "ExecuteTime": {
     "end_time": "2025-06-18T20:56:47.914244Z",
     "start_time": "2025-06-18T20:56:47.910554Z"
    }
   },
   "cell_type": "code",
   "source": [
    "def print_recommendations(user, n=25):\n",
    "    if isinstance(user, int):\n",
    "        rec, rec_id = recommendations(dataloader.dataset[user][0], model, n)\n",
    "    else:\n",
    "        rec, rec_id = recommendations(user, model, n)\n",
    "\n",
    "    print(\"#############################################\\n\")\n",
    "    print(f\"Top {n} recommendations for user {user}\\n\")\n",
    "    [print(i) for i in rec]\n",
    "    print(\"\\n#############################################\")"
   ],
   "id": "cf7b87b3",
   "outputs": [],
   "execution_count": 21
  },
  {
   "cell_type": "markdown",
   "id": "3b6bb16e",
   "metadata": {},
   "source": [
    "## Generate new user"
   ]
  },
  {
   "metadata": {},
   "cell_type": "markdown",
   "source": "Define functions to select representative books from each cluster and create new user profiles.",
   "id": "95065b4e197fe0fe"
  },
  {
   "cell_type": "code",
   "id": "b8272f20",
   "metadata": {
    "ExecuteTime": {
     "end_time": "2025-06-18T20:56:47.992907Z",
     "start_time": "2025-06-18T20:56:47.986301Z"
    }
   },
   "source": [
    "n_best_books_for_cluster = 2\n",
    "min_n_chosen = 3\n",
    "\n",
    "def find_bestbooks(n_best_books_for_cluster=n_best_books_for_cluster):\n",
    "    books = []\n",
    "    for cluster in df_books['cluster'].unique():\n",
    "        top_books = df_books[df_books['cluster'] == cluster].nlargest(n_best_books_for_cluster, 'work_ratings_count')\n",
    "        books.extend(top_books['goodreads_book_id'].tolist())\n",
    "    return books\n",
    "\n",
    "def user_from_ids(books_ids):\n",
    "    user_preferences = np.zeros(n_books)\n",
    "    for book_id in books_ids:\n",
    "        if book_id in mapping_books_to_pos:\n",
    "            user_preferences[mapping_books_to_pos[book_id]] = 1\n",
    "    return torch.tensor(user_preferences, dtype=torch.float32)"
   ],
   "outputs": [],
   "execution_count": 22
  },
  {
   "metadata": {},
   "cell_type": "markdown",
   "source": "Interactive interface for new users to select preferred books from cluster representatives.",
   "id": "5d4045005578063e"
  },
  {
   "metadata": {
    "ExecuteTime": {
     "end_time": "2025-06-18T20:57:27.993378Z",
     "start_time": "2025-06-18T20:56:48.064038Z"
    }
   },
   "cell_type": "code",
   "source": [
    "print(f\"Choose more than {min_n_chosen} books from the following list:\\n\")\n",
    "book_ids = find_bestbooks()\n",
    "ids = []\n",
    "for i, book in enumerate(book_ids):\n",
    "    print(f\"{i + 1}. {df_books[df_books['goodreads_book_id'] == book]['title'].values[0]}\")\n",
    "    ids.append(book)\n",
    "\n",
    "chosen_books = input(\"\\nEnter numbers separated by commas: \")\n",
    "chosen_books = [int(x) for x in chosen_books.split(\",\")]\n",
    "chosen_ids = []\n",
    "\n",
    "for element in chosen_books:\n",
    "    chosen_ids.append(ids[element - 1])\n",
    "    print (f\"Chosen book: {df_books[df_books['goodreads_book_id'] == chosen_ids[-1]]['title'].values[0]}\")"
   ],
   "id": "974601e0cb0ff5",
   "outputs": [
    {
     "name": "stdout",
     "output_type": "stream",
     "text": [
      "Choose more than 3 books from the following list:\n",
      "\n",
      "1. The Hunger Games (The Hunger Games, #1)\n",
      "2. The Fault in Our Stars\n",
      "3. Harry Potter and the Sorcerer's Stone (Harry Potter, #1)\n",
      "4. The Hobbit\n",
      "5. Twilight (Twilight, #1)\n",
      "6. The Lightning Thief (Percy Jackson and the Olympians, #1)\n",
      "7. To Kill a Mockingbird\n",
      "8. The Great Gatsby\n",
      "9. Angels & Demons  (Robert Langdon, #1)\n",
      "10. The Girl with the Dragon Tattoo (Millennium, #1)\n",
      "11. The Diary of a Young Girl\n",
      "12. Eat, Pray, Love\n",
      "13. The Kite Runner\n",
      "14. The Help\n",
      "15. The Lion, the Witch, and the Wardrobe (Chronicles of Narnia, #1)\n",
      "16. The Giver (The Giver, #1)\n",
      "17. The Alchemist\n",
      "18. Freakonomics: A Rogue Economist Explores the Hidden Side of Everything (Freakonomics, #1)\n",
      "19. Watchmen\n",
      "20. V for Vendetta\n",
      "Chosen book: The Lion, the Witch, and the Wardrobe (Chronicles of Narnia, #1)\n",
      "Chosen book: The Giver (The Giver, #1)\n",
      "Chosen book: The Hunger Games (The Hunger Games, #1)\n"
     ]
    }
   ],
   "execution_count": 23
  },
  {
   "metadata": {},
   "cell_type": "markdown",
   "source": "These are the recommendations for a new user based on the autoencoder model.",
   "id": "55ad45f38bae1eaf"
  },
  {
   "metadata": {
    "ExecuteTime": {
     "end_time": "2025-06-18T20:57:28.104391Z",
     "start_time": "2025-06-18T20:57:28.082131Z"
    }
   },
   "cell_type": "code",
   "source": [
    "if len(chosen_books) < min_n_chosen:\n",
    "    print(f\"Please choose at least {min_n_chosen} books.\")\n",
    "else:\n",
    "    print_recommendations(user_from_ids(chosen_ids), n=50)"
   ],
   "id": "3f1f121abe80b783",
   "outputs": [
    {
     "name": "stdout",
     "output_type": "stream",
     "text": [
      "#############################################\n",
      "\n",
      "Top 50 recommendations for user tensor([1., 0., 0.,  ..., 0., 0., 0.])\n",
      "\n",
      "Harry Potter and the Sorcerer's Stone (Harry Potter, #1)\n",
      "Harry Potter and the Goblet of Fire (Harry Potter, #4)\n",
      "Harry Potter and the Half-Blood Prince (Harry Potter, #6)\n",
      "Harry Potter and the Prisoner of Azkaban (Harry Potter, #3)\n",
      "Harry Potter and the Order of the Phoenix (Harry Potter, #5)\n",
      "Pride and Prejudice\n",
      "The Fellowship of the Ring (The Lord of the Rings, #1)\n",
      "The Da Vinci Code (Robert Langdon, #2)\n",
      "Snow Flower and the Secret Fan\n",
      "The Hitchhiker's Guide to the Galaxy (Hitchhiker's Guide to the Galaxy, #1)\n",
      "Angels & Demons  (Robert Langdon, #1)\n",
      "Marley and Me: Life and Love With the World's Worst Dog\n",
      "Eleven Minutes\n",
      "Of Mice and Men\n",
      "Hamlet\n",
      "Memoirs of a Geisha\n",
      "Ethan Frome\n",
      "Born Standing Up: A Comic's Life\n",
      "Matilda\n",
      "The Voyage of the Dawn Treader (Chronicles of Narnia, #3)\n",
      "Rosemary's Baby\n",
      "Cross My Heart and Hope to Spy (Gallagher Girls, #2)\n",
      "Being Mortal: Medicine and What Matters in the End\n",
      "The No. 1 Ladies' Detective Agency  (No. 1 Ladies' Detective Agency, #1)\n",
      "Paranormalcy (Paranormalcy, #1)\n",
      "Brain on Fire: My Month of Madness\n",
      "Lucky\n",
      "Ignite Me (Shatter Me, #3)\n",
      "Into the Wild\n",
      "A Crown of Swords (Wheel of Time, #7)\n",
      "Love the One You're With\n",
      "Reckless (Thoughtless, #3)\n",
      "Rodrick Rules (Diary of a Wimpy Kid, #2)\n",
      "The Statistical Probability of Love at First Sight\n",
      "The House of the Scorpion (Matteo Alacran, #1)\n",
      "Thoughtless (Thoughtless, #1)\n",
      "Vampire Academy (Vampire Academy, #1)\n",
      "When You Reach Me\n",
      "Night (The Night Trilogy #1)\n",
      "Hatchet (Brian's Saga, #1)\n",
      "I'd Tell You I Love You, But Then I'd Have to Kill You (Gallagher Girls, #1)\n",
      "Invisible Monsters\n",
      "Howl and Other Poems\n",
      "Ten Tiny Breaths (Ten Tiny Breaths, #1)\n",
      "Faith of the Fallen (Sword of Truth, #6)\n",
      "Still Life (Chief Inspector Armand Gamache, #1)\n",
      "The Celestine Prophecy (Celestine Prophecy, #1)\n",
      "The Lord of the Rings (The Lord of the Rings, #1-3)\n",
      "The Great Gatsby\n",
      "The Martian\n",
      "\n",
      "#############################################\n"
     ]
    }
   ],
   "execution_count": 24
  },
  {
   "cell_type": "markdown",
   "id": "0babcdb3",
   "metadata": {},
   "source": [
    "## Evaluating"
   ]
  },
  {
   "metadata": {},
   "cell_type": "markdown",
   "source": "Implement hold-out validation by hiding 20% of user preferences and measuring recovery in recommendations.",
   "id": "3182ffa66e296eda"
  },
  {
   "cell_type": "code",
   "id": "3cd31f29",
   "metadata": {
    "ExecuteTime": {
     "end_time": "2025-06-18T20:57:28.169694Z",
     "start_time": "2025-06-18T20:57:28.165488Z"
    }
   },
   "source": [
    "def user_refinding(model,user):\n",
    "    rating_pos = user[user == 1.0]\n",
    "    if len(rating_pos) != 0:\n",
    "        removed_pos = rating_pos[:int(len(rating_pos)/5)+1]\n",
    "        removed_books = [mapping_pos_to_books[elem] for elem in removed_pos.tolist()]\n",
    "        _, diff_id = recommendations(user, model)\n",
    "        diff = list(set(removed_books) - set(diff_id))\n",
    "        return len(diff)/len(removed_books), len(removed_books)\n",
    "    else:\n",
    "        return 0,0"
   ],
   "outputs": [],
   "execution_count": 25
  },
  {
   "cell_type": "code",
   "id": "1dd70ed9",
   "metadata": {
    "ExecuteTime": {
     "end_time": "2025-06-18T21:03:06.744608Z",
     "start_time": "2025-06-18T20:57:28.228830Z"
    }
   },
   "source": [
    "from tqdm import tqdm\n",
    "\n",
    "device = torch.device('cuda' if torch.cuda.is_available() else 'cpu')\n",
    "sum = 0\n",
    "for i in tqdm(range(len(mapping_users_to_pos)), desc=\"Evaluating users\"):\n",
    "    user_tensor = dataloader.dataset[i][0].to(device)\n",
    "    len_ratio, _ = user_refinding(model, user_tensor)\n",
    "    sum += len_ratio\n",
    "print('On avg we refind: ', sum/len(mapping_users_to_pos), \"% of the removed items\")"
   ],
   "outputs": [
    {
     "name": "stderr",
     "output_type": "stream",
     "text": [
      "Evaluating users: 100%|██████████| 48939/48939 [05:38<00:00, 144.57it/s]"
     ]
    },
    {
     "name": "stdout",
     "output_type": "stream",
     "text": [
      "On avg we refind:  0.21513040043046833 % of the removed items\n"
     ]
    },
    {
     "name": "stderr",
     "output_type": "stream",
     "text": [
      "\n"
     ]
    }
   ],
   "execution_count": 26
  },
  {
   "cell_type": "markdown",
   "id": "b1fce1e4",
   "metadata": {},
   "source": [
    "## Example of use"
   ]
  },
  {
   "metadata": {},
   "cell_type": "markdown",
   "source": "Show example user's reading history (literary classics, sci-fi preference pattern).",
   "id": "9771347fbebaeb9e"
  },
  {
   "metadata": {
    "ExecuteTime": {
     "end_time": "2025-06-18T21:10:13.144400Z",
     "start_time": "2025-06-18T21:10:13.115199Z"
    }
   },
   "cell_type": "code",
   "source": "print_users_ratings(20)",
   "id": "2d323e7c03be707e",
   "outputs": [
    {
     "name": "stdout",
     "output_type": "stream",
     "text": [
      "The Last Song,   5\n",
      "Dear John,   5\n",
      "Snow Flower and the Secret Fan,   5\n",
      "The Help,   5\n",
      "Sam's Letters to Jennifer,   5\n",
      "My Sister's Keeper,   5\n",
      "The Guardian,   5\n",
      "Nights in Rodanthe,   5\n",
      "Suzanne's Diary for Nicholas,   5\n",
      "Message in a Bottle,   5\n",
      "Eat, Pray, Love,   5\n",
      "The Choice,   5\n",
      "Safe Haven,   5\n",
      "Along Came a Spider (Alex Cross, #1),   5\n",
      "The Beach House,   5\n",
      "Can You Keep a Secret?,   5\n",
      "Getting Things Done: The Art of Stress-Free Productivity,   5\n",
      "The Best of Me,   5\n",
      "A Walk to Remember,   4\n",
      "The Lucky One,   4\n",
      "The Pilot's Wife,   4\n",
      "The Thirteenth Tale,   4\n",
      "Water for Elephants,   4\n",
      "The Glass Castle,   4\n",
      "The Rescue,   4\n",
      "The Pact,   4\n",
      "The Tenth Circle,   4\n",
      "At First Sight (Jeremy Marsh & Lexie Darnell, #2),   4\n",
      "The Wedding (The Notebook, #2),   4\n",
      "Twenties Girl,   4\n",
      "Remember Me?,   4\n",
      "Shopaholic Ties the Knot (Shopaholic, #3),   4\n",
      "Who Moved My Cheese?,   4\n",
      "House Rules,   4\n",
      "The Secret Life of Bees,   4\n",
      "Julie and Julia: 365 Days, 524 Recipes, 1 Tiny Apartment Kitchen: How One Girl Risked Her Marriage, Her Job, and Her Sanity to Master the Art of Living,   4\n",
      "Shopaholic and Sister (Shopaholic, #4),   4\n",
      "The Five People You Meet in Heaven,   4\n",
      "P.S. I Love You,   4\n",
      "Tuesdays with Morrie,   4\n",
      "For One More Day,   4\n",
      "Confessions of a Shopaholic (Shopaholic, #1),   4\n",
      "The Undomestic Goddess,   4\n",
      "Shopaholic Takes Manhattan (Shopaholic, #2),   4\n",
      "Nickel and Dimed: On (Not) Getting By in America,   4\n",
      "True Believer (Jeremy Marsh & Lexie Darnell, #1),   4\n",
      "A Bend in the Road,   4\n",
      "Kiss the Girls (Alex Cross, #2),   4\n",
      "1st to Die (Women's Murder Club, #1),   4\n",
      "The Angel Experiment (Maximum Ride, #1),   4\n",
      "2nd Chance (Women's Murder Club, #2),   4\n",
      "4th of July (Women's Murder Club, #4),   4\n",
      "3rd Degree (Women's Murder Club, #3),   4\n",
      "Jack & Jill (Alex Cross, #3),   4\n",
      "Hide and Seek,   4\n",
      "Shopaholic & Baby (Shopaholic, #5),   3\n"
     ]
    }
   ],
   "execution_count": 36
  },
  {
   "metadata": {},
   "cell_type": "markdown",
   "source": "Demonstrate model recommendations for the example user, showing how autoencoder captures preference patterns.",
   "id": "2753515fa576151f"
  },
  {
   "cell_type": "code",
   "id": "6f3366cf",
   "metadata": {
    "ExecuteTime": {
     "end_time": "2025-06-18T21:10:21.419084Z",
     "start_time": "2025-06-18T21:10:21.409952Z"
    }
   },
   "source": "print_recommendations(20, 5)",
   "outputs": [
    {
     "name": "stdout",
     "output_type": "stream",
     "text": [
      "#############################################\n",
      "\n",
      "Top 5 recommendations for user 20\n",
      "\n",
      "Pride and Prejudice\n",
      "Snow Flower and the Secret Fan\n",
      "Eleven Minutes\n",
      "Marley and Me: Life and Love With the World's Worst Dog\n",
      "Ethan Frome\n",
      "\n",
      "#############################################\n"
     ]
    }
   ],
   "execution_count": 38
  }
 ],
 "metadata": {
  "kernelspec": {
   "display_name": "venv",
   "language": "python",
   "name": "python3"
  },
  "language_info": {
   "codemirror_mode": {
    "name": "ipython",
    "version": 3
   },
   "file_extension": ".py",
   "mimetype": "text/x-python",
   "name": "python",
   "nbconvert_exporter": "python",
   "pygments_lexer": "ipython3",
   "version": "3.9.20"
  }
 },
 "nbformat": 4,
 "nbformat_minor": 5
}
