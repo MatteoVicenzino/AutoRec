{
 "cells": [
  {
   "cell_type": "code",
   "execution_count": 1,
   "id": "18864ef6",
   "metadata": {},
   "outputs": [],
   "source": [
    "import Recomandation_models as rm\n",
    "import Filtering as fl\n",
    "import pandas as pd\n",
    "import numpy as np\n",
    "\n",
    "import math\n",
    "from time import time\n",
    "import matplotlib.pyplot as plt\n",
    "import torch\n",
    "import torch.nn as nn \n",
    "import torch.nn.functional as F \n",
    "import torchvision \n",
    "import torch.utils.data as data\n",
    "import torch.distributions as dist"
   ]
  },
  {
   "cell_type": "markdown",
   "id": "ccd83e87",
   "metadata": {},
   "source": [
    "### DATA PREPARATION"
   ]
  },
  {
   "cell_type": "code",
   "execution_count": 2,
   "id": "2b162ad5",
   "metadata": {},
   "outputs": [],
   "source": [
    "df_books = pd.read_csv(\"books_autorec.csv\")\n",
    "df_ratings = pd.read_csv(\"ratings_autorec.csv\")\n",
    "\n",
    "df_ratings_with_clusters = df_ratings.merge(\n",
    "    df_books[['goodreads_book_id', 'cluster']], \n",
    "    left_on='book_id', \n",
    "    right_on='goodreads_book_id', \n",
    "    how='left'\n",
    ")\n",
    "\n",
    "# create dictionary with user and ratings\n",
    "sparse_users = {}\n",
    "for user_id, group in df_ratings_with_clusters.groupby('user_id'):\n",
    "    books_ratings_clusters = group[['book_id', 'rating', 'cluster']].values.tolist()\n",
    "    sparse_users[user_id] = books_ratings_clusters\n",
    "\n",
    "cluster_sizes = df_books['cluster'].value_counts().sort_index().values"
   ]
  },
  {
   "cell_type": "code",
   "execution_count": 3,
   "id": "29b2176b",
   "metadata": {},
   "outputs": [
    {
     "name": "stdout",
     "output_type": "stream",
     "text": [
      "[[0, 0.2578125, 33], [1, 0.171875, 22], [8, 0.1328125, 17], [9, 0.1328125, 17], [4, 0.1015625, 13], [5, 0.0703125, 9], [7, 0.046875, 6], [10, 0.03125, 4], [13, 0.0234375, 3], [3, 0.015625, 2], [12, 0.0078125, 1], [14, 0.0078125, 1]]\n"
     ]
    }
   ],
   "source": [
    "e88 = fl.find_clusters_ratio(sparse_users[88])\n",
    "print(e88)"
   ]
  },
  {
   "cell_type": "code",
   "execution_count": 4,
   "id": "15a2c78a",
   "metadata": {},
   "outputs": [
    {
     "name": "stdout",
     "output_type": "stream",
     "text": [
      "300\n",
      "[[2657, 4], [48855, 3], [1885, 4], [7613, 4], [5107, 3], [4381, 4], [7624, 3], [3, 4], [18135, 3], [5907, 3], [3636, 4], [11127, 3], [77203, 2], [1420, 4], [11486, 5], [168668, 2], [41865, 1], [4981, 3], [6900, 2], [14050, 2], [114345, 3], [7244, 5], [5, 4], [8127, 3], [7604, 5], [136251, 4], [890, 3], [16981, 5], [6, 5], [1, 4], [1869, 4], [343, 3], [38447, 3], [231804, 3], [2, 4], [9791, 3], [8852, 4], [133518, 2], [12232938, 2], [2187, 4], [5148, 5], [39988, 5], [391729, 3], [7733, 4], [19380, 4], [70401, 2], [9717, 3], [1845, 1], [43641, 2], [4900, 1], [51606, 3], [227571, 1], [5043, 5], [76778, 3], [37781, 5], [6514, 4], [14706, 3], [58345, 4], [9777, 4], [187181, 2], [32261, 2], [4953, 4], [8921, 3], [101299, 1], [10890, 2], [11762, 5], [13872, 4], [116236, 3], [3867, 5], [14836, 3], [19089, 4], [14249, 5], [15881, 4], [7728, 3], [227265, 5], [77262, 4], [6759, 4], [14250, 4], [77554, 1], [14201, 4], [7073, 2], [30868, 4], [25078, 4], [5015, 1], [157993, 2], [18545, 3], [12996, 4], [231, 4], [11761, 4], [28700, 5], [400, 4], [252577, 2], [24100, 5], [41193, 4], [227443, 2], [320, 1], [5204, 4], [5205, 3], [277397, 3], [3805, 1], [5158, 3], [32234, 2], [6751, 5], [24724, 4], [6433752, 5], [4137, 4], [4138, 4], [10176, 4], [1044355, 4], [4136, 4], [242006, 3], [32370, 3], [79790, 3], [61115, 3], [37426, 3], [347143, 4], [97782, 3], [5439, 3], [85301, 3], [9844, 2], [10441, 2], [68210, 2], [11691, 2], [11690, 3], [21671, 1], [15779, 4], [96702, 1], [25051, 3], [np.int64(31463), 0], [np.int64(9864), 0], [np.int64(7194), 0], [np.int64(58314), 0], [np.int64(58027), 0], [np.int64(46945), 0], [np.int64(99329), 0], [np.int64(469571), 0], [np.int64(54120), 0], [np.int64(86658), 0], [np.int64(2623), 0], [np.int64(12873), 0], [np.int64(3690), 0], [np.int64(60935), 0], [np.int64(930), 0], [np.int64(14680), 0], [np.int64(298663), 0], [np.int64(56759), 0], [np.int64(125502), 0], [np.int64(17728), 0], [np.int64(151926), 0], [np.int64(5206937), 0], [np.int64(32650), 0], [np.int64(50618), 0], [np.int64(12448), 0], [np.int64(29641), 0], [np.int64(6193), 0], [np.int64(2183), 0], [np.int64(325128), 0], [np.int64(4395), 0], [np.int64(53969), 0], [np.int64(23814), 0], [np.int64(11376), 0], [np.int64(29059), 0], [np.int64(9957), 0], [np.int64(828387), 0], [np.int64(6192), 0], [np.int64(31173), 0], [np.int64(10996342), 0], [np.int64(9712), 0], [np.int64(254308), 0], [np.int64(243705), 0], [np.int64(41219), 0], [np.int64(530965), 0], [np.int64(22076), 0], [np.int64(10566), 0], [np.int64(480204), 0], [np.int64(427920), 0], [np.int64(3717), 0], [np.int64(52629), 0], [np.int64(10607), 0], [np.int64(6400090), 0], [np.int64(50275), 0], [np.int64(66370), 0], [np.int64(5048174), 0], [np.int64(13151637), 0], [np.int64(6282753), 0], [np.int64(40465), 0], [np.int64(3009435), 0], [np.int64(367802), 0], [np.int64(62212), 0], [np.int64(11573), 0], [np.int64(10872085), 0], [np.int64(10400407), 0], [np.int64(1528410), 0], [np.int64(180930), 0], [np.int64(13554713), 0], [np.int64(2350129), 0], [np.int64(119239), 0], [np.int64(11206), 0], [np.int64(133954), 0], [np.int64(7952502), 0], [np.int64(113429), 0], [np.int64(13023), 0], [np.int64(12898), 0], [np.int64(2175), 0], [np.int64(39664), 0], [np.int64(10006), 0], [np.int64(1232), 0], [np.int64(2696), 0], [np.int64(1618), 0], [np.int64(9328), 0], [np.int64(2122), 0], [np.int64(789344), 0], [np.int64(2956), 0], [np.int64(285092), 0], [np.int64(117833), 0], [np.int64(17716), 0], [np.int64(22034), 0], [np.int64(10917), 0], [np.int64(331319), 0], [np.int64(338798), 0], [np.int64(23919), 0], [np.int64(253264), 0], [np.int64(12467), 0], [np.int64(13414594), 0], [np.int64(23012475), 0], [np.int64(22896), 0], [np.int64(23602562), 0], [np.int64(9361589), 0], [np.int64(23453099), 0], [np.int64(13258), 0], [np.int64(7723542), 0], [np.int64(13526165), 0], [np.int64(28802599), 0], [np.int64(58822), 0], [np.int64(13586707), 0], [np.int64(23513349), 0], [np.int64(3273), 0], [np.int64(5157), 0], [np.int64(22836957), 0], [np.int64(17286747), 0], [np.int64(25837338), 0], [np.int64(17204568), 0], [np.int64(961833), 0], [np.int64(6505109), 0], [np.int64(11450591), 0], [np.int64(111220), 0], [np.int64(14318), 0], [np.int64(829313), 0], [np.int64(6174), 0], [np.int64(9010), 0], [np.int64(1624), 0], [np.int64(10211494), 0], [np.int64(18170143), 0], [np.int64(12868761), 0], [np.int64(91760), 0], [np.int64(676555), 0], [np.int64(1128178), 0], [np.int64(12540), 0], [np.int64(24687), 0], [np.int64(8765), 0], [np.int64(10252302), 0], [np.int64(15851746), 0], [np.int64(8296), 0], [np.int64(196970), 0], [np.int64(826585), 0], [np.int64(100915), 0], [np.int64(828084), 0], [np.int64(208146), 0], [np.int64(315882), 0], [np.int64(270067), 0], [np.int64(7150178), 0], [np.int64(6202556), 0], [np.int64(34268), 0], [np.int64(123170), 0], [np.int64(15283043), 0], [np.int64(161887), 0], [np.int64(41424), 0], [np.int64(7558747), 0], [np.int64(8492825), 0], [np.int64(12813860), 0], [np.int64(104379), 0], [np.int64(28187), 0], [np.int64(59263), 0], [np.int64(1215032), 0], [np.int64(334643), 0], [np.int64(149049), 0], [np.int64(886066), 0], [np.int64(599), 0], [np.int64(3869), 0], [np.int64(646462), 0], [np.int64(55403), 0], [np.int64(9293020), 0], [np.int64(9489502), 0], [np.int64(12063467), 0], [np.int64(65684), 0], [np.int64(3102), 0], [np.int64(250), 0], [np.int64(19106), 0], [np.int64(63033), 0], [np.int64(6280379), 0]]\n"
     ]
    }
   ],
   "source": [
    "em88 = fl.embed(sparse_users[88], df_books)\n",
    "print(len(em88))\n",
    "print(em88)"
   ]
  },
  {
   "cell_type": "code",
   "execution_count": 3,
   "id": "441f44eb",
   "metadata": {},
   "outputs": [
    {
     "data": {
      "text/plain": [
       "10000"
      ]
     },
     "execution_count": 3,
     "metadata": {},
     "output_type": "execute_result"
    }
   ],
   "source": [
    "ids = np.unique(df_ratings_with_clusters['goodreads_book_id'])\n",
    "len(ids)"
   ]
  },
  {
   "cell_type": "code",
   "execution_count": null,
   "id": "7d459016",
   "metadata": {},
   "outputs": [
    {
     "data": {
      "application/vnd.jupyter.widget-view+json": {
       "model_id": "71eb75c715c2485c81b950ac36be8fa5",
       "version_major": 2,
       "version_minor": 0
      },
      "text/plain": [
       "  0%|          | 0/53424 [00:00<?, ?it/s]"
      ]
     },
     "metadata": {},
     "output_type": "display_data"
    }
   ],
   "source": [
    "#used only for the first initialization. never use again. slow\n",
    "user_embeddings = fl.embed_all_users(sparse_users, df_books, num_processes=8)\n",
    "data_tensor = torch.stack(user_embeddings)\n",
    "dataset = data.TensorDataset(data_tensor)\n",
    "dataloader = data.DataLoader(dataset, batch_size=32, shuffle=True)"
   ]
  },
  {
   "cell_type": "code",
   "execution_count": null,
   "id": "e972be3e",
   "metadata": {},
   "outputs": [],
   "source": [
    "#torch.save(user_embeddings,'\"C:\\Users\\pitom\\OneDrive\\Desktop\\materiale uni\\data-vis\\info retroval\\esame\\user_embeddings.pt\"')"
   ]
  },
  {
   "cell_type": "code",
   "execution_count": 4,
   "id": "b6e29bb3",
   "metadata": {},
   "outputs": [],
   "source": [
    "#to use from now on so the data are alredy preprocessed\n",
    "user_embeddings = torch.load(\"C:/Users/pitom/OneDrive/Desktop/materiale uni/data-vis/info retroval/esame/user_embeddings.pt\")\n",
    "dataloader = data.DataLoader(user_embeddings,32,shuffle=True)"
   ]
  },
  {
   "cell_type": "code",
   "execution_count": 5,
   "id": "ec0ad41d",
   "metadata": {},
   "outputs": [
    {
     "data": {
      "text/plain": [
       "torch.Size([300, 2])"
      ]
     },
     "execution_count": 5,
     "metadata": {},
     "output_type": "execute_result"
    }
   ],
   "source": [
    "dataloader.dataset[0].shape"
   ]
  },
  {
   "cell_type": "markdown",
   "id": "37a06416",
   "metadata": {},
   "source": [
    "### MODEL CREATION AND TRAINING"
   ]
  },
  {
   "cell_type": "code",
   "execution_count": 9,
   "id": "765bdf5f",
   "metadata": {},
   "outputs": [],
   "source": [
    "def loss(value_sets, x, recon):\n",
    "    batch_size, seq_len, num_cols = recon.shape\n",
    "    distances_per_col = []\n",
    "\n",
    "    for i in range(num_cols):\n",
    "        col = recon[:, :, i].float()  \n",
    "        values = value_sets[i].to(recon.device).float()  \n",
    "        col = col.unsqueeze(-1)                   \n",
    "        values = values.view(1, 1, -1)           \n",
    "        distances = torch.abs(col - values)     \n",
    "        min_distances, _ = distances.min(dim=2) \n",
    "        distances_per_col.append(min_distances)\n",
    "\n",
    "    all_distances = torch.stack(distances_per_col, dim=2)\n",
    "    total_distance = all_distances.sum()\n",
    "\n",
    "    x = x.float()\n",
    "    recon = recon.float()\n",
    "    mse = F.mse_loss(recon, x)\n",
    "\n",
    "    return total_distance * 0.0001 + 10000*mse"
   ]
  },
  {
   "cell_type": "code",
   "execution_count": 10,
   "id": "8e771473",
   "metadata": {},
   "outputs": [
    {
     "name": "stderr",
     "output_type": "stream",
     "text": [
      "C:\\Users\\pitom\\AppData\\Local\\Packages\\PythonSoftwareFoundation.Python.3.11_qbz5n2kfra8p0\\LocalCache\\local-packages\\Python311\\site-packages\\torch\\optim\\lr_scheduler.py:62: UserWarning: The verbose parameter is deprecated. Please use get_last_lr() to access the learning rate.\n",
      "  warnings.warn(\n"
     ]
    }
   ],
   "source": [
    "model = rm.FAE(300, ids)\n",
    "N_Epochs = 20\n",
    "criterion = loss\n",
    "optimizer = torch.optim.Adam(model.parameters(), lr = 0.001)\n",
    "scheduler = torch.optim.lr_scheduler.ReduceLROnPlateau(optimizer, mode='min', factor=0.1, patience=3, verbose=False)"
   ]
  },
  {
   "cell_type": "code",
   "execution_count": 11,
   "id": "1cf79247",
   "metadata": {},
   "outputs": [
    {
     "name": "stdout",
     "output_type": "stream",
     "text": [
      "Epoch: 1 | Loss: 190190465198516128.0000 | Time: 1080.13\n",
      "Epoch: 2 | Loss: 178443497376036288.0000 | Time: 1100.96\n",
      "Epoch: 3 | Loss: 176910575127420064.0000 | Time: 1072.07\n",
      "Epoch: 4 | Loss: 173901411094855776.0000 | Time: 1053.98\n",
      "Epoch: 5 | Loss: 171548206125428448.0000 | Time: 1097.19\n",
      "Epoch: 6 | Loss: 170132101475088512.0000 | Time: 1097.09\n",
      "Epoch: 7 | Loss: 168755879885912448.0000 | Time: 1097.72\n",
      "Epoch: 8 | Loss: 167650310439656096.0000 | Time: 1095.28\n",
      "Epoch: 9 | Loss: 166370329051997600.0000 | Time: 1105.84\n",
      "Epoch: 10 | Loss: 165698516505424704.0000 | Time: 1152.51\n",
      "Epoch: 11 | Loss: 165314421527704736.0000 | Time: 1355.48\n",
      "Epoch: 12 | Loss: 164521764978397728.0000 | Time: 1343.34\n",
      "Epoch: 13 | Loss: 163797954217495264.0000 | Time: 1290.97\n",
      "Epoch: 14 | Loss: 162840563088424448.0000 | Time: 1021.15\n",
      "Epoch: 15 | Loss: 162431121045968384.0000 | Time: 1090.41\n",
      "Epoch: 16 | Loss: 162082322830032672.0000 | Time: 1333.58\n",
      "Epoch: 17 | Loss: 161832644770036256.0000 | Time: 1324.88\n",
      "Epoch: 18 | Loss: 161594932432312160.0000 | Time: 1088.24\n",
      "Epoch: 19 | Loss: 161423094295739552.0000 | Time: 1074.43\n",
      "Epoch: 20 | Loss: 161173453122538336.0000 | Time: 1097.49\n"
     ]
    }
   ],
   "source": [
    "losses,parameters,recon,z = rm.train_FAE(model, N_Epochs, dataloader, criterion, optimizer)"
   ]
  },
  {
   "cell_type": "code",
   "execution_count": 12,
   "id": "6fb3d26e",
   "metadata": {},
   "outputs": [
    {
     "data": {
      "image/png": "[encoded data removed]",
      "text/plain": [
       "<Figure size 640x480 with 1 Axes>"
      ]
     },
     "metadata": {},
     "output_type": "display_data"
    }
   ],
   "source": [
    "rm.loss_graph(losses,N_Epochs)"
   ]
  },
  {
   "cell_type": "code",
   "execution_count": 13,
   "id": "ec9175be",
   "metadata": {},
   "outputs": [],
   "source": [
    "import recommendation_system as rs"
   ]
  },
  {
   "cell_type": "code",
   "execution_count": 14,
   "id": "9ca58e0d",
   "metadata": {},
   "outputs": [
    {
     "name": "stdout",
     "output_type": "stream",
     "text": [
      "✅ Modello FAE caricato su cpu\n",
      "✅ Vettore utente dimensione: 300\n",
      "✅ Book IDs nel modello: 10000\n"
     ]
    }
   ],
   "source": [
    "reccomender = rs.create_recommendation_system(ids = ids)"
   ]
  },
  {
   "cell_type": "code",
   "execution_count": 21,
   "id": "74d9069a",
   "metadata": {},
   "outputs": [
    {
     "name": "stdout",
     "output_type": "stream",
     "text": [
      "Harry Potter and the Philosopher's Stone        4\n",
      "Twilight        3\n",
      "To Kill a Mockingbird        4\n",
      "The Hobbit or There and Back Again        4\n",
      "The Catcher in the Rye        3\n",
      "Pride and Prejudice        4\n",
      "The Kite Runner         3\n",
      "Animal Farm: A Fairy Story        4\n",
      "Het Achterhuis: Dagboekbrieven 14 juni 1942 - 1 augustus 1944        3\n",
      "Harry Potter and the Prisoner of Azkaban        3\n",
      "Harry Potter and the Order of the Phoenix        4\n",
      "The Lovely Bones        3\n",
      "Harry Potter and the Chamber of Secrets        2\n",
      "Harry Potter and the Goblet of Fire        4\n",
      "Harry Potter and the Deathly Hallows        5\n",
      "Harry Potter and the Half-Blood Prince        2\n",
      "Lord of the Flies         1\n",
      "An Excellent conceited Tragedie of Romeo and Juliet        3\n",
      "Of Mice and Men         2\n",
      "The Giver        2\n",
      "The Time Traveler's Wife        3\n",
      "Water for Elephants        5\n",
      "Fahrenheit 451        4\n",
      "Slaughterhouse-Five, or The Children's Crusade: A Duty-Dance with Death         3\n",
      "Bridget Jones's Diary (Bridget Jones, #1)        5\n",
      "Le Petit Prince        4\n",
      "Into the Wild        3\n",
      "The Outsiders        5\n",
      "Cien años de soledad        5\n",
      "The Poisonwood Bible        4\n",
      "Me Talk Pretty One Day        4\n",
      "The Memory Keeper's Daughter        3\n",
      "Catch-22        3\n",
      "Tuesdays with Morrie        3\n",
      "Middlesex        4\n",
      "The Handmaid's Tale        3\n",
      "Lolita        4\n",
      "The Tragicall Historie of Hamlet, Prince of Denmark        2\n",
      "Anne of Green Gables        2\n",
      "The Pillars of the Earth        4\n",
      "The Tragedy of Macbeth        5\n",
      "The Bell Jar        5\n",
      "Angela's Ashes: A Memoir        3\n",
      "Matilda        4\n",
      "The Color Purple        4\n",
      "The Chronicles of Narnia        2\n",
      "Running with Scissors        3\n",
      "On the Road        1\n",
      "Heart of Darkness        2\n",
      "A Walk in the Woods        1\n",
      "Nesnesitelná lehkost bytí        3\n",
      "White Oleander        1\n",
      "Naked        5\n",
      "The Tragedy of Othello, The Moor of Venice        3\n",
      "Dress Your Family in Corduroy and Denim        5\n",
      "Das Parfum. Die Geschichte eines Mörders        4\n",
      "The Tell-Tale Heart        3\n",
      "Things Fall Apart        4\n",
      "The God of Small Things        4\n",
      "A Heartbreaking Work of Staggering Genius        2\n",
      "Nickel and Dimed: On (Not) Getting By in America        2\n",
      "The Things They Carried        4\n",
      "Gulliver’s Travels        3\n",
      "When You Are Engulfed in Flames        1\n",
      "Tess of the d'Urbervilles: A Pure Woman Faithfully Presented        2\n",
      "Candide        5\n",
      "A Separate Peace        4\n",
      "The Hound of the Baskervilles        3\n",
      "The Martian Chronicles        5\n",
      "The Corrections        3\n",
      "Interpreter of Maladies        4\n",
      "Jonathan Strange & Mr Norrell        5\n",
      "Der Vorleser        4\n",
      "Invisible Man        3\n",
      "The Little House Collection        5\n",
      "The Awakening        4\n",
      "The Bean Trees        4\n",
      "The History of Love        4\n",
      "Holidays on Ice        1\n",
      "Middlemarch        4\n",
      "Midnight's Children        2\n",
      "Dry: A Memoir        4\n",
      "Prodigal Summer        4\n",
      "We Were the Mulvaneys        1\n",
      "Mystic River        2\n",
      "Ishmael: An Adventure of the Mind and Spirit        3\n",
      "Unaccustomed Earth        4\n",
      "White Noise        4\n",
      "Sideways Stories from Wayside School (Wayside School #1)        4\n",
      "The Chosen        5\n",
      "Ἀντιγόνη        4\n",
      "A Map of the World        2\n",
      "Rosencrantz and Guildenstern are Dead        5\n",
      "Peace Like a River        4\n",
      "Infinite Jest        2\n",
      "Animal Dreams        1\n",
      "Gilead        4\n",
      "Prep        3\n",
      "Magical Thinking: True Stories        3\n",
      "Saturday        1\n",
      "Geek Love        3\n",
      "The Lacuna        2\n",
      "A Thousand Acres        5\n",
      "Pigs in Heaven        4\n",
      "Possible Side Effects        5\n",
      "Faust. Eine Tragödie        4\n",
      "Traveling Mercies: Some Thoughts on Faith        4\n",
      "Mrs. Piggle-Wiggle        4\n",
      "Kar        4\n",
      "Then We Came to the End        4\n",
      "Consider the Lobster        3\n",
      "Little Children        3\n",
      "The Stone Diaries        3\n",
      "Johnny Got His Gun        3\n",
      "I am Charlotte Simmons        3\n",
      "Underworld        4\n",
      "Ellen Foster        3\n",
      "A Virtuous Woman         3\n",
      "Savage Inequalities: Children in America's Schools        3\n",
      "A Son of the Circus        2\n",
      "The Abstinence Teacher        2\n",
      "The Golden Notebook        2\n",
      "İstanbul: Hatıralar ve Şehir        2\n",
      "The Education of Little Tree        3\n",
      "Drop City        1\n",
      "Libra         4\n",
      "Falling Man        1\n",
      "Broken for You        3\n"
     ]
    }
   ],
   "source": [
    "book_ids_user = [tripla[0] for tripla in sparse_users[88]]\n",
    "ratings = [tripla[1] for tripla in sparse_users[88]]\n",
    "titles = df_books.loc[df_books['goodreads_book_id'].isin(book_ids_user),'original_title']\n",
    "for title, rating in zip(titles, ratings):\n",
    "    print(title,'      ' ,rating)"
   ]
  },
  {
   "cell_type": "code",
   "execution_count": 30,
   "id": "a7581420",
   "metadata": {},
   "outputs": [
    {
     "name": "stderr",
     "output_type": "stream",
     "text": [
      "c:\\Users\\pitom\\OneDrive\\Desktop\\materiale uni\\data-vis\\info retroval\\esame\\AutoRec\\Recomandation_models.py:49: UserWarning: std(): degrees of freedom is <= 0. Correction should be strictly less than the reduction factor (input numel divided by output numel). (Triggered internally at C:\\actions-runner\\_work\\pytorch\\pytorch\\pytorch\\aten\\src\\ATen\\native\\ReduceOps.cpp:1831.)\n",
      "  std = tensor.std(dim=0, keepdim=True) + 1e-8\n"
     ]
    },
    {
     "data": {
      "text/plain": [
       "tensor([[[1., 0.],\n",
       "         [1., 0.],\n",
       "         [1., 0.],\n",
       "         [1., 0.],\n",
       "         [1., 0.],\n",
       "         [1., 0.],\n",
       "         [1., 0.],\n",
       "         [1., 0.],\n",
       "         [1., 0.],\n",
       "         [1., 0.],\n",
       "         [1., 0.],\n",
       "         [1., 0.],\n",
       "         [1., 0.],\n",
       "         [1., 0.],\n",
       "         [1., 0.],\n",
       "         [1., 0.],\n",
       "         [1., 0.],\n",
       "         [1., 0.],\n",
       "         [1., 0.],\n",
       "         [1., 0.],\n",
       "         [1., 0.],\n",
       "         [1., 0.],\n",
       "         [1., 0.],\n",
       "         [1., 0.],\n",
       "         [1., 0.],\n",
       "         [1., 0.],\n",
       "         [1., 0.],\n",
       "         [1., 0.],\n",
       "         [1., 0.],\n",
       "         [1., 0.],\n",
       "         [1., 0.],\n",
       "         [1., 0.],\n",
       "         [1., 0.],\n",
       "         [1., 0.],\n",
       "         [1., 0.],\n",
       "         [1., 0.],\n",
       "         [1., 0.],\n",
       "         [1., 0.],\n",
       "         [1., 0.],\n",
       "         [1., 0.],\n",
       "         [1., 0.],\n",
       "         [1., 0.],\n",
       "         [1., 0.],\n",
       "         [1., 0.],\n",
       "         [1., 0.],\n",
       "         [1., 0.],\n",
       "         [1., 0.],\n",
       "         [1., 0.],\n",
       "         [1., 0.],\n",
       "         [1., 0.],\n",
       "         [1., 0.],\n",
       "         [1., 0.],\n",
       "         [1., 0.],\n",
       "         [1., 0.],\n",
       "         [1., 0.],\n",
       "         [1., 0.],\n",
       "         [1., 0.],\n",
       "         [1., 0.],\n",
       "         [1., 0.],\n",
       "         [1., 0.],\n",
       "         [1., 0.],\n",
       "         [1., 0.],\n",
       "         [1., 0.],\n",
       "         [1., 0.],\n",
       "         [1., 0.],\n",
       "         [1., 0.],\n",
       "         [1., 0.],\n",
       "         [1., 0.],\n",
       "         [1., 0.],\n",
       "         [1., 0.],\n",
       "         [1., 0.],\n",
       "         [1., 0.],\n",
       "         [1., 0.],\n",
       "         [1., 0.],\n",
       "         [1., 0.],\n",
       "         [1., 0.],\n",
       "         [1., 0.],\n",
       "         [1., 0.],\n",
       "         [1., 0.],\n",
       "         [1., 0.],\n",
       "         [1., 0.],\n",
       "         [1., 0.],\n",
       "         [1., 0.],\n",
       "         [1., 0.],\n",
       "         [1., 0.],\n",
       "         [1., 0.],\n",
       "         [1., 0.],\n",
       "         [1., 0.],\n",
       "         [1., 0.],\n",
       "         [1., 0.],\n",
       "         [1., 0.],\n",
       "         [1., 0.],\n",
       "         [1., 0.],\n",
       "         [1., 0.],\n",
       "         [1., 0.],\n",
       "         [1., 0.],\n",
       "         [1., 0.],\n",
       "         [1., 0.],\n",
       "         [1., 0.],\n",
       "         [1., 0.],\n",
       "         [1., 0.],\n",
       "         [1., 0.],\n",
       "         [1., 0.],\n",
       "         [1., 0.],\n",
       "         [1., 0.],\n",
       "         [1., 0.],\n",
       "         [1., 0.],\n",
       "         [1., 0.],\n",
       "         [1., 0.],\n",
       "         [1., 0.],\n",
       "         [1., 0.],\n",
       "         [1., 0.],\n",
       "         [1., 0.],\n",
       "         [1., 0.],\n",
       "         [1., 0.],\n",
       "         [1., 0.],\n",
       "         [1., 0.],\n",
       "         [1., 0.],\n",
       "         [1., 0.],\n",
       "         [1., 0.],\n",
       "         [1., 0.],\n",
       "         [1., 0.],\n",
       "         [1., 0.],\n",
       "         [1., 0.],\n",
       "         [1., 0.],\n",
       "         [1., 0.],\n",
       "         [1., 0.],\n",
       "         [1., 0.],\n",
       "         [1., 0.],\n",
       "         [1., 0.],\n",
       "         [1., 0.],\n",
       "         [1., 0.],\n",
       "         [1., 0.],\n",
       "         [1., 0.],\n",
       "         [1., 0.],\n",
       "         [1., 0.],\n",
       "         [1., 0.],\n",
       "         [1., 0.],\n",
       "         [1., 0.],\n",
       "         [1., 0.],\n",
       "         [1., 0.],\n",
       "         [1., 0.],\n",
       "         [1., 0.],\n",
       "         [1., 0.],\n",
       "         [1., 0.],\n",
       "         [1., 0.],\n",
       "         [1., 0.],\n",
       "         [1., 0.],\n",
       "         [1., 0.],\n",
       "         [1., 0.],\n",
       "         [1., 0.],\n",
       "         [1., 0.],\n",
       "         [1., 0.],\n",
       "         [1., 0.],\n",
       "         [1., 0.],\n",
       "         [1., 0.],\n",
       "         [1., 0.],\n",
       "         [1., 0.],\n",
       "         [1., 0.],\n",
       "         [1., 0.],\n",
       "         [1., 0.],\n",
       "         [1., 0.],\n",
       "         [1., 0.],\n",
       "         [1., 0.],\n",
       "         [1., 0.],\n",
       "         [1., 0.],\n",
       "         [1., 0.],\n",
       "         [1., 0.],\n",
       "         [1., 0.],\n",
       "         [1., 0.],\n",
       "         [1., 0.],\n",
       "         [1., 0.],\n",
       "         [1., 0.],\n",
       "         [1., 0.],\n",
       "         [1., 0.],\n",
       "         [1., 0.],\n",
       "         [1., 0.],\n",
       "         [1., 0.],\n",
       "         [1., 0.],\n",
       "         [1., 0.],\n",
       "         [1., 0.],\n",
       "         [1., 0.],\n",
       "         [1., 0.],\n",
       "         [1., 0.],\n",
       "         [1., 0.],\n",
       "         [1., 0.],\n",
       "         [1., 0.],\n",
       "         [1., 0.],\n",
       "         [1., 0.],\n",
       "         [1., 0.],\n",
       "         [1., 0.],\n",
       "         [1., 0.],\n",
       "         [1., 0.],\n",
       "         [1., 0.],\n",
       "         [1., 0.],\n",
       "         [1., 0.],\n",
       "         [1., 0.],\n",
       "         [1., 0.],\n",
       "         [1., 0.],\n",
       "         [1., 0.],\n",
       "         [1., 0.],\n",
       "         [1., 0.],\n",
       "         [1., 0.],\n",
       "         [1., 0.],\n",
       "         [1., 0.],\n",
       "         [1., 0.],\n",
       "         [1., 0.],\n",
       "         [1., 0.],\n",
       "         [1., 0.],\n",
       "         [1., 0.],\n",
       "         [1., 0.],\n",
       "         [1., 0.],\n",
       "         [1., 0.],\n",
       "         [1., 0.],\n",
       "         [1., 0.],\n",
       "         [1., 0.],\n",
       "         [1., 0.],\n",
       "         [1., 0.],\n",
       "         [1., 0.],\n",
       "         [1., 0.],\n",
       "         [1., 0.],\n",
       "         [1., 0.],\n",
       "         [1., 0.],\n",
       "         [1., 0.],\n",
       "         [1., 0.],\n",
       "         [1., 0.],\n",
       "         [1., 0.],\n",
       "         [1., 0.],\n",
       "         [1., 0.],\n",
       "         [1., 0.],\n",
       "         [1., 0.],\n",
       "         [1., 0.],\n",
       "         [1., 0.],\n",
       "         [1., 0.],\n",
       "         [1., 0.],\n",
       "         [1., 0.],\n",
       "         [1., 0.],\n",
       "         [1., 0.],\n",
       "         [1., 0.],\n",
       "         [1., 0.],\n",
       "         [1., 0.],\n",
       "         [1., 0.],\n",
       "         [1., 0.],\n",
       "         [1., 0.],\n",
       "         [1., 0.],\n",
       "         [1., 0.],\n",
       "         [1., 0.],\n",
       "         [1., 0.],\n",
       "         [1., 0.],\n",
       "         [1., 0.],\n",
       "         [1., 0.],\n",
       "         [1., 0.],\n",
       "         [1., 0.],\n",
       "         [1., 0.],\n",
       "         [1., 0.],\n",
       "         [1., 0.],\n",
       "         [1., 0.],\n",
       "         [1., 0.],\n",
       "         [1., 0.],\n",
       "         [1., 0.],\n",
       "         [1., 0.],\n",
       "         [1., 0.],\n",
       "         [1., 0.],\n",
       "         [1., 0.],\n",
       "         [1., 0.],\n",
       "         [1., 0.],\n",
       "         [1., 0.],\n",
       "         [1., 0.],\n",
       "         [1., 0.],\n",
       "         [1., 0.],\n",
       "         [1., 0.],\n",
       "         [1., 0.],\n",
       "         [1., 0.],\n",
       "         [1., 0.],\n",
       "         [1., 0.],\n",
       "         [1., 0.],\n",
       "         [1., 0.],\n",
       "         [1., 0.],\n",
       "         [1., 0.],\n",
       "         [1., 0.],\n",
       "         [1., 0.],\n",
       "         [1., 0.],\n",
       "         [1., 0.],\n",
       "         [1., 0.],\n",
       "         [1., 0.],\n",
       "         [1., 0.],\n",
       "         [1., 0.],\n",
       "         [1., 0.],\n",
       "         [1., 0.],\n",
       "         [1., 0.],\n",
       "         [1., 0.],\n",
       "         [1., 0.],\n",
       "         [1., 0.],\n",
       "         [1., 0.],\n",
       "         [1., 0.],\n",
       "         [1., 0.],\n",
       "         [1., 0.],\n",
       "         [1., 0.],\n",
       "         [1., 0.],\n",
       "         [1., 0.]]])"
      ]
     },
     "execution_count": 30,
     "metadata": {},
     "output_type": "execute_result"
    }
   ],
   "source": [
    "original = reccomender._sparse_to_tensor(sparse_users[120])\n",
    "reconstruction, latent = model(original, force_values=True)\n",
    "reconstruction"
   ]
  },
  {
   "cell_type": "code",
   "execution_count": 25,
   "id": "35ad11bc",
   "metadata": {},
   "outputs": [
    {
     "name": "stdout",
     "output_type": "stream",
     "text": [
      "🔍 Processando utente 120 con 77 rating\n",
      "⚠️  Nessuna nuova raccomandazione trovata\n",
      "📚 Nessuna raccomandazione trovata\n"
     ]
    }
   ],
   "source": [
    "recomandations = reccomender.recommend_for_user_id(120,sparse_users)\n",
    "reccomender.print_recommendations(recomandations)"
   ]
  }
 ],
 "metadata": {
  "kernelspec": {
   "display_name": "Python 3",
   "language": "python",
   "name": "python3"
  },
  "language_info": {
   "codemirror_mode": {
    "name": "ipython",
    "version": 3
   },
   "file_extension": ".py",
   "mimetype": "text/x-python",
   "name": "python",
   "nbconvert_exporter": "python",
   "pygments_lexer": "ipython3",
   "version": "3.11.9"
  }
 },
 "nbformat": 4,
 "nbformat_minor": 5
}
