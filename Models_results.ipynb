{
 "cells": [
  {
   "cell_type": "code",
   "execution_count": 1,
   "id": "18864ef6",
   "metadata": {},
   "outputs": [],
   "source": [
    "import Recomandation_models as rm\n",
    "import Filtering as fl\n",
    "import pandas as pd\n",
    "import numpy as np\n",
    "\n",
    "import math\n",
    "from time import time\n",
    "import matplotlib.pyplot as plt\n",
    "import torch\n",
    "import torch.nn as nn \n",
    "import torch.nn.functional as F \n",
    "import torchvision \n",
    "import torch.utils.data as data\n",
    "import torch.distributions as dist"
   ]
  },
  {
   "cell_type": "markdown",
   "id": "ccd83e87",
   "metadata": {},
   "source": [
    "### DATA PREPARATION"
   ]
  },
  {
   "cell_type": "code",
   "execution_count": 2,
   "id": "2b162ad5",
   "metadata": {},
   "outputs": [],
   "source": [
    "df_books = pd.read_csv(\"books_autorec.csv\")\n",
    "df_ratings = pd.read_csv(\"ratings_autorec.csv\")\n",
    "\n",
    "df_ratings_with_clusters = df_ratings.merge(\n",
    "    df_books[['goodreads_book_id', 'cluster']], \n",
    "    left_on='book_id', \n",
    "    right_on='goodreads_book_id', \n",
    "    how='left'\n",
    ")\n",
    "\n",
    "# create dictionary with user and ratings\n",
    "sparse_users = {}\n",
    "for user_id, group in df_ratings_with_clusters.groupby('user_id'):\n",
    "    books_ratings_clusters = group[['book_id', 'rating', 'cluster']].values.tolist()\n",
    "    sparse_users[user_id] = books_ratings_clusters\n",
    "\n",
    "cluster_sizes = df_books['cluster'].value_counts().sort_index().values"
   ]
  },
  {
   "cell_type": "code",
   "execution_count": 3,
   "id": "29b2176b",
   "metadata": {},
   "outputs": [
    {
     "name": "stdout",
     "output_type": "stream",
     "text": [
      "[[0, 0.2578125, 33], [1, 0.171875, 22], [8, 0.1328125, 17], [9, 0.1328125, 17], [4, 0.1015625, 13], [5, 0.0703125, 9], [7, 0.046875, 6], [10, 0.03125, 4], [13, 0.0234375, 3], [3, 0.015625, 2], [12, 0.0078125, 1], [14, 0.0078125, 1]]\n"
     ]
    }
   ],
   "source": [
    "e88 = fl.find_clusters_ratio(sparse_users[88])\n",
    "print(e88)"
   ]
  },
  {
   "cell_type": "code",
   "execution_count": 4,
   "id": "15a2c78a",
   "metadata": {},
   "outputs": [
    {
     "name": "stdout",
     "output_type": "stream",
     "text": [
      "300\n",
      "[[2657, 4], [48855, 3], [1885, 4], [7613, 4], [5107, 3], [4381, 4], [7624, 3], [3, 4], [18135, 3], [5907, 3], [3636, 4], [11127, 3], [77203, 2], [1420, 4], [11486, 5], [168668, 2], [41865, 1], [4981, 3], [6900, 2], [14050, 2], [114345, 3], [7244, 5], [5, 4], [8127, 3], [7604, 5], [136251, 4], [890, 3], [16981, 5], [6, 5], [1, 4], [1869, 4], [343, 3], [38447, 3], [231804, 3], [2, 4], [9791, 3], [8852, 4], [133518, 2], [12232938, 2], [2187, 4], [5148, 5], [39988, 5], [391729, 3], [7733, 4], [19380, 4], [70401, 2], [9717, 3], [1845, 1], [43641, 2], [4900, 1], [51606, 3], [227571, 1], [5043, 5], [76778, 3], [37781, 5], [6514, 4], [14706, 3], [58345, 4], [9777, 4], [187181, 2], [32261, 2], [4953, 4], [8921, 3], [101299, 1], [10890, 2], [11762, 5], [13872, 4], [116236, 3], [3867, 5], [14836, 3], [19089, 4], [14249, 5], [15881, 4], [7728, 3], [227265, 5], [77262, 4], [6759, 4], [14250, 4], [77554, 1], [14201, 4], [7073, 2], [30868, 4], [25078, 4], [5015, 1], [157993, 2], [18545, 3], [12996, 4], [231, 4], [11761, 4], [28700, 5], [400, 4], [252577, 2], [24100, 5], [41193, 4], [227443, 2], [320, 1], [5204, 4], [5205, 3], [277397, 3], [3805, 1], [5158, 3], [32234, 2], [6751, 5], [24724, 4], [6433752, 5], [4137, 4], [4138, 4], [10176, 4], [1044355, 4], [4136, 4], [242006, 3], [32370, 3], [79790, 3], [61115, 3], [37426, 3], [347143, 4], [97782, 3], [5439, 3], [85301, 3], [9844, 2], [10441, 2], [68210, 2], [11691, 2], [11690, 3], [21671, 1], [15779, 4], [96702, 1], [25051, 3], [np.int64(31463), 0], [np.int64(9864), 0], [np.int64(7194), 0], [np.int64(58314), 0], [np.int64(58027), 0], [np.int64(46945), 0], [np.int64(99329), 0], [np.int64(469571), 0], [np.int64(54120), 0], [np.int64(86658), 0], [np.int64(2623), 0], [np.int64(12873), 0], [np.int64(3690), 0], [np.int64(60935), 0], [np.int64(930), 0], [np.int64(14680), 0], [np.int64(298663), 0], [np.int64(56759), 0], [np.int64(125502), 0], [np.int64(17728), 0], [np.int64(151926), 0], [np.int64(5206937), 0], [np.int64(32650), 0], [np.int64(50618), 0], [np.int64(12448), 0], [np.int64(29641), 0], [np.int64(6193), 0], [np.int64(2183), 0], [np.int64(325128), 0], [np.int64(4395), 0], [np.int64(53969), 0], [np.int64(23814), 0], [np.int64(11376), 0], [np.int64(29059), 0], [np.int64(9957), 0], [np.int64(828387), 0], [np.int64(6192), 0], [np.int64(31173), 0], [np.int64(10996342), 0], [np.int64(9712), 0], [np.int64(254308), 0], [np.int64(243705), 0], [np.int64(41219), 0], [np.int64(530965), 0], [np.int64(22076), 0], [np.int64(10566), 0], [np.int64(480204), 0], [np.int64(427920), 0], [np.int64(3717), 0], [np.int64(52629), 0], [np.int64(10607), 0], [np.int64(6400090), 0], [np.int64(50275), 0], [np.int64(66370), 0], [np.int64(5048174), 0], [np.int64(13151637), 0], [np.int64(6282753), 0], [np.int64(40465), 0], [np.int64(3009435), 0], [np.int64(367802), 0], [np.int64(62212), 0], [np.int64(11573), 0], [np.int64(10872085), 0], [np.int64(10400407), 0], [np.int64(1528410), 0], [np.int64(180930), 0], [np.int64(13554713), 0], [np.int64(2350129), 0], [np.int64(119239), 0], [np.int64(11206), 0], [np.int64(133954), 0], [np.int64(7952502), 0], [np.int64(113429), 0], [np.int64(13023), 0], [np.int64(12898), 0], [np.int64(2175), 0], [np.int64(39664), 0], [np.int64(10006), 0], [np.int64(1232), 0], [np.int64(2696), 0], [np.int64(1618), 0], [np.int64(9328), 0], [np.int64(2122), 0], [np.int64(789344), 0], [np.int64(2956), 0], [np.int64(285092), 0], [np.int64(117833), 0], [np.int64(17716), 0], [np.int64(22034), 0], [np.int64(10917), 0], [np.int64(331319), 0], [np.int64(338798), 0], [np.int64(23919), 0], [np.int64(253264), 0], [np.int64(12467), 0], [np.int64(13414594), 0], [np.int64(23012475), 0], [np.int64(22896), 0], [np.int64(23602562), 0], [np.int64(9361589), 0], [np.int64(23453099), 0], [np.int64(13258), 0], [np.int64(7723542), 0], [np.int64(13526165), 0], [np.int64(28802599), 0], [np.int64(58822), 0], [np.int64(13586707), 0], [np.int64(23513349), 0], [np.int64(3273), 0], [np.int64(5157), 0], [np.int64(22836957), 0], [np.int64(17286747), 0], [np.int64(25837338), 0], [np.int64(17204568), 0], [np.int64(961833), 0], [np.int64(6505109), 0], [np.int64(11450591), 0], [np.int64(111220), 0], [np.int64(14318), 0], [np.int64(829313), 0], [np.int64(6174), 0], [np.int64(9010), 0], [np.int64(1624), 0], [np.int64(10211494), 0], [np.int64(18170143), 0], [np.int64(12868761), 0], [np.int64(91760), 0], [np.int64(676555), 0], [np.int64(1128178), 0], [np.int64(12540), 0], [np.int64(24687), 0], [np.int64(8765), 0], [np.int64(10252302), 0], [np.int64(15851746), 0], [np.int64(8296), 0], [np.int64(196970), 0], [np.int64(826585), 0], [np.int64(100915), 0], [np.int64(828084), 0], [np.int64(208146), 0], [np.int64(315882), 0], [np.int64(270067), 0], [np.int64(7150178), 0], [np.int64(6202556), 0], [np.int64(34268), 0], [np.int64(123170), 0], [np.int64(15283043), 0], [np.int64(161887), 0], [np.int64(41424), 0], [np.int64(7558747), 0], [np.int64(8492825), 0], [np.int64(12813860), 0], [np.int64(104379), 0], [np.int64(28187), 0], [np.int64(59263), 0], [np.int64(1215032), 0], [np.int64(334643), 0], [np.int64(149049), 0], [np.int64(886066), 0], [np.int64(599), 0], [np.int64(3869), 0], [np.int64(646462), 0], [np.int64(55403), 0], [np.int64(9293020), 0], [np.int64(9489502), 0], [np.int64(12063467), 0], [np.int64(65684), 0], [np.int64(3102), 0], [np.int64(250), 0], [np.int64(19106), 0], [np.int64(63033), 0], [np.int64(6280379), 0]]\n"
     ]
    }
   ],
   "source": [
    "em88 = fl.embed(sparse_users[88], df_books)\n",
    "print(len(em88))\n",
    "print(em88)"
   ]
  },
  {
   "cell_type": "code",
   "execution_count": 3,
   "id": "441f44eb",
   "metadata": {},
   "outputs": [
    {
     "data": {
      "text/plain": [
       "10000"
      ]
     },
     "execution_count": 3,
     "metadata": {},
     "output_type": "execute_result"
    }
   ],
   "source": [
    "ids = np.unique(df_ratings_with_clusters['goodreads_book_id'])\n",
    "len(ids)"
   ]
  },
  {
   "cell_type": "code",
   "execution_count": null,
   "id": "7d459016",
   "metadata": {},
   "outputs": [
    {
     "data": {
      "application/vnd.jupyter.widget-view+json": {
       "model_id": "71eb75c715c2485c81b950ac36be8fa5",
       "version_major": 2,
       "version_minor": 0
      },
      "text/plain": [
       "  0%|          | 0/53424 [00:00<?, ?it/s]"
      ]
     },
     "metadata": {},
     "output_type": "display_data"
    }
   ],
   "source": [
    "#used only for the first initialization. never use again. slow\n",
    "user_embeddings = fl.embed_all_users(sparse_users, df_books, num_processes=8)\n",
    "data_tensor = torch.stack(user_embeddings)\n",
    "dataset = data.TensorDataset(data_tensor)\n",
    "dataloader = data.DataLoader(dataset, batch_size=32, shuffle=True)"
   ]
  },
  {
   "cell_type": "code",
   "execution_count": null,
   "id": "e972be3e",
   "metadata": {},
   "outputs": [],
   "source": [
    "#torch.save(user_embeddings,'\"C:\\Users\\pitom\\OneDrive\\Desktop\\materiale uni\\data-vis\\info retroval\\esame\\user_embeddings.pt\"')"
   ]
  },
  {
   "cell_type": "code",
   "execution_count": 4,
   "id": "b6e29bb3",
   "metadata": {},
   "outputs": [],
   "source": [
    "#to use from now on so the data are alredy preprocessed\n",
    "user_embeddings = torch.load(\"C:/Users/pitom/OneDrive/Desktop/materiale uni/data-vis/info retroval/esame/user_embeddings.pt\")\n",
    "dataloader = data.DataLoader(user_embeddings,32,shuffle=True)"
   ]
  },
  {
   "cell_type": "code",
   "execution_count": 5,
   "id": "ec0ad41d",
   "metadata": {},
   "outputs": [
    {
     "data": {
      "text/plain": [
       "torch.Size([300, 2])"
      ]
     },
     "execution_count": 5,
     "metadata": {},
     "output_type": "execute_result"
    }
   ],
   "source": [
    "dataloader.dataset[0].shape"
   ]
  },
  {
   "cell_type": "code",
   "execution_count": 14,
   "id": "765bdf5f",
   "metadata": {},
   "outputs": [],
   "source": [
    "def loss(value_sets, x, recon):\n",
    "    batch_size, seq_len, num_cols = recon.shape\n",
    "    distances_per_col = []\n",
    "\n",
    "    for i in range(num_cols):\n",
    "        col = recon[:, :, i].float()  \n",
    "        values = value_sets[i].to(recon.device).float()  \n",
    "        col = col.unsqueeze(-1)                   \n",
    "        values = values.view(1, 1, -1)           \n",
    "        distances = torch.abs(col - values)     \n",
    "        min_distances, _ = distances.min(dim=2) \n",
    "        distances_per_col.append(min_distances)\n",
    "\n",
    "    all_distances = torch.stack(distances_per_col, dim=2)\n",
    "    total_distance = all_distances.sum()\n",
    "\n",
    "    x = x.float()\n",
    "    recon = recon.float()\n",
    "    mse = F.mse_loss(recon, x)\n",
    "\n",
    "    return total_distance + mse"
   ]
  },
  {
   "cell_type": "code",
   "execution_count": 15,
   "id": "8e771473",
   "metadata": {},
   "outputs": [],
   "source": [
    "model = rm.FAE(300, ids)\n",
    "N_Epochs = 30\n",
    "criterion = loss\n",
    "optimizer = torch.optim.Adam(model.parameters(), lr = 0.001)\n",
    "scheduler = torch.optim.lr_scheduler.ReduceLROnPlateau(optimizer, mode='min', factor=0.1, patience=3, verbose=False)"
   ]
  },
  {
   "cell_type": "code",
   "execution_count": 16,
   "id": "1cf79247",
   "metadata": {},
   "outputs": [
    {
     "ename": "KeyboardInterrupt",
     "evalue": "",
     "output_type": "error",
     "traceback": [
      "\u001B[1;31m---------------------------------------------------------------------------\u001B[0m",
      "\u001B[1;31mKeyboardInterrupt\u001B[0m                         Traceback (most recent call last)",
      "Cell \u001B[1;32mIn[16], line 1\u001B[0m\n\u001B[1;32m----> 1\u001B[0m losses,parameters,recon,z \u001B[38;5;241m=\u001B[39m \u001B[43mrm\u001B[49m\u001B[38;5;241;43m.\u001B[39;49m\u001B[43mtrain_FAE\u001B[49m\u001B[43m(\u001B[49m\u001B[43mmodel\u001B[49m\u001B[43m,\u001B[49m\u001B[43m \u001B[49m\u001B[43mN_Epochs\u001B[49m\u001B[43m,\u001B[49m\u001B[43m \u001B[49m\u001B[43mdataloader\u001B[49m\u001B[43m,\u001B[49m\u001B[43m \u001B[49m\u001B[43mcriterion\u001B[49m\u001B[43m,\u001B[49m\u001B[43m \u001B[49m\u001B[43moptimizer\u001B[49m\u001B[43m)\u001B[49m\n",
      "File \u001B[1;32mc:\\Users\\pitom\\OneDrive\\Desktop\\materiale uni\\data-vis\\info retroval\\esame\\AutoRec\\Recomandation_models.py:100\u001B[0m, in \u001B[0;36mtrain_FAE\u001B[1;34m(model, N_Epochs, dataloader, criterion, optimizer, scheduler)\u001B[0m\n\u001B[0;32m     98\u001B[0m us \u001B[38;5;241m=\u001B[39m us\u001B[38;5;241m.\u001B[39mto(device)\n\u001B[0;32m     99\u001B[0m recon,z \u001B[38;5;241m=\u001B[39m model(us)\n\u001B[1;32m--> 100\u001B[0m loss \u001B[38;5;241m=\u001B[39m \u001B[43mcriterion\u001B[49m\u001B[43m(\u001B[49m\u001B[43mmodel\u001B[49m\u001B[38;5;241;43m.\u001B[39;49m\u001B[43mvalue_sets\u001B[49m\u001B[43m,\u001B[49m\u001B[43mus\u001B[49m\u001B[43m,\u001B[49m\u001B[43m \u001B[49m\u001B[43mrecon\u001B[49m\u001B[43m)\u001B[49m\n\u001B[0;32m    101\u001B[0m optimizer\u001B[38;5;241m.\u001B[39mzero_grad()\n\u001B[0;32m    102\u001B[0m loss\u001B[38;5;241m.\u001B[39mbackward()\n",
      "Cell \u001B[1;32mIn[14], line 11\u001B[0m, in \u001B[0;36mloss\u001B[1;34m(value_sets, x, recon)\u001B[0m\n\u001B[0;32m      9\u001B[0m     values \u001B[38;5;241m=\u001B[39m values\u001B[38;5;241m.\u001B[39mview(\u001B[38;5;241m1\u001B[39m, \u001B[38;5;241m1\u001B[39m, \u001B[38;5;241m-\u001B[39m\u001B[38;5;241m1\u001B[39m)           \n\u001B[0;32m     10\u001B[0m     distances \u001B[38;5;241m=\u001B[39m torch\u001B[38;5;241m.\u001B[39mabs(col \u001B[38;5;241m-\u001B[39m values)     \n\u001B[1;32m---> 11\u001B[0m     min_distances, _ \u001B[38;5;241m=\u001B[39m \u001B[43mdistances\u001B[49m\u001B[38;5;241;43m.\u001B[39;49m\u001B[43mmin\u001B[49m\u001B[43m(\u001B[49m\u001B[43mdim\u001B[49m\u001B[38;5;241;43m=\u001B[39;49m\u001B[38;5;241;43m2\u001B[39;49m\u001B[43m)\u001B[49m \n\u001B[0;32m     12\u001B[0m     distances_per_col\u001B[38;5;241m.\u001B[39mappend(min_distances)\n\u001B[0;32m     14\u001B[0m all_distances \u001B[38;5;241m=\u001B[39m torch\u001B[38;5;241m.\u001B[39mstack(distances_per_col, dim\u001B[38;5;241m=\u001B[39m\u001B[38;5;241m2\u001B[39m)\n",
      "\u001B[1;31mKeyboardInterrupt\u001B[0m: "
     ]
    }
   ],
   "source": [
    "losses,parameters,recon,z = rm.train_FAE(model, N_Epochs, dataloader, criterion, optimizer)"
   ]
  },
  {
   "cell_type": "code",
   "execution_count": null,
   "id": "6fb3d26e",
   "metadata": {},
   "outputs": [],
   "source": [
    "rm.loss_graph(losses,N_Epochs)"
   ]
  },
  {
   "metadata": {},
   "cell_type": "code",
   "outputs": [],
   "execution_count": null,
   "source": [
    "from recommendation_system import BookRecommendationSystem, quick_recommend\n",
    "\n",
    "rec_system = BookRecommendationSystem(\n",
    "    model_path='best_model.pth',\n",
    "    book_ids=list(range(10000)),  # i tuoi book_ids reali\n",
    "    k=300  # dimensione del tuo vettore utente\n",
    ")\n",
    "\n",
    "user_id = 88\n",
    "recommendations = rec_system.recommend_for_user_id(\n",
    "    user_id=user_id,\n",
    "    sparse_users_dict=sparse_users,  # dal filtering\n",
    "    top_k=10\n",
    ")\n",
    "\n",
    "rec_system.print_recommendations(recommendations, df_books)"
   ],
   "id": "3737c3c34903d9a1"
  }
 ],
 "metadata": {
  "kernelspec": {
   "display_name": "Python 3",
   "language": "python",
   "name": "python3"
  },
  "language_info": {
   "codemirror_mode": {
    "name": "ipython",
    "version": 3
   },
   "file_extension": ".py",
   "mimetype": "text/x-python",
   "name": "python",
   "nbconvert_exporter": "python",
   "pygments_lexer": "ipython3",
   "version": "3.11.9"
  }
 },
 "nbformat": 4,
 "nbformat_minor": 5
}
