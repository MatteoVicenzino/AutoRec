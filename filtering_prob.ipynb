{
 "cells": [
  {
   "cell_type": "markdown",
   "id": "9875cb0e",
   "metadata": {},
   "source": [
    "# Filtering and encoding users preferences\n",
    "\n",
    "to avoid encoding a single user's preference in a sparse vector of 10000 elements, we save only the preferences of the 3 most rated clusters"
   ]
  },
  {
   "cell_type": "markdown",
   "id": "8fb73053",
   "metadata": {},
   "source": [
    "## campionamento pesato"
   ]
  },
  {
   "cell_type": "code",
   "execution_count": 2,
   "id": "87310071",
   "metadata": {},
   "outputs": [],
   "source": [
    "import numpy as np\n",
    "import pandas as pd\n",
    "import matplotlib.pyplot as plt\n",
    "from collections import Counter"
   ]
  },
  {
   "cell_type": "code",
   "execution_count": 3,
   "id": "5aa1c735",
   "metadata": {},
   "outputs": [],
   "source": [
    "df_books = pd.read_csv(\"books_autorec.csv\")\n",
    "df_ratings = pd.read_csv(\"ratings_autorec.csv\")"
   ]
  },
  {
   "cell_type": "markdown",
   "id": "edadaeb0",
   "metadata": {},
   "source": [
    "Create a dictionary to serch user's ratings by user id"
   ]
  },
  {
   "cell_type": "code",
   "execution_count": 4,
   "id": "201e66be",
   "metadata": {},
   "outputs": [],
   "source": [
    "# merge to add cluster in ratings\n",
    "df_ratings_with_clusters = df_ratings.merge(\n",
    "    df_books[['goodreads_book_id', 'cluster']], \n",
    "    left_on='book_id', \n",
    "    right_on='goodreads_book_id', \n",
    "    how='left'\n",
    ")\n",
    "\n",
    "# create dictionary with user and ratings\n",
    "sparse_users = {}\n",
    "for user_id, group in df_ratings_with_clusters.groupby('user_id'):\n",
    "    books_ratings_clusters = group[['book_id', 'rating', 'cluster']].values.tolist()\n",
    "    sparse_users[user_id] = books_ratings_clusters"
   ]
  },
  {
   "cell_type": "code",
   "execution_count": 9,
   "id": "4b2bcc7b",
   "metadata": {},
   "outputs": [
    {
     "data": {
      "text/plain": [
       "[[2657, 4, 0],\n",
       " [48855, 3, 4],\n",
       " [1885, 4, 0],\n",
       " [7613, 4, 0],\n",
       " [5107, 3, 8],\n",
       " [4381, 4, 1],\n",
       " [7624, 3, 0],\n",
       " [3, 4, 7],\n",
       " [18135, 3, 8],\n",
       " [5907, 3, 10],\n",
       " [3636, 4, 5],\n",
       " [11127, 3, 5],\n",
       " [77203, 2, 1],\n",
       " [1420, 4, 8],\n",
       " [11486, 5, 1],\n",
       " [168668, 2, 8],\n",
       " [41865, 1, 12],\n",
       " [4981, 3, 0],\n",
       " [6900, 2, 8],\n",
       " [14050, 2, 1]]"
      ]
     },
     "execution_count": 9,
     "metadata": {},
     "output_type": "execute_result"
    }
   ],
   "source": [
    "sparse_users[88][:20]  # Display first 20 ratings for user 88"
   ]
  },
  {
   "cell_type": "code",
   "execution_count": 17,
   "id": "6be845f1",
   "metadata": {},
   "outputs": [
    {
     "name": "stdout",
     "output_type": "stream",
     "text": [
      "[ 409 1275  547 1273  475  853  404  790  195  931 1114  307  670  514\n",
      "  243]\n"
     ]
    }
   ],
   "source": [
    "cluster_sizes = df_books['cluster'].value_counts().sort_index().values\n",
    "print(cluster_sizes)"
   ]
  },
  {
   "cell_type": "code",
   "execution_count": 24,
   "id": "0245eede",
   "metadata": {},
   "outputs": [],
   "source": [
    "def find_clusters_ratio(user):\n",
    "    # list of clusters for a user\n",
    "    list_of_clusters = []\n",
    "    for book_id, rating, cluster in sparse_users[user]:\n",
    "        list_of_clusters.append(cluster)\n",
    "    \n",
    "    # calculate ratio of ratings per cluster for this user\n",
    "    cluster_rating_counts = Counter(list_of_clusters)\n",
    "    total_user_ratings = len(list_of_clusters)  # total number of ratings\n",
    "    \n",
    "    cluster_ratios = {}\n",
    "    for cluster, count in cluster_rating_counts.items():\n",
    "        # percentage of ratings in this cluster\n",
    "        ratio = count / total_user_ratings\n",
    "        cluster_ratios[cluster] = (ratio, count)  # tuple with (ratio, count)\n",
    "    \n",
    "    # sort clusters by ratio descending, with cluster, ratio and count\n",
    "    list_of_clusters = [[cluster, ratio, count] for cluster, (ratio, count) in sorted(cluster_ratios.items(), key=lambda x: x[1][0], reverse=True)]\n",
    "    return list_of_clusters"
   ]
  },
  {
   "cell_type": "code",
   "execution_count": 26,
   "id": "edf10b7d",
   "metadata": {},
   "outputs": [],
   "source": [
    "e88 = find_clusters_ratio(88)"
   ]
  },
  {
   "cell_type": "code",
   "execution_count": 50,
   "id": "0d061113",
   "metadata": {},
   "outputs": [],
   "source": [
    "def sample_from_cluster(n, cluster, embedding):\n",
    "    \n",
    "    all_books = df_books[df_books['cluster'] == cluster]\n",
    "    count = 0\n",
    "    while count < n:\n",
    "        book = all_books.sample(1).iloc[0]\n",
    "        if book['goodreads_book_id'] not in [x[0] for x in embedding]:\n",
    "            embedding.append([book['goodreads_book_id'], 0])\n",
    "            count += 1\n",
    "    return embedding"
   ]
  },
  {
   "cell_type": "code",
   "execution_count": null,
   "id": "35747fa4",
   "metadata": {},
   "outputs": [],
   "source": [
    "def embed(user):\n",
    "    embedding = []\n",
    "    user_clusters = find_clusters_ratio(user)\n",
    "    \n",
    "    for book_id, rating, cluster in sparse_users[user]:\n",
    "        embedding.append([book_id, rating])\n",
    "    \n",
    "    tot_to_sample = 300 - len(embedding)\n",
    "    \n",
    "    for cluster, ratio, _ in user_clusters:\n",
    "        n = int(tot_to_sample * ratio)\n",
    "        sample_from_cluster(n, cluster, embedding)\n",
    "        \n",
    "    while len(embedding) < 300:\n",
    "        sample_from_cluster(1, user_clusters[0][0], embedding)\n",
    "    \n",
    "    return embedding"
   ]
  },
  {
   "cell_type": "code",
   "execution_count": 54,
   "id": "79823349",
   "metadata": {},
   "outputs": [
    {
     "name": "stdout",
     "output_type": "stream",
     "text": [
      "295\n",
      "[[2657, 4], [48855, 3], [1885, 4], [7613, 4], [5107, 3], [4381, 4], [7624, 3], [3, 4], [18135, 3], [5907, 3], [3636, 4], [11127, 3], [77203, 2], [1420, 4], [11486, 5], [168668, 2], [41865, 1], [4981, 3], [6900, 2], [14050, 2], [114345, 3], [7244, 5], [5, 4], [8127, 3], [7604, 5], [136251, 4], [890, 3], [16981, 5], [6, 5], [1, 4], [1869, 4], [343, 3], [38447, 3], [231804, 3], [2, 4], [9791, 3], [8852, 4], [133518, 2], [12232938, 2], [2187, 4], [5148, 5], [39988, 5], [391729, 3], [7733, 4], [19380, 4], [70401, 2], [9717, 3], [1845, 1], [43641, 2], [4900, 1], [51606, 3], [227571, 1], [5043, 5], [76778, 3], [37781, 5], [6514, 4], [14706, 3], [58345, 4], [9777, 4], [187181, 2], [32261, 2], [4953, 4], [8921, 3], [101299, 1], [10890, 2], [11762, 5], [13872, 4], [116236, 3], [3867, 5], [14836, 3], [19089, 4], [14249, 5], [15881, 4], [7728, 3], [227265, 5], [77262, 4], [6759, 4], [14250, 4], [77554, 1], [14201, 4], [7073, 2], [30868, 4], [25078, 4], [5015, 1], [157993, 2], [18545, 3], [12996, 4], [231, 4], [11761, 4], [28700, 5], [400, 4], [252577, 2], [24100, 5], [41193, 4], [227443, 2], [320, 1], [5204, 4], [5205, 3], [277397, 3], [3805, 1], [5158, 3], [32234, 2], [6751, 5], [24724, 4], [6433752, 5], [4137, 4], [4138, 4], [10176, 4], [1044355, 4], [4136, 4], [242006, 3], [32370, 3], [79790, 3], [61115, 3], [37426, 3], [347143, 4], [97782, 3], [5439, 3], [85301, 3], [9844, 2], [10441, 2], [68210, 2], [11691, 2], [11690, 3], [21671, 1], [15779, 4], [96702, 1], [25051, 3], [6872, 0], [76171, 0], [5470, 0], [46917, 0], [17841, 0], [11376, 0], [18386, 0], [46170, 0], [304, 0], [60937, 0], [19661, 0], [37398, 0], [51019, 0], [1953, 0], [4671, 0], [9650, 0], [22911, 0], [38296, 0], [24800, 0], [45974, 0], [2054, 0], [46945, 0], [58314, 0], [27822, 0], [23885, 0], [6185, 0], [61672, 0], [538845, 0], [6150, 0], [50618, 0], [50798, 0], [85391, 0], [80616, 0], [2165, 0], [9864, 0], [141828, 0], [428, 0], [275, 0], [78728, 0], [18825, 0], [6334, 0], [6138, 0], [16634, 0], [6194, 0], [587666, 0], [23522, 0], [62212, 0], [7704143, 0], [126583, 0], [59889, 0], [450836, 0], [434764, 0], [220826, 0], [133488, 0], [53022, 0], [81779, 0], [32127, 0], [14362, 0], [1736739, 0], [46292, 0], [22904, 0], [84351, 0], [26582, 0], [4102763, 0], [6395833, 0], [10628, 0], [21726, 0], [30512, 0], [5308, 0], [315519, 0], [42691, 0], [11607, 0], [205476, 0], [7144, 0], [342994, 0], [2696, 0], [119073, 0], [1618, 0], [32067, 0], [228296, 0], [11623, 0], [23919, 0], [14940, 0], [533465, 0], [10975, 0], [332613, 0], [9799, 0], [168642, 0], [31196, 0], [359770, 0], [285092, 0], [5113, 0], [3876, 0], [17250, 0], [4894, 0], [11010251, 0], [20890479, 0], [18667976, 0], [89399, 0], [20874139, 0], [199530, 0], [7569223, 0], [27406704, 0], [7048800, 0], [18054175, 0], [199782, 0], [15815333, 0], [12758317, 0], [165030, 0], [20706316, 0], [5157, 0], [276342, 0], [12408149, 0], [23156040, 0], [29430788, 0], [18656036, 0], [2458340, 0], [8570787, 0], [6114607, 0], [17851885, 0], [8649656, 0], [20342617, 0], [40189, 0], [11104030, 0], [7147831, 0], [49195, 0], [9013, 0], [25460, 0], [19501, 0], [17704903, 0], [58728, 0], [15451058, 0], [5306, 0], [16113737, 0], [13170021, 0], [87220, 0], [24784, 0], [3562, 0], [98573, 0], [6671, 0], [1215290, 0], [926908, 0], [91248, 0], [375901, 0], [24408, 0], [244115, 0], [17399160, 0], [12157365, 0], [6567017, 0], [22510983, 0], [11913681, 0], [1301153, 0], [44184, 0], [82780, 0], [41821, 0], [219205, 0], [8647, 0], [5061675, 0], [34507, 0], [6260997, 0], [6402364, 0], [55229, 0], [23419, 0], [19707, 0], [16298, 0], [7818881, 0], [265205, 0]]\n"
     ]
    }
   ],
   "source": [
    "em88 = embed(88)\n",
    "print(len(em88))\n",
    "print(em88)"
   ]
  }
 ],
 "metadata": {
  "kernelspec": {
   "display_name": "venv",
   "language": "python",
   "name": "python3"
  },
  "language_info": {
   "codemirror_mode": {
    "name": "ipython",
    "version": 3
   },
   "file_extension": ".py",
   "mimetype": "text/x-python",
   "name": "python",
   "nbconvert_exporter": "python",
   "pygments_lexer": "ipython3",
   "version": "3.9.20"
  }
 },
 "nbformat": 4,
 "nbformat_minor": 5
}
