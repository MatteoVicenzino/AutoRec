{
 "cells": [
  {
   "cell_type": "markdown",
   "id": "d0a023c9",
   "metadata": {},
   "source": [
    "# Filtering and encoding users preferences\n",
    "\n",
    "to avoid encoding a single user's preference in a sparse vector of 10000 elements, we save only the preferences of the 3 most rated clusters (3000)"
   ]
  },
  {
   "cell_type": "code",
   "execution_count": 10,
   "id": "8dfa0eab",
   "metadata": {},
   "outputs": [],
   "source": [
    "import numpy as np\n",
    "import pandas as pd\n",
    "import matplotlib.pyplot as plt\n",
    "from collections import Counter"
   ]
  },
  {
   "cell_type": "code",
   "execution_count": 11,
   "id": "b4d76916",
   "metadata": {},
   "outputs": [],
   "source": [
    "df_books = pd.read_csv(\"books_autorec.csv\")\n",
    "df_ratings = pd.read_csv(\"ratings_autorec.csv\")"
   ]
  },
  {
   "cell_type": "markdown",
   "id": "38f43839",
   "metadata": {},
   "source": [
    "Create a dictionary to serch user's ratings by user id"
   ]
  },
  {
   "cell_type": "code",
   "execution_count": 12,
   "id": "dba6c1af",
   "metadata": {},
   "outputs": [],
   "source": [
    "# merge to add cluster in ratings\n",
    "df_ratings_with_clusters = df_ratings.merge(\n",
    "    df_books[['goodreads_book_id', 'cluster']], \n",
    "    left_on='book_id', \n",
    "    right_on='goodreads_book_id', \n",
    "    how='left'\n",
    ")\n",
    "\n",
    "# create dictionary with user and ratings\n",
    "sparse_users = {}\n",
    "for user_id, group in df_ratings_with_clusters.groupby('user_id'):\n",
    "    books_ratings_clusters = group[['book_id', 'rating', 'cluster']].values.tolist()\n",
    "    sparse_users[user_id] = books_ratings_clusters"
   ]
  },
  {
   "cell_type": "code",
   "execution_count": 13,
   "id": "1a1876db",
   "metadata": {},
   "outputs": [
    {
     "data": {
      "text/plain": [
       "[[2657, 4, 5],\n",
       " [48855, 3, 8],\n",
       " [1885, 4, 5],\n",
       " [7613, 4, 5],\n",
       " [5107, 3, 5],\n",
       " [4381, 4, 6],\n",
       " [7624, 3, 5],\n",
       " [3, 4, 1],\n",
       " [18135, 3, 6],\n",
       " [5907, 3, 0],\n",
       " [3636, 4, 1],\n",
       " [11127, 3, 1],\n",
       " [77203, 2, 2],\n",
       " [1420, 4, 6],\n",
       " [11486, 5, 5],\n",
       " [168668, 2, 5],\n",
       " [41865, 1, 3],\n",
       " [4981, 3, 5],\n",
       " [6900, 2, 6],\n",
       " [14050, 2, 2]]"
      ]
     },
     "execution_count": 13,
     "metadata": {},
     "output_type": "execute_result"
    }
   ],
   "source": [
    "sparse_users[88][:20]  # Display first 20 ratings for user 88"
   ]
  },
  {
   "cell_type": "code",
   "execution_count": 14,
   "id": "fcec4ffb",
   "metadata": {},
   "outputs": [
    {
     "name": "stdout",
     "output_type": "stream",
     "text": [
      "Size of the clusters:\n"
     ]
    },
    {
     "data": {
      "text/plain": [
       "cluster\n",
       "0     1023\n",
       "1      656\n",
       "2     1104\n",
       "3      708\n",
       "4      109\n",
       "5      477\n",
       "6     1530\n",
       "7     1299\n",
       "8      545\n",
       "9      512\n",
       "10     295\n",
       "11     537\n",
       "12     458\n",
       "13     659\n",
       "14      88\n",
       "Name: count, dtype: int64"
      ]
     },
     "execution_count": 14,
     "metadata": {},
     "output_type": "execute_result"
    }
   ],
   "source": [
    "print(\"Size of the clusters:\")\n",
    "df_books['cluster'].value_counts().sort_index()"
   ]
  },
  {
   "cell_type": "code",
   "execution_count": 20,
   "id": "458fbd02",
   "metadata": {},
   "outputs": [],
   "source": [
    "def find_clusters(user, max_clusters=3):\n",
    "    \"\"\"giver a user, this dunction find the most common clusters of books they rated\"\"\"\n",
    "    \n",
    "    # list of clusters for a user\n",
    "    list_of_clusters = []\n",
    "    for book_id, rating, cluster in sparse_users[user]:\n",
    "        list_of_clusters.append(cluster)\n",
    "        \n",
    "    # find most common clusters\n",
    "    counter = Counter(list_of_clusters)\n",
    "    list_of_clusters = [item for item, count in counter.most_common()]\n",
    "    \n",
    "    if len(list_of_clusters) < max_clusters:\n",
    "        return list_of_clusters\n",
    "    else:\n",
    "        return list_of_clusters[:max_clusters]\n",
    "\n",
    "\n",
    "# --- ALTERNATIVA CON IL RATIO ---\n",
    "\n",
    "cluster_counts = df_books['cluster'].value_counts().sort_index()\n",
    "\n",
    "def find_clusters_ratio(user, max_clusters=3):\n",
    "\n",
    "    # list of clusters for a user\n",
    "    list_of_clusters = []\n",
    "    for book_id, rat_ing, cluster in sparse_users[user]:\n",
    "        list_of_clusters.append(cluster)\n",
    "        # calculate ratio of ratings per cluster for this user\n",
    "        cluster_rating_counts = Counter(list_of_clusters)\n",
    "        cluster_ratios = {}\n",
    "        for cluster, count in cluster_rating_counts.items():\n",
    "            total_books_in_cluster = cluster_counts[cluster]\n",
    "            cluster_ratios[cluster] = count / total_books_in_cluster if total_books_in_cluster > 0 else 0\n",
    "\n",
    "        # sort clusters by ratio descending\n",
    "        list_of_clusters = [cluster for cluster, ratio in sorted(cluster_ratios.items(), key=lambda x: x[1], reverse=True)]\n",
    "    \n",
    "    if len(list_of_clusters) < max_clusters:\n",
    "        return list_of_clusters\n",
    "    else:\n",
    "        return list_of_clusters[:max_clusters]"
   ]
  },
  {
   "cell_type": "code",
   "execution_count": 31,
   "id": "4d909c4b",
   "metadata": {},
   "outputs": [
    {
     "name": "stdout",
     "output_type": "stream",
     "text": [
      "[12, 5, 8, 1, 3]\n"
     ]
    }
   ],
   "source": [
    "print(find_clusters_ratio(88, 5)) # show the 5 most rated clusters of user 88"
   ]
  },
  {
   "cell_type": "code",
   "execution_count": 32,
   "id": "0fe89f29",
   "metadata": {},
   "outputs": [],
   "source": [
    "def embed(user):\n",
    "    \"\"\"Evaluates the embedding of a user preferences\"\"\"\n",
    "    \n",
    "    selected_clusters = find_clusters_ratio(user)\n",
    "    \n",
    "    user_embedding = []\n",
    "    \n",
    "    for idx, row in df_books.iterrows():\n",
    "        book_id = row['goodreads_book_id']\n",
    "        cluster = row['cluster']\n",
    "        ratings = sparse_users[user]\n",
    "        \n",
    "        if cluster in selected_clusters:\n",
    "            rated = next((rating for b_id, rating, c in ratings if b_id == book_id), None)\n",
    "            if rated is not None:\n",
    "                user_embedding.append([book_id, rated])\n",
    "            else:\n",
    "                user_embedding.append([book_id, 0])  \n",
    "                \n",
    "    return user_embedding  "
   ]
  },
  {
   "cell_type": "code",
   "execution_count": 33,
   "id": "39b04596",
   "metadata": {},
   "outputs": [
    {
     "data": {
      "text/plain": [
       "1480"
      ]
     },
     "execution_count": 33,
     "metadata": {},
     "output_type": "execute_result"
    }
   ],
   "source": [
    "len(embed(88))"
   ]
  }
 ],
 "metadata": {
  "kernelspec": {
   "display_name": "venv",
   "language": "python",
   "name": "python3"
  },
  "language_info": {
   "codemirror_mode": {
    "name": "ipython",
    "version": 3
   },
   "file_extension": ".py",
   "mimetype": "text/x-python",
   "name": "python",
   "nbconvert_exporter": "python",
   "pygments_lexer": "ipython3",
   "version": "3.9.20"
  }
 },
 "nbformat": 4,
 "nbformat_minor": 5
}
