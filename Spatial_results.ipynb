{
 "cells": [
  {
   "cell_type": "code",
   "execution_count": 1,
   "id": "1a1b0094",
   "metadata": {},
   "outputs": [],
   "source": [
    "import Recomandation_models as rm\n",
    "import Filtering as fl\n",
    "import pandas as pd\n",
    "import numpy as np\n",
    "\n",
    "import math\n",
    "from time import time\n",
    "import matplotlib.pyplot as plt\n",
    "import torch\n",
    "import torch.nn as nn \n",
    "import torch.nn.functional as F \n",
    "import torchvision \n",
    "import torch.utils.data as data\n",
    "import torch.distributions as dist"
   ]
  },
  {
   "cell_type": "markdown",
   "id": "1f678c39",
   "metadata": {},
   "source": [
    "### DATA PREPARATION"
   ]
  },
  {
   "cell_type": "code",
   "execution_count": 2,
   "id": "8bf93add",
   "metadata": {},
   "outputs": [],
   "source": [
    "class Spatial_F_AE(nn.Module):\n",
    "    def __init__(self,k):\n",
    "        super(Spatial_F_AE, self).__init__()\n",
    "        self.encoder = nn.Sequential(\n",
    "            nn.Linear(k,500),\n",
    "            nn.ReLU(),\n",
    "            nn.Linear(500,250),\n",
    "            nn.ReLU(),\n",
    "            nn.Linear(250,125),\n",
    "            nn.ReLU(),\n",
    "            nn.Linear(125,50),\n",
    "            nn.ReLU(),\n",
    "            nn.Linear(50,2)\n",
    "        )\n",
    "        self.decoder = nn.Sequential(\n",
    "            nn.Linear(2,50),\n",
    "            nn.ReLU(),\n",
    "            nn.Linear(50,125),\n",
    "            nn.ReLU(),\n",
    "            nn.Linear(125,250),\n",
    "            nn.ReLU(),\n",
    "            nn.Linear(250,500),\n",
    "            nn.ReLU(),\n",
    "            nn.Linear(500,k),\n",
    "            nn.Sigmoid(),\n",
    "        )\n",
    "    def forward(self,x):\n",
    "        z = self.encoder(x)\n",
    "        final = self.decoder(z)\n",
    "        return final"
   ]
  },
  {
   "cell_type": "code",
   "execution_count": 50,
   "id": "5b283118",
   "metadata": {},
   "outputs": [],
   "source": [
    "class Spatial_F_AE2(nn.Module):\n",
    "    def __init__(self,k):\n",
    "        super(Spatial_F_AE2, self).__init__()\n",
    "        self.encoder = nn.Sequential(\n",
    "            nn.Linear(k,750),\n",
    "            nn.ReLU(),\n",
    "            nn.Linear(750,500),\n",
    "            nn.ReLU(),\n",
    "            nn.Linear(500,250),\n",
    "            nn.ReLU(),\n",
    "            nn.Linear(250,125),\n",
    "            nn.ReLU(),\n",
    "            nn.Linear(125,75),\n",
    "            nn.ReLU(),\n",
    "            nn.Linear(75,50),\n",
    "            nn.ReLU(),\n",
    "            nn.Linear(50,25),\n",
    "            nn.ReLU(25,10),\n",
    "            nn.Linear(10,2)\n",
    "        )\n",
    "        self.decoder = nn.Sequential(\n",
    "            nn.Linear(2,10),\n",
    "            nn.ReLU(),\n",
    "            nn.Linear(10,50),\n",
    "            nn.ReLU(),\n",
    "            nn.Linear(50,75),\n",
    "            nn.ReLU(),\n",
    "            nn.Linear(75,125),\n",
    "            nn.ReLU(),\n",
    "            nn.Linear(125,250),\n",
    "            nn.ReLU(),\n",
    "            nn.Linear(250,500),\n",
    "            nn.ReLU(),\n",
    "            nn.Linear(500,750),\n",
    "            nn.ReLU(),\n",
    "            nn.Linear(500,k),\n",
    "            nn.Sigmoid(),\n",
    "        )\n",
    "    def forward(self,x):\n",
    "        z = self.encoder(x)\n",
    "        final = self.decoder(z)\n",
    "        return final"
   ]
  },
  {
   "cell_type": "code",
   "execution_count": 52,
   "id": "866c91ed",
   "metadata": {},
   "outputs": [],
   "source": [
    "def train(model, dataloader, criterion, optimizer, num_epochs, scheduler=None, best_loss=float('inf')):\n",
    "    device = torch.device('cuda' if torch.cuda.is_available() else 'cpu')\n",
    "    losses = []\n",
    "    model.to(device)\n",
    "    for epoch in range(num_epochs):\n",
    "        model.train()\n",
    "        running_loss = 0.0\n",
    "        for i, batch in enumerate(dataloader):\n",
    "            inputs = batch[0]\n",
    "            inputs = inputs.to(device)\n",
    "            recon = model(inputs)\n",
    "            loss = criterion(recon, inputs)\n",
    "            optimizer.zero_grad()\n",
    "            loss.backward()\n",
    "            optimizer.step()\n",
    "            if scheduler is not None:\n",
    "                scheduler.step(loss.item())\n",
    "            running_loss += loss.item()\n",
    "        losses.append(running_loss / (i + 1))\n",
    "        if running_loss < best_loss:\n",
    "            best_loss = running_loss\n",
    "            torch.save(model.state_dict(), 'best_model.pth')\n",
    "        print(f\"Epoch {epoch+1}: Loss = {running_loss / (i + 1):.10f}\")\n",
    "    return losses"
   ]
  },
  {
   "cell_type": "code",
   "execution_count": null,
   "id": "96d9330b",
   "metadata": {},
   "outputs": [],
   "source": [
    "df_books = pd.read_csv('books_autorec.csv')\n",
    "df_books.sort_values(by='ratings_count', ascending=False, inplace=True)\n",
    "#for aumenting books number change \n",
    "Books_number = 1000\n",
    "df_books = df_books.iloc[:Books_number]\n",
    "df_books.to_csv('Spatial_model_books.csv')\n",
    "df_books['goodreads_book_id'] = df_books['goodreads_book_id'].astype(int)\n",
    "book_ids = df_books['goodreads_book_id']\n"
   ]
  },
  {
   "cell_type": "code",
   "execution_count": 5,
   "id": "2e44f68d",
   "metadata": {},
   "outputs": [],
   "source": [
    "df_books = pd.read_csv('Spatial_model_books.csv')"
   ]
  },
  {
   "cell_type": "code",
   "execution_count": 65,
   "id": "34cad950",
   "metadata": {},
   "outputs": [],
   "source": [
    "df = pd.read_csv(\"books_autorec.csv\")\n",
    "df_ratings = pd.read_csv(\"ratings_autorec.csv\")\n",
    "\n",
    "df_ratings_with_clusters = df_ratings.merge(\n",
    "    df[['goodreads_book_id', 'cluster']], \n",
    "    left_on='book_id', \n",
    "    right_on='goodreads_book_id', \n",
    "    how='left'\n",
    ")\n",
    "\n",
    "# create dictionary with user and ratings\n",
    "sparse_users = {}\n",
    "for user_id, group in df_ratings_with_clusters.groupby('user_id'):\n",
    "    books_ratings_clusters = group[['book_id', 'rating', 'cluster']].values.tolist()\n",
    "    sparse_users[user_id] = books_ratings_clusters\n",
    "\n",
    "cluster_sizes = df_books['cluster'].value_counts().sort_index().values\n",
    "\n",
    "filter_users = {\n",
    "    user: [triplet for triplet in triplets if triplet[0] in book_ids]\n",
    "    for user, triplets in sparse_users.items()\n",
    "}\n",
    "filter_users = {user: triplets for user, triplets in filter_users.items() if triplets}\n",
    "filter_users = sorted(filter_users.items(), key=lambda x: len(x[1]), reverse=True)[:10000]\n",
    "filter_users = dict(filter_users)\n"
   ]
  },
  {
   "cell_type": "code",
   "execution_count": 7,
   "id": "68ac99d2",
   "metadata": {},
   "outputs": [
    {
     "name": "stdout",
     "output_type": "stream",
     "text": [
      "53424\n",
      "10000\n"
     ]
    }
   ],
   "source": [
    "print(len(sparse_users))\n",
    "print(len(filter_users))"
   ]
  },
  {
   "cell_type": "code",
   "execution_count": 8,
   "id": "c33aeea5",
   "metadata": {},
   "outputs": [
    {
     "name": "stdout",
     "output_type": "stream",
     "text": [
      "1000\n",
      "1000\n",
      "10000\n",
      "10000\n"
     ]
    }
   ],
   "source": [
    "mapping_pos_to_books = dict(zip(range(1000), book_ids))\n",
    "mapping_books_to_pos = dict(zip(book_ids,range(10000)))\n",
    "mapping_pos_to_users = dict(zip(range(10000), filter_users.keys()))\n",
    "mapping_users_to_pos = dict(zip(filter_users.keys(),range(10000)))\n",
    "print(len(mapping_pos_to_books))\n",
    "print(len(mapping_books_to_pos))\n",
    "print(len(mapping_pos_to_users))\n",
    "print(len(mapping_users_to_pos))"
   ]
  },
  {
   "cell_type": "code",
   "execution_count": 9,
   "id": "750eb98c",
   "metadata": {},
   "outputs": [
    {
     "name": "stdout",
     "output_type": "stream",
     "text": [
      "10000\n",
      "1000\n",
      "[0, 1, 0, 0, 0, 0, 0, 0, 0, 1, 0, 0, 0, 0, 1, 0, 0, 0, 0, 1, 1, 0, 1, 0, 1, 0, 0, 0, 0, 0, 1, 0, 0, 0, 0, 0, 1, 0, 0, 0, 0, 0, 0, 0, 0, 0, 0, 0, 0, 0, 0, 0, 0, 0, 0, 0, 1, 0, 0, 0, 0, 0, 0, 0, 0, 0, 0, 0, 0, 0, 0, 0, 0, 0, 0, 0, 0, 0, 0, 0, 0, 0, 0, 0, 0, 0, 0, 0, 0, 0, 0, 0, 0, 0, 0, 0, 0, 0, 0, 0, 0, 0, 0, 0, 0, 0, 0, 0, 0, 1, 0, 0, 0, 0, 0, 0, 0, 0, 0, 0, 0, 0, 0, 0, 0, 0, 0, 0, 0, 0, 0, 0, 0, 0, 1, 0, 0, 0, 0, 0, 0, 0, 0, 0, 0, 0, 0, 0, 0, 0, 0, 0, 0, 0, 0, 0, 0, 0, 0, 0, 0, 0, 0, 0, 0, 0, 0, 0, 0, 0, 0, 0, 0, 0, 0, 0, 0, 0, 0, 0, 0, 0, 0, 0, 0, 0, 0, 0, 0, 0, 1, 0, 0, 0, 0, 0, 0, 0, 0, 0, 0, 0, 0, 0, 0, 0, 0, 0, 0, 0, 0, 0, 0, 0, 0, 0, 0, 0, 0, 0, 0, 0, 0, 0, 0, 0, 0, 0, 0, 0, 0, 0, 0, 0, 0, 0, 0, 0, 0, 0, 0, 0, 0, 0, 0, 0, 0, 0, 0, 0, 0, 0, 0, 0, 0, 0, 0, 0, 0, 0, 0, 0, 0, 0, 0, 0, 0, 0, 0, 0, 0, 0, 0, 0, 0, 0, 0, 0, 0, 0, 0, 0, 0, 0, 0, 0, 0, 0, 0, 0, 0, 0, 0, 0, 0, 0, 0, 0, 0, 0, 0, 0, 0, 0, 0, 0, 0, 0, 0, 0, 0, 0, 0, 0, 0, 0, 0, 0, 0, 0, 0, 0, 0, 0, 0, 0, 0, 0, 0, 0, 0, 0, 0, 0, 0, 0, 0, 0, 0, 0, 0, 0, 0, 0, 0, 0, 0, 0, 0, 0, 0, 0, 0, 0, 0, 0, 0, 0, 0, 0, 0, 0, 0, 0, 0, 0, 0, 0, 0, 0, 0, 0, 0, 0, 0, 0, 0, 0, 0, 1, 0, 0, 0, 0, 0, 1, 0, 0, 0, 0, 0, 0, 0, 0, 0, 0, 0, 0, 0, 0, 0, 0, 0, 0, 0, 0, 0, 0, 0, 0, 0, 0, 0, 0, 0, 0, 0, 0, 0, 0, 0, 0, 0, 0, 0, 0, 0, 0, 0, 0, 0, 0, 0, 0, 0, 0, 0, 0, 0, 1, 0, 0, 0, 0, 0, 0, 0, 0, 0, 0, 0, 0, 0, 0, 0, 0, 0, 0, 0, 0, 0, 0, 0, 0, 0, 0, 0, 0, 0, 0, 0, 0, 0, 0, 0, 0, 0, 0, 0, 0, 0, 1, 0, 0, 0, 0, 0, 0, 0, 0, 0, 0, 0, 0, 0, 0, 0, 0, 0, 0, 0, 0, 0, 0, 0, 0, 0, 0, 0, 0, 0, 0, 0, 0, 0, 0, 0, 0, 0, 0, 0, 0, 0, 0, 0, 0, 0, 0, 0, 0, 0, 0, 0, 0, 0, 0, 0, 0, 0, 0, 0, 0, 0, 0, 0, 0, 0, 0, 0, 0, 0, 0, 0, 0, 0, 0, 0, 0, 0, 0, 0, 0, 0, 0, 0, 0, 0, 0, 0, 0, 0, 0, 0, 0, 0, 0, 0, 0, 0, 0, 0, 0, 0, 0, 0, 0, 0, 0, 0, 0, 0, 0, 0, 0, 0, 0, 0, 0, 0, 0, 0, 0, 0, 0, 0, 0, 0, 0, 0, 0, 0, 0, 0, 0, 0, 0, 0, 0, 0, 0, 0, 0, 0, 0, 0, 0, 0, 0, 0, 0, 0, 0, 0, 0, 0, 0, 0, 0, 0, 0, 0, 0, 0, 0, 0, 0, 0, 0, 0, 0, 0, 0, 0, 0, 0, 0, 0, 0, 0, 0, 0, 0, 0, 0, 0, 0, 0, 0, 0, 0, 0, 0, 0, 0, 0, 0, 0, 0, 0, 0, 0, 0, 0, 0, 0, 0, 0, 0, 0, 0, 0, 0, 0, 0, 0, 0, 0, 0, 0, 0, 0, 0, 0, 0, 0, 0, 0, 0, 0, 0, 0, 0, 0, 0, 0, 0, 0, 0, 0, 0, 0, 0, 0, 0, 0, 0, 0, 0, 0, 0, 0, 0, 0, 0, 0, 0, 0, 0, 0, 0, 0, 0, 0, 0, 0, 0, 0, 0, 0, 0, 0, 0, 0, 0, 0, 0, 0, 0, 0, 0, 0, 0, 0, 0, 0, 0, 0, 0, 0, 0, 0, 0, 0, 0, 0, 0, 0, 0, 0, 0, 0, 0, 0, 0, 0, 0, 0, 0, 0, 0, 0, 0, 0, 0, 0, 0, 0, 0, 0, 0, 0, 0, 0, 0, 0, 0, 0, 0, 0, 0, 0, 0, 0, 0, 0, 0, 0, 0, 0, 0, 0, 0, 0, 0, 0, 0, 0, 0, 0, 0, 0, 0, 0, 0, 0, 0, 0, 0, 0, 0, 0, 0, 0, 0, 0, 0, 0, 0, 0, 0, 0, 0, 0, 0, 0, 0, 0, 0, 0, 0, 0, 0, 0, 0, 0, 0, 0, 0, 0, 0, 0, 0, 0, 0, 0, 0, 0, 0, 0, 0, 0, 0, 0, 0, 0, 0, 0, 0, 0, 0, 0, 0, 0, 0, 0, 0, 0, 0, 0, 0, 0, 0, 0, 0, 0, 0, 0, 0, 0, 0, 0, 0, 0, 0, 0, 0, 0, 0, 0, 0, 0, 0, 0, 0, 0, 0, 0, 0, 0, 0, 0, 0, 0, 0, 0, 0, 0, 0, 0, 0, 0, 0, 0, 0, 0, 0, 0, 0, 0, 0, 0, 0, 0, 0, 0, 0, 0, 0, 0, 0, 0, 0, 0, 0, 0, 0, 0, 0, 0, 0, 0, 0, 0, 0, 0, 0, 0, 0, 0, 0, 0, 0, 0, 0, 0, 0, 0, 0, 0, 0, 0, 0, 0, 0, 0, 0, 0, 0, 0, 0]\n"
     ]
    }
   ],
   "source": [
    "n_books = len(mapping_books_to_pos)\n",
    "user_vectors = []\n",
    "for user_id, triplets in filter_users.items():\n",
    "    vector = np.zeros(n_books)  # inizializza vettore di zeri\n",
    "\n",
    "    for book_id, rating, _ in triplets:\n",
    "        if book_id in mapping_books_to_pos:  # se il book_id è tra quelli mappati\n",
    "            index = mapping_books_to_pos[book_id]\n",
    "            vector[index] = rating  # inserisci il rating nella posizione giusta\n",
    "\n",
    "    user_vectors.append(vector)\n",
    "print(len(user_vectors))\n",
    "print(len(user_vectors[0]))\n",
    "for i in range(len(user_vectors)):\n",
    "    user_vectors[i] = [0 if elem < 3 else 1 for elem in user_vectors[i]]\n",
    "print(user_vectors[0])\n",
    "df_input_data = pd.DataFrame(user_vectors)"
   ]
  },
  {
   "cell_type": "code",
   "execution_count": 10,
   "id": "9c295695",
   "metadata": {},
   "outputs": [],
   "source": [
    "#df_input_data = pd.read_csv('Spatial_model_inputs.csv')\n",
    "tensor_data = torch.tensor(df_input_data.values, dtype=torch.float32)\n",
    "dataset = torch.utils.data.TensorDataset(tensor_data)\n",
    "dataloader = torch.utils.data.DataLoader(dataset, batch_size=32, shuffle=True)"
   ]
  },
  {
   "cell_type": "code",
   "execution_count": 11,
   "id": "7d543211",
   "metadata": {},
   "outputs": [
    {
     "name": "stderr",
     "output_type": "stream",
     "text": [
      "C:\\Users\\pitom\\AppData\\Local\\Packages\\PythonSoftwareFoundation.Python.3.11_qbz5n2kfra8p0\\LocalCache\\local-packages\\Python311\\site-packages\\torch\\optim\\lr_scheduler.py:62: UserWarning: The verbose parameter is deprecated. Please use get_last_lr() to access the learning rate.\n",
      "  warnings.warn(\n"
     ]
    }
   ],
   "source": [
    "model = rm.Spatial_F_AE(1000)\n",
    "criterion = nn.MSELoss()\n",
    "N_Epochs = 20\n",
    "optimizer = torch.optim.Adam(model.parameters(), lr = 0.001)\n",
    "scheduler = torch.optim.lr_scheduler.ReduceLROnPlateau(optimizer, mode='min', factor=0.1, patience=2, verbose=False)"
   ]
  },
  {
   "cell_type": "code",
   "execution_count": 149,
   "id": "c83316ff",
   "metadata": {},
   "outputs": [
    {
     "name": "stdout",
     "output_type": "stream",
     "text": [
      "Epoch 1: Loss = 0.0134\n",
      "Epoch 2: Loss = 0.0049\n",
      "Epoch 3: Loss = 0.0049\n",
      "Epoch 4: Loss = 0.0049\n",
      "Epoch 5: Loss = 0.0049\n",
      "Epoch 6: Loss = 0.0048\n",
      "Epoch 7: Loss = 0.0049\n",
      "Epoch 8: Loss = 0.0048\n",
      "Epoch 9: Loss = 0.0048\n",
      "Epoch 10: Loss = 0.0048\n",
      "Epoch 11: Loss = 0.0048\n",
      "Epoch 12: Loss = 0.0048\n",
      "Epoch 13: Loss = 0.0048\n",
      "Epoch 14: Loss = 0.0048\n",
      "Epoch 15: Loss = 0.0048\n",
      "Epoch 16: Loss = 0.0048\n",
      "Epoch 17: Loss = 0.0048\n",
      "Epoch 18: Loss = 0.0048\n",
      "Epoch 19: Loss = 0.0048\n",
      "Epoch 20: Loss = 0.0048\n"
     ]
    }
   ],
   "source": [
    "losses = train(model,dataloader,criterion, optimizer, N_Epochs, scheduler)"
   ]
  },
  {
   "cell_type": "code",
   "execution_count": 150,
   "id": "cdef5edc",
   "metadata": {},
   "outputs": [
    {
     "data": {
      "image/png": "[encoded data removed]",
      "text/plain": [
       "<Figure size 640x480 with 1 Axes>"
      ]
     },
     "metadata": {},
     "output_type": "display_data"
    }
   ],
   "source": [
    "rm.loss_graph(losses, N_Epochs)"
   ]
  },
  {
   "cell_type": "code",
   "execution_count": 51,
   "id": "c821711d",
   "metadata": {},
   "outputs": [
    {
     "name": "stderr",
     "output_type": "stream",
     "text": [
      "C:\\Users\\pitom\\AppData\\Local\\Packages\\PythonSoftwareFoundation.Python.3.11_qbz5n2kfra8p0\\LocalCache\\local-packages\\Python311\\site-packages\\torch\\optim\\lr_scheduler.py:62: UserWarning: The verbose parameter is deprecated. Please use get_last_lr() to access the learning rate.\n",
      "  warnings.warn(\n"
     ]
    },
    {
     "name": "stdout",
     "output_type": "stream",
     "text": [
      "Epoch 1: Loss = 0.0042\n",
      "Epoch 2: Loss = 0.0042\n",
      "Epoch 3: Loss = 0.0042\n",
      "Epoch 4: Loss = 0.0042\n",
      "Epoch 5: Loss = 0.0042\n",
      "Epoch 6: Loss = 0.0042\n",
      "Epoch 7: Loss = 0.0042\n",
      "Epoch 8: Loss = 0.0042\n",
      "Epoch 9: Loss = 0.0042\n",
      "Epoch 10: Loss = 0.0042\n",
      "Epoch 11: Loss = 0.0042\n",
      "Epoch 12: Loss = 0.0042\n",
      "Epoch 13: Loss = 0.0042\n",
      "Epoch 14: Loss = 0.0042\n",
      "Epoch 15: Loss = 0.0042\n",
      "Epoch 16: Loss = 0.0042\n",
      "Epoch 17: Loss = 0.0042\n",
      "Epoch 18: Loss = 0.0042\n",
      "Epoch 19: Loss = 0.0042\n",
      "Epoch 20: Loss = 0.0042\n"
     ]
    },
    {
     "data": {
      "image/png": "[encoded data removed]",
      "text/plain": [
       "<Figure size 640x480 with 1 Axes>"
      ]
     },
     "metadata": {},
     "output_type": "display_data"
    }
   ],
   "source": [
    "model2 = rm.Spatial_F_AE(1000)\n",
    "criterion = nn.MSELoss()\n",
    "N_Epochs = 20\n",
    "optimizer = torch.optim.Adam(model.parameters(), lr = 0.001)\n",
    "scheduler = torch.optim.lr_scheduler.ReduceLROnPlateau(optimizer, mode='min', factor=0.1, patience=2, verbose=False)\n",
    "losses = train(model,dataloader,criterion, optimizer, N_Epochs, scheduler)\n",
    "rm.loss_graph(losses, N_Epochs)"
   ]
  },
  {
   "cell_type": "code",
   "execution_count": 55,
   "id": "9698fbcb",
   "metadata": {},
   "outputs": [],
   "source": [
    "def recomandations(user, model):\n",
    "    model.eval()\n",
    "    recon = model(user)\n",
    "    old_books= (user != 0).nonzero(as_tuple=True)[0].tolist()\n",
    "    _, new_books = torch.topk(recon, 25)\n",
    "    new_books = new_books.tolist()\n",
    "    old_books_map = [mapping_pos_to_books[pos] for pos in old_books]\n",
    "    new_books_map = [mapping_pos_to_books[pos] for pos in new_books]\n",
    "    old_titles = [df_books[df_books['goodreads_book_id'] == id].values.tolist()[0][5] for id in old_books_map]\n",
    "    new_titles = [df_books[df_books['goodreads_book_id'] == id].values.tolist()[0][5] for id in new_books_map]\n",
    "    diff = list(set(new_titles) - set(old_titles))\n",
    "    diff_id = list(set(new_books_map) - set(old_books_map))\n",
    "    return diff, diff_id, old_books_map"
   ]
  },
  {
   "cell_type": "code",
   "execution_count": null,
   "id": "553a4017",
   "metadata": {},
   "outputs": [],
   "source": [
    "def print_top_tags_for_user(df, books_id, top_n=-1):\n",
    "    from collections import Counter\n",
    "    filtered_df = df[df['goodreads_book_id'].isin(books_id)]\n",
    "    tags = filtered_df['tags_list'].explode()\n",
    "    tag_counts = Counter(tags)\n",
    "    if top_n == -1:\n",
    "        top_n = len(tag_counts)\n",
    "    most_common = tag_counts.most_common(top_n)\n",
    "    print(f\"\\nBooks {books_id}:\")\n",
    "    for tag, count in most_common:\n",
    "        print(f\"  {tag}  ----  {count}\")"
   ]
  },
  {
   "cell_type": "code",
   "execution_count": 56,
   "id": "65a78be2",
   "metadata": {},
   "outputs": [
    {
     "name": "stdout",
     "output_type": "stream",
     "text": [
      "['Spirit Bound', 'Four: A Divergent Collection', 'The Bean Trees', 'Three Cups of Tea ', 'The Adventures of Sherlock Holmes', 'The Good Girl', 'Cell', 'As I Lay Dying', 'The Poisonwood Bible', 'Анна Каренина', 'Three to Get Deadly', 'The Fiery Cross', 'A Clash of Kings', 'Great Expectations', \"Uncle Tom's Cabin or Life Among the Lowly\", 'The Hobbit or There and Back Again', 'Wild: From Lost to Found on the Pacific Crest Trail ', 'Something Borrowed', 'The Hero of Ages', 'Fablehaven', ' The Tale of Despereaux', 'Crazy Love: Overwhelmed by a Relentless God', 'Fool Moon ', 'It', 'Miss Peregrine’s Home for Peculiar Children']\n",
      "[3590, 9460487, 5907, 30868, 6479259, 49436, 18342, 42156, 2767793, 2623, 46787, 37190, 10567, 6854, 10572, 7244, 91477, 12262741, 10967, 77013, 44652, 18812405, 18126198, 15823480, 3206011]\n"
     ]
    }
   ],
   "source": [
    "rec, rec_id, old_id = recomandations(dataloader.dataset[0][0], model2)\n",
    "print(rec) \n",
    "print(rec_id)"
   ]
  },
  {
   "cell_type": "code",
   "execution_count": null,
   "id": "4d572eaf",
   "metadata": {},
   "outputs": [
    {
     "name": "stdout",
     "output_type": "stream",
     "text": [
      "\n",
      "Clusters [3, 960, 5, 34, 6, 2, 1, 890, 865, 11, 1202, 320, 33, 13, 350, 21, 830]:\n",
      "  ['favorites', 'fantasy', 'currently-reading', 'young-adult', 'fiction', 'harry-potter', 'books-i-own', 'owned', 'owned', 'ya', 'series', 'favourites', 'magic', 'childrens', 're-read', 'children', 'adventure', 'owned-books', 'classics', 'children-s', 'childhood', 'reread', 'middle-grade', 'j-k-rowling', 'all-time-favorites', 'sci-fi-fantasy', 'children-s-books', 'kids', 'my-books', 'audiobook', 'favorite-books', 'default', 'novels', '5-stars', 'audiobooks', 'i-own', 'read-in-2016', 'favorite', 'paranormal', 'read-more-than-once', 'fantasy-sci-fi', 're-reads', 'my-library', 'read-in-2015', 'books', 'english', 'ya-fantasy', 'witches', 'childrens-books', 'british', 'teen', 'urban-fantasy', 'mystery', 'audio', 'favorite-series', 'supernatural', 'my-favorites', 'library', 'read-in-2014', 'novel', 'jk-rowling', 'read-in-2017', 'ya-fiction', 'faves', 'own-it', 'harry-potter-series', 'juvenile', 'kindle', 'childhood-favorites', 'wizards', 'rereads', 'kids-books', 'scifi-fantasy', 're-reading', 'read-in-english', 'young-adult-fiction', 'youth', 'read-2016', 'children-s-literature', 'classic', 'favourite', 'children-s-lit', 'ebook', 'to-re-read', 'childhood-books', 'contemporary', 'friendship', 'read-in-2013', 'shelfari-favorites', 'on-my-shelf', 'all-time-favourites', 'favs', 'to-buy', 'science-fiction-fantasy', 'read-2015', 'england', 'bookshelf', 'favourite-books', 'my-bookshelf', 'J.K. Rowling, Mary GrandPré', \"Harry Potter and the Philosopher's Stone\", \"Harry Potter and the Sorcerer's Stone (Harry Potter, #1)\", 'eng', 1997.0]  ----  1\n",
      "  ['fiction', 'mystery', 'favorites', 'thriller', 'dan-brown', 'owned', 'books-i-own', 'suspense', 'series', 'adventure', 'mystery-thriller', 'historical-fiction', 'crime', 'default', 'adult', 'thrillers', 'owned-books', 'currently-reading', 'contemporary', 'adult-fiction', 'religion', 'mystery-suspense', 'novel', 'favourites', 'my-books', 'general-fiction', 'fantasy', 'action', 'library', 'mysteries', 'contemporary-fiction', 'my-library', 'i-own', 'historical', 'conspiracy', 'action-adventure', 'suspense-thriller', 'robert-langdon', 'books', 'english', 'to-buy', 'crime-mystery', 'history', 'crime-thriller', 'borrowed', 'thriller-mystery', 'shelfari-favorites', 'drama', 'italy', 'science-fiction', 'audiobook', 'literature', 'brown-dan', 'kindle', 'finished', 'audiobooks', 'own-it', 'ebook', 'favorite', 'mystery-crime', 'american', 'other', 'thriller-suspense', 'sci-fi', 'modern-fiction', 'brown', 'detective', 'american-literature', 'all-time-favorites', 'book-club', 'religious', 'ebooks', 'paperback', 'movies', 'favorite-books', 'murder-mystery', 'audio', 'popular-fiction', '2005', 'bookshelf', 're-read', 'روايات', 'classics', 'romance', 'mystery-thrillers', 'mistery', 'wish-list', '2006', '5-stars', 'have', 'abandoned', 'read-fiction', 'art', 'favourite', 'home-library', 'movie', 'personal-library', 'realistic-fiction', 'modern', 'Dan Brown', 'Angels & Demons ', 'Angels & Demons  (Robert Langdon, #1)', 'en-CA', 2000.0]  ----  1\n",
      "  ['favorites', 'fantasy', 'currently-reading', 'young-adult', 'fiction', 'harry-potter', 'books-i-own', 'owned', 'ya', 'favourites', 'series', 'magic', 'childrens', 're-read', 'adventure', 'owned-books', 'children', 'j-k-rowling', 'children-s', 'childhood', 'all-time-favorites', 'sci-fi-fantasy', 'middle-grade', 'classics', 'reread', 'my-books', 'default', 'audiobook', 'children-s-books', 'favorite-books', '5-stars', 'kids', 'i-own', 'novels', 'favorite', 'audiobooks', 'read-more-than-once', 'fantasy-sci-fi', 'paranormal', 'read-in-2016', 'my-library', 'ya-fantasy', 're-reads', 'english', 'witches', 'urban-fantasy', 'british', 'books', 'teen', 'jk-rowling', 'childrens-books', 'read-in-2015', 'mystery', 'supernatural', 'audio', 'shelfari-favorites', 'my-favorites', 'library', 'faves', 'time-travel', 'harry-potter-series', 'own-it', 'ya-fiction', 'novel', 'read-in-2014', 'juvenile', 'wizards', 'scifi-fantasy', 'kindle', 'young-adult-fiction', 'read-in-2017', 'favorite-series', 'childhood-favorites', 'favourite', 'youth', 'rereads', 'all-time-favourites', 'kids-books', 'children-s-literature', 'children-s-lit', 'favourite-books', 'read-in-english', 'contemporary', 'ebook', 'favs', 'to-buy', 'on-my-shelf', 'childhood-books', 'read-2016', 'to-re-read', '5-star', 'science-fiction-fantasy', 'england', 'read-in-2013', 'my-bookshelf', 'werewolves', 'friendship', 'audio-books', 'bookshelf', 'J.K. Rowling, Mary GrandPré, Rufus Beck', 'Harry Potter and the Prisoner of Azkaban', 'Harry Potter and the Prisoner of Azkaban (Harry Potter, #3)', 'eng', 1999.0]  ----  1\n",
      "  ['fantasy', 'classics', 'fiction', 'books-i-own', 'classic', 'adventure', 'currently-reading', 'series', 'sci-fi-fantasy', 'tolkien', 'favourites', 'epic-fantasy', 'high-fantasy', 'owned-books', 'favorites', 'young-adult', 'magic', 'default', 'owned', 'novels', 'literature', 're-read', 'j-r-r-tolkien', 'my-books', 'epic', 'adult', 'lord-of-the-rings', 'all-time-favorites', 'my-library', 'i-own', 'science-fiction', 'audiobook', 'sci-fi', 'library', 'audiobooks', 'adult-fiction', 'science-fiction-fantasy', 'novel', 'books', 'british', 'fantasy-scifi', 'middle-earth', 'english', 'séries', 'to-buy', 'favorite', 'kindle', 'own-it', 'favorite-books', '20th-century', 'reread', 'audio', 'childhood', '1001-books', '5-stars', 'sci-fi-and-fantasy', 'rory-gilmore-reading-challenge', 'classic-literature', 'fiction-fantasy', 'lotr', 'read-more-than-once', 'ya', 'abandoned', 'to-re-read', 'fantasy-fiction', 'fantasia', 'fantasía', 'read-in-2015', 'elves', 'on-hold', 'british-literature', 'movies', 'unfinished', 'shelfari-favorites', 'audible', 'ebook', 'sf-fantasy', 'on-my-shelf', 'tbr', 'modern-classics', 'fantasy-science-fiction', 'favourite', 'the-lord-of-the-rings', 'read-in-2016', 'my-favorites', 'paperback', 'have', 'speculative-fiction', 'fantasy-and-sci-fi', 'dnf', 'movie', '1001', 'home-library', 're-reads', 'read-in-2014', 'bookshelf', 'ebooks', 'war', 'my-bookshelf', 'J.R.R. Tolkien', ' The Fellowship of the Ring', 'The Fellowship of the Ring (The Lord of the Rings, #1)', 'eng', 1954.0]  ----  1\n",
      "  ['fantasy', 'young-adult', 'fiction', 'harry-potter', 'owned', 'ya', 'series', 'favourites', 'childrens', 're-read', 'owned-books', 'adventure', 'children', 'j-k-rowling', 'children-s', 'sci-fi-fantasy', 'all-time-favorites', 'classics', 'my-books', 'reread', 'default', 'audiobook', 'children-s-books', '5-stars', 'middle-grade', 'i-own', 'kids', 'favorite-books', 'novels', 'audiobooks', 'fantasy-sci-fi', 'read-more-than-once', 'favorite', 'paranormal', 'ya-fantasy', 'my-library', 'read-in-2016', 'dragons', 'teen', 're-reads', 'urban-fantasy', 'witches', 'english', 'british', 'jk-rowling', 'books', 'mystery', 'supernatural', 'childrens-books', 'harry-potter-series', 'read-in-2015', 'audio', 'shelfari-favorites', 'ya-fiction', 'library', 'my-favorites', 'own-it', 'novel', 'wizards', 'young-adult-fiction', 'faves', 'scifi-fantasy', 'kindle', 'favorite-series', 'youth', 'juvenile', 'read-in-2014', 'childhood-favorites', 'read-in-2017', 'rereads', 'favourite', 'kids-books', 'to-buy', 'ebook', 'all-time-favourites', 'to-re-read', 'science-fiction-fantasy', 'contemporary', 'coming-of-age', 'england', 'children-s-lit', 'children-s-literature', 'childhood-books', '5-star', 'on-my-shelf', 'read-in-english', 'my-bookshelf', 'friendship', 'read-2016', 'favourite-books', 'favs', 'séries', 'potter', 'read-in-2013', 'classic', 'bookshelf', 'fantasy-scifi', 'audio-books', 'rory-gilmore-reading-challenge', 'J.K. Rowling, Mary GrandPré', 'Harry Potter and the Goblet of Fire', 'Harry Potter and the Goblet of Fire (Harry Potter, #4)', 'eng', 2000.0]  ----  1\n",
      "  ['currently-reading', 'fantasy', 'favorites', 'children', 'children-s', 'all-time-favorites', 'default', 'fiction', 'young-adult', 'audiobook', 'books-i-own', 'novels', 'kids', 'owned', 'fantasy-sci-fi', 'harry-potter', 'favorite', 'paranormal', 'my-library', 'ya-fantasy', 'teen', 'witches', 'urban-fantasy', 'british', 'jk-rowling', 're-reads', 'supernatural', 'ya-fiction', 'childrens-books', 'own-it', 'ya', 'mystery', 'harry-potter-series', 'my-favorites', 'library', 'novel', 'audio', 'young-adult-fiction', 'wizards', 'faves', 'scifi-fantasy', 'kindle', 'favourites', 'youth', 'favorite-series', 'shelfari-favorites', 'juvenile', 'favourite', 'read-in-2014', 'childhood-favorites', 'kids-books', 'read-in-2017', 'owned-books', 'coming-of-age', 'science-fiction-fantasy', 'all-time-favourites', 'children-s-literature', 're-read', 'england', 'children-s-lit', 'childhood-books', 'potter', 'fantasy-scifi', '5-star', 'magic', 'favs', 'hp', 'classic', '2003', 'magical', 'boarding-school', 'have', 'audio-books', 'action', 'movie', 'romance', 'british-literature', 'read-in-2013', 'fantasy-fiction', 'rowling', 'read-in-2011', 'read-multiple-times', 'juvenile-fiction', 'finished', 'young-adult-fantasy', 'read-again', 'ya-books', 'borrowed', 'sci-fi', 'fiction-fantasy', 'childrens-lit', 'audiobooks', 'female-author', 'fantasia', 'children-young-adult', 'books-i-have', 'mine', 'ya-lit', 'middle-school', 'J.K. Rowling, Mary GrandPré', 'Harry Potter and the Order of the Phoenix', 'Harry Potter and the Order of the Phoenix (Harry Potter, #5)', 'eng', 2003.0]  ----  1\n",
      "  ['fantasy', 'favorites', 'currently-reading', 'young-adult', 'fiction', 'harry-potter', 'books-i-own', 'owned', 'ya', 'series', 'favourites', 'magic', 'childrens', 'owned-books', 're-read', 'adventure', 'children', 'j-k-rowling', 'children-s', 'sci-fi-fantasy', 'childhood', 'all-time-favorites', 'default', 'my-books', 'classics', 'reread', 'i-own', 'audiobook', '5-stars', 'children-s-books', 'favorite-books', 'kids', 'novels', 'fantasy-sci-fi', 'favorite', 'middle-grade', 'audiobooks', 'paranormal', 'read-more-than-once', 'my-library', 'ya-fantasy', 'teen', 'witches', 'english', 'urban-fantasy', 'british', 'jk-rowling', 'books', 'read-in-2016', 'supernatural', 're-reads', 'mystery', 'ya-fiction', 'harry-potter-series', 'my-favorites', 'own-it', 'childrens-books', 'library', 'audio', 'young-adult-fiction', 'novel', '2005', 'scifi-fantasy', 'wizards', 'faves', 'favorite-series', 'read-in-2015', 'made-me-cry', 'juvenile', 'shelfari-favorites', 'kindle', 'youth', 'romance', 'favourite', 'to-buy', 'read-in-2014', 'to-re-read', 'all-time-favourites', 'childhood-favorites', 'kids-books', 'ebook', 'rereads', 'contemporary', 'read-in-english', '5-star', 'coming-of-age', 'science-fiction-fantasy', 'read-in-2017', 'england', 'children-s-literature', 'favourite-books', 'on-my-shelf', 'my-bookshelf', 'children-s-lit', 'bookshelf', 'magical', 'favs', 'childhood-books', 'potter', 'J.K. Rowling, Mary GrandPré', 'Harry Potter and the Half-Blood Prince', 'Harry Potter and the Half-Blood Prince (Harry Potter, #6)', 'eng', 2005.0]  ----  1\n",
      "  ['classics', 'fiction', 'favorites', 'classic', 'school', 'literature', 'historical-fiction', 'books-i-own', 'owned', 'read-for-school', 'novels', 'american', 'american-literature', 'clàssics', 'high-school', 'for-school', 'school-books', 'favourites', 'classic-literature', '1001-books', 'adult', 'historical', 'to-buy', 'owned-books', 'adult-fiction', 'novel', '20th-century', 'young-adult', 'literary-fiction', 'modern-classics', 'american-lit', 'read-in-school', 'school-reads', 'general-fiction', 'classic-fiction', 'drama', 'library', 're-read', '1001', 'classics-to-read', 'english', 'john-steinbeck', 'classic-lit', 'currently-reading', 'realistic-fiction', 'banned-books', 'school-reading', 'steinbeck', 'default', 'my-books', 'rory-gilmore-reading-challenge', 'friendship', 'literary', '1001-books-to-read-before-you-die', 'novella', 'my-library', 'required-reading', 'to-re-read', 'the-classics', 'book-club', 'books', 'usa', 'kindle', 'to-read-classics', 'read-in-english', 'read-in-high-school', 'i-own', 'american-classics', 'favorite-books', '1930s', 'tragedy', 'read-in-2016', 'read-in-2015', 'wish-list', 'read-in-2014', 'all-time-favorites', 'books-for-school', 'california', 'audiobook', 'audiobooks', 'lit', 'rory-gilmore-challenge', 'own-it', 'america', 'ebook', 'borrowed', 'novellas', 'classics-read', 'favorite', 'reread', 'childhood', 'nobel', 'americana', '4-stars', '1001-books-you-must-read-before-you', 'to-reread', 'ya', 'read-again', 'to-read-again', 'John Steinbeck', 'Of Mice and Men ', 'Of Mice and Men', 'eng', 1937.0]  ----  1\n",
      "  ['currently-reading', 'fiction', 'favorites', 'classics', 'fantasy', 'philosophy', 'owned', 'books-i-own', 'book-club', 'novels', 'spirituality', 'paulo-coelho', 'inspirational', 'literature', 'novel', 'spiritual', 'adventure', 'classic', 'favourites', 'owned-books', 'contemporary', 'self-help', 'روايات', 'magical-realism', 'adult', 'to-buy', 'adult-fiction', 'my-books', 'historical-fiction', 'library', 'general-fiction', 'clàssics', 'audiobook', 'my-library', 'favorite', 'default', 'audiobooks', 'kindle', 'religion', 'contemporary-fiction', 'school', 'bookclub', 'literary-fiction', 're-read', 'english', 'books', 'travel', 'finished', 'i-own', 'philosophical', 'borrowed', 'all-time-favorites', 'ebook', 'favorite-books', 'young-adult', 'abandoned', 'shelfari-favorites', 'read-in-2016', 'own-it', 'read-in-2015', 'audio', 'drama', 'inspiring', 'translated', '20th-century', 'to-read-fiction', 'read-in-2014', 'ebooks', 'inspiration', 'wish-list', 'favourite', 'coelho', 'must-read', 'africa', 'brazilian', 'my-favorites', 'book-club-books', 'read-in-2017', 'other', 'literary', 'non-fiction', 'personal-development', 'modern-classics', 'the-alchemist', 'self-improvement', 'to-re-read', 'unfinished', 'latin-american', 'fable', 'recommended', 'brazil', 'romance', 'for-school', 'book-group', 'modern-fiction', 'motivational', 'spain', 'life', 'read-in-2013', 'Paulo Coelho, Alan R. Clarke', 'O Alquimista', 'The Alchemist', 'eng', 1988.0]  ----  1\n",
      "  ['currently-reading', 'science-fiction', 'favorites', 'sci-fi', 'fiction', 'humor', 'fantasy', 'classics', 'scifi', 'owned', 'comedy', 'humour', 'books-i-own', 'sci-fi-fantasy', 'series', 'favourites', 'funny', 'adventure', 'audiobook', 'sf', 'classic', 'fantasy-sci-fi', 'novels', 'audiobooks', 'adult', 'scifi-fantasy', 'owned-books', 'to-buy', '1001-books', 'british', 'library', 'book-club', 're-read', 'default', 'audio', 'douglas-adams', 'young-adult', 'science-fiction-fantasy', 'space', 'english', 'kindle', 'adult-fiction', 'aliens', 'satire', 'ebook', 'books', '1001', 'novel', 'literature', 'science', 'fun', 'all-time-favorites', 'sci-fi-and-fantasy', 'speculative-fiction', '20th-century', 'fantasy-scifi', 'audio-books', 'humorous', 'my-library', 'favorite', 'abandoned', 'my-books', 'read-in-2014', '1001-books-to-read-before-you-die', 'wish-list', 'read-in-2015', 'audible', 'ebooks', 'i-own', 'favorite-books', 'to-re-read', 'read-in-2013', '5-stars', 'ya', 'contemporary', 'audio-book', 'sf-fantasy', 'fantascienza', 'read-in-2016', 'own-it', 'reread', 'read-in-english', 'modern-classics', 'must-read', 'british-literature', 'faves', 'unfinished', 'to-reread', 'read-more-than-once', 'recommended', 'borrowed', 'did-not-finish', 'science-fiction-and-fantasy', 'hilarious', 'to-read-fiction', 'séries', 'shelfari-favorites', 'dnf', '1970s', 'Douglas Adams', \"The Hitchhiker's Guide to the Galaxy\", \"The Hitchhiker's Guide to the Galaxy (Hitchhiker's Guide to the Galaxy, #1)\", 'en-US', 1979.0]  ----  1\n",
      "  ['nonfiction', 'science', 'currently-reading', 'non-fiction', 'psychology', 'owned', 'sociology', 'books-i-own', 'economics', 'politics', 'audiobook', 'finance', 'book-club', 'audiobooks', 'library', 'audio', 'social-science', 'default', 'economy', 'kindle', 'culture', 'business', 'to-buy', 'behavioral-economics', 'adult', 'owned-books', 'favorites', 'philosophy', 'non-fic', 'statistics', 'to-read-non-fiction', 'society', 'ebook', 'history', 'political', 'econ', 'essays', 'english', 'business-books', 'business-economics', 'my-library', 'to-read-nonfiction', 'social', 'my-books', 'other', 'general', 'abandoned', 'education', 'ebooks', 'audio-book', 'educational', 'social-sciences', 'school', '2006', 'unfinished', 'non-fiction-to-read', 'american', 'wish-list', 'audible', 'audio-books', 'self-help', 'mathematics', 'behavioral', 'favourites', 'borrowed', 'pop-science', 'shelfari-favorites', 'reference', 'nonfic', 'bookclub', 'general-non-fiction', 'management', 'popular', 'finished', 'social-commentary', 'humor', 'academic', 'interesting', 'i-own', '21st-century', 'misc', 'series', 'own-it', 'contemporary', 'adult-nonfiction', 'thought-provoking', 'current-events', 'fiction', 'economic', 'read-in-2014', 'home-library', 'recommended', 'money', 'read-non-fiction', 'adult-non-fiction', 'other-non-fiction', 'current-affairs', 'economics-business', 'finance-economics', 'Steven D. Levitt, Stephen J. Dubner', 'Freakonomics: A Rogue Economist Explores the Hidden Side of Everything', 'Freakonomics: A Rogue Economist Explores the Hidden Side of Everything (Freakonomics, #1)', 'en-US', 2005.0]  ----  1\n",
      "  ['classics', 'owned', 'literature', 'classic', 'novels', 'books-i-own', 'favourites', 'latin-america', 'novel', 'spanish', 'owned-books', 'book-club', 'to-buy', 'currently-reading', '1001-books', 'abandoned', 'magic-realism', 'latin-american', 'favorites', 'literary-fiction', 'default', 'fiction', 'library', 'my-library', 'colombia', '20th-century', '1001', 'روايات', 'did-not-finish', 'south-america', 'latin-american-literature', 'adult-fiction', 'all-time-favorites', 'classics-to-read', 'my-books', 'nobel-prize', 'adult', 'contemporary', 'translated', 'nobel', 'literary', 'wish-list', 'rory-gilmore-reading-challenge', 'didn-t-finish', 'to-read-fiction', 'historical', 'favorite-books', 'to-re-read', 'español', 'i-own', 'general-fiction', 'never-finished', 'spanish-literature', '1001-books-to-read-before-you-die', 'favoritos', 'gabriel-garcia-marquez', 'classic-literature', 'to-read-classics', 'contemporary-fiction', 'must-read', 'gave-up-on', 'couldn-t-finish', 'school', 'dnf', 'romance', 'shelfari-favorites', 'own-it', 'lit', 'kindle', 'south-american', 'drama', 'translation', 'world-literature', 'on-hold', 'audiobook', 'bookclub', 'favourite', 'to-reread', 'colombian', 'rory-gilmore-challenge', 'marquez', 'books', 'classic-fiction', 'magical-realism', 'family', '1960s', 'audiobooks', 'fiction-to-read', 'oprah-s-book-club', 'latin', '1001-books-you-must-read-before-you', 'have', 'ebook', 'rory-gilmore', 'gave-up', 'not-finished', 'oprah', 'to-read-again', 'home-library', 'Gabriel García Márquez, Gregory Rabassa', 'Cien años de soledad', 'One Hundred Years of Solitude', 'eng', 1967.0]  ----  1\n",
      "  ['fantasy', 'currently-reading', 'favorites', 'classics', 'fiction', 'owned', 'books-i-own', 'favourites', 'classic', 'tolkien', 'adventure', 'sci-fi-fantasy', 'default', 'series', 'owned-books', 'epic-fantasy', 'literature', 'high-fantasy', 'fantasy-sci-fi', 'novels', 'young-adult', 'all-time-favorites', 'epic', '1001-books', 'my-books', 're-read', 'scifi-fantasy', 'my-library', 'favorite-books', 'magic', 'library', 'british', 'sci-fi', 'science-fiction-fantasy', 'favorite', 'j-r-r-tolkien', 'kindle', 'fantasy-scifi', 'science-fiction', 'english', 'to-buy', 'shelfari-favorites', '1001', 'i-own', 'novel', 'books', 'middle-earth', 'adult', '20th-century', 'childhood', 'own-it', 'sci-fi-and-fantasy', 'classic-literature', 'lord-of-the-rings', 'to-re-read', 'fantasy-fiction', '5-stars', 'adult-fiction', 'fantasia', 'favourite', 'all-time-favourites', '1001-books-to-read-before-you-die', 'faves', 'read-more-than-once', 'my-favorites', 'finished', 'abandoned', 'ebook', 'british-literature', 'ebooks', 'favourite-books', 'on-hold', 'unfinished', 'home-library', 'fiction-fantasy', 'fantasy-science-fiction', 'ya', 'sf-fantasy', 'reread', 'to-reread', 'english-literature', 'must-read', 'speculative-fiction', 'fantasy-and-sci-fi', 'mythology', 'movies', 'have', 'audiobooks', 'modern-classics', 'war', 're-reading', 'jrr-tolkien', 'my-bookshelf', 'bookshelf', 'wish-list', 'paperback', 'gave-up-on', 're-reads', '1001-books-you-must-read-before-you', 'J.R.R. Tolkien', 'The Lord of the Rings', 'The Lord of the Rings (The Lord of the Rings, #1-3)', 'eng', 1955.0]  ----  1\n",
      "  ['currently-reading', 'favorites', 'science-fiction', 'sci-fi', 'fiction', 'humor', 'fantasy', 'owned', 'classics', 'scifi', 'books-i-own', 'comedy', 'sci-fi-fantasy', 'humour', 'favourites', 'default', 'series', 'funny', 'owned-books', 'sf', 'adventure', 'novels', 'kindle', 'scifi-fantasy', 'fantasy-sci-fi', 'my-books', 'my-library', 'library', 'to-buy', 'classic', 'douglas-adams', 'english', 'science', 'british', 'all-time-favorites', 'science-fiction-fantasy', 'literature', 'space', 're-read', 'i-own', 'adult', 'shelfari-favorites', 'speculative-fiction', 'ebook', 'fantasy-scifi', 'satire', 'on-hold', 'sci-fi-and-fantasy', 'unfinished', 'abandoned', 'books', 'novel', 'ebooks', 'aliens', 'favorite', 'young-adult', 'favorite-books', 'own-it', 'adult-fiction', '1001-books', 'humorous', 'have', 'sff', 'fun', 'to-re-read', '20th-century', 'contemporary', 'collection', 'time-travel', 'home-library', 'bookshelf', 'sf-fantasy', 'personal-library', 'hardcover', 'on-my-shelf', 'to-reread', 'faves', 'recommended', 'wish-list', 'anthology', 'science-fiction-and-fantasy', '1001', 'sciencefiction', 'hilarious', 'e-book', 'e-books', 'space-opera', 'omnibus', 'collections', '5-stars', 'audiobooks', 'my-favorites', 'all-time-favourites', 'my-bookshelf', 'philosophy', 'did-not-finish', 'partially-read', 'nook', 'calibre', 'Douglas Adams', \"The Ultimate Hitchhiker's Guide: Five Complete Novels and One Story\", \"The Ultimate Hitchhiker's Guide to the Galaxy\", 'eng', 1996.0]  ----  1\n",
      "  ['science-fiction', 'sci-fi', 'currently-reading', 'fiction', 'favorites', 'classics', 'scifi', 'sci-fi-fantasy', 'owned', 'fantasy', 'sf', 'classic', 'scifi-fantasy', 'default', 'books-i-own', 'science-fiction-fantasy', 'novels', 'philosophy', 'speculative-fiction', 'audiobook', 'fantasy-sci-fi', '1001-books', 'science', 'library', 'religion', 'abandoned', '1001', 'to-buy', 'hugo', 'heinlein', 'literature', 'kindle', 'sci-fi-and-fantasy', 'owned-books', 'american', 'hugo-award', 'book-club', 'hugo-winners', 'novel', 'sf-fantasy', 'audiobooks', 'adult', 'audio', 'ebook', 'aliens', '1001-books-to-read-before-you-die', 'wish-list', 'sff', 'robert-a-heinlein', 'unfinished', 'science-fiction-and-fantasy', 'favourites', 'fantasy-scifi', 'my-library', 'to-read-fiction', 'hugo-award-winners', 'sciencefiction', 'classic-sci-fi', 'did-not-finish', 'ebooks', '20th-century', 'audible', 're-read', 'english', 'books', 'to-re-read', 'robert-heinlein', '1960s', 'all-time-favorites', 'shelfari-favorites', 'didn-t-finish', 'fantascienza', 'to-read-sci-fi', 'sci-fi-to-read', 'dystopia', 'dnf', 'mars', 'favorite', '1001-import', 'sf-f', 'my-books', 'adult-fiction', '1001-books-to-read', 'own-it', 'dystopian', 'i-own', 'recommended', 'gave-up-on', 'audio-books', '1001-books-you-must-read-before-you', 'maybe', 'american-literature', 'audio-book', 'classic-literature', 'on-hold', 'gave-up', 'favorite-books', 'hugo-winner', 'classic-scifi', 'Robert A. Heinlein', 'Stranger in a Strange Land', 'Stranger in a Strange Land', 'eng', 1961.0]  ----  1\n",
      "  ['currently-reading', 'history', 'nonfiction', 'favorites', 'non-fiction', 'science', 'owned', 'audiobook', 'humor', 'books-i-own', 'audiobooks', 'to-buy', 'default', 'popular-science', 'physics', 'kindle', 'library', 'audio', 'owned-books', 'favourites', 'historical', 'philosophy', 'to-read-non-fiction', 'reference', 'abandoned', 'humour', 'unfinished', 'ebook', 'audible', 'english', 'biology', 'audio-books', 'my-books', 'to-read-nonfiction', 'wish-list', 'ebooks', 'my-library', 'audio-book', 'travel', 'non-fiction-to-read', 'non-fic', 'nature', 'astronomy', 'on-hold', 'evolution', 'educational', 'adult', 'i-own', 'did-not-finish', 'funny', 'natural-history', 'history-of-science', 'book-club', 'didn-t-finish', 'own-it', 'essays', 'fiction', 'shelfari-favorites', 'general', 'other', 'anthropology', 'popular', 'science-nature', 'geology', 'general-science', 'world-history', 'must-read', 'education', 'american', 'read-in-2014', 'nonfic', '21st-century', 'never-finished', 'bryson', 'pop-science', 'maybe', 'cosmology', 'ciencia', 're-read', 'all-time-favorites', 'nonfiction-to-read', 'chemistry', 'read-in-2016', 'have', 'recommended', 'own-to-read', 'science-history', 'read-in-2015', 'want', 'couldn-t-finish', 'owned-to-read', 'non-fiction-science', 'favorite', 'bookshelf', '2000s', 'gave-up-on', 'learning', 'space', 'scientific', 'Bill Bryson', 'A Short History of Nearly Everything', 'A Short History of Nearly Everything', 'en-US', 2003.0]  ----  1\n",
      "  ['currently-reading', 'science-fiction', 'sci-fi', 'fiction', 'favorites', 'cyberpunk', 'scifi', 'owned', 'sf', 'sci-fi-fantasy', 'dystopia', 'fantasy', 'dystopian', 'speculative-fiction', 'audiobook', 'scifi-fantasy', 'kindle', 'novels', 'default', 'audiobooks', 'books-i-own', 'abandoned', 'science', 'library', 'fantasy-sci-fi', 'ebook', 'favourites', 'to-buy', 'cyber-punk', 'classics', 'book-club', 'audio', 'audible', 'thriller', 'science-fiction-fantasy', 'novel', 'ebooks', 'sff', 'neal-stephenson', 'adventure', 'american', 'sci-fi-and-fantasy', 'wish-list', 'did-not-finish', 'to-read-fiction', 'sf-fantasy', 'books', 'unfinished', 're-read', 'all-time-favorites', 'literature', 'speculative', 'maybe', 'humor', 'time-100', 'mystery', 'sciencefiction', 'fantasy-scifi', 'religion', 'technology', '1990s', 'owned-books', 'recommended', 'tech', 'gave-up-on', 'adult', '20th-century', 'english', 'dnf', 'fun', 'favorite', 'science-fiction-and-fantasy', 'virtual-reality', 'sf-f', 'audio-book', 'on-hold', 'to-read-sci-fi', 'e-book', 'general', 'to-read-scifi', 'my-books', 'borrowed', 'have', 'future', 'adult-fiction', 'contemporary', 'audio-books', 'bookclub', 'to-reread', 'reread', 'classic', 'didn-t-finish', 'fantascienza', 'read-in-2012', 'mythology', 'dropped', 'read-in-2015', 'read-in-2013', 'calibre', 'Neal Stephenson', 'Snow Crash', 'Snow Crash', 'eng', 1992.0]  ----  1\n"
     ]
    }
   ],
   "source": [
    "print_top_tags_for_user(df_books, old_id)"
   ]
  },
  {
   "cell_type": "code",
   "execution_count": null,
   "id": "91995e20",
   "metadata": {},
   "outputs": [
    {
     "name": "stdout",
     "output_type": "stream",
     "text": [
      "Error: The provided book_ids belong to multiple clusters: [ 9  4  0  7  1  2 13 12  5]\n"
     ]
    }
   ],
   "source": [
    "print_top_tags_for_user(df_books, rec_id)"
   ]
  }
 ],
 "metadata": {
  "kernelspec": {
   "display_name": "Python 3",
   "language": "python",
   "name": "python3"
  },
  "language_info": {
   "codemirror_mode": {
    "name": "ipython",
    "version": 3
   },
   "file_extension": ".py",
   "mimetype": "text/x-python",
   "name": "python",
   "nbconvert_exporter": "python",
   "pygments_lexer": "ipython3",
   "version": "3.11.9"
  }
 },
 "nbformat": 4,
 "nbformat_minor": 5
}
