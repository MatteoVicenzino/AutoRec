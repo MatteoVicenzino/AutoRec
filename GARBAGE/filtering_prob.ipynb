{
 "cells": [
  {
   "cell_type": "markdown",
   "id": "9875cb0e",
   "metadata": {},
   "source": [
    "# Filtering and encoding users preferences\n",
    "\n",
    "to avoid encoding a single user's preference in a sparse vector of 10000 elements, we save only the preferences of the 3 most rated clusters"
   ]
  },
  {
   "cell_type": "markdown",
   "id": "8fb73053",
   "metadata": {},
   "source": [
    "## campionamento pesato"
   ]
  },
  {
   "cell_type": "code",
   "execution_count": null,
   "id": "87310071",
   "metadata": {},
   "outputs": [],
   "source": [
    "import numpy as np\n",
    "import pandas as pd\n",
    "import matplotlib.pyplot as plt\n",
    "from collections import Counter"
   ]
  },
  {
   "cell_type": "code",
   "execution_count": null,
   "id": "5aa1c735",
   "metadata": {},
   "outputs": [],
   "source": [
    "df_books = pd.read_csv(\"books_autorec.csv\")\n",
    "df_ratings = pd.read_csv(\"ratings_autorec.csv\")"
   ]
  },
  {
   "cell_type": "markdown",
   "id": "edadaeb0",
   "metadata": {},
   "source": [
    "Create a dictionary to serch user's ratings by user id"
   ]
  },
  {
   "cell_type": "code",
   "execution_count": null,
   "id": "201e66be",
   "metadata": {},
   "outputs": [],
   "source": [
    "# merge to add cluster in ratings\n",
    "df_ratings_with_clusters = df_ratings.merge(\n",
    "    df_books[['goodreads_book_id', 'cluster']], \n",
    "    left_on='book_id', \n",
    "    right_on='goodreads_book_id', \n",
    "    how='left'\n",
    ")\n",
    "\n",
    "# create dictionary with user and ratings\n",
    "sparse_users = {}\n",
    "for user_id, group in df_ratings_with_clusters.groupby('user_id'):\n",
    "    books_ratings_clusters = group[['book_id', 'rating', 'cluster']].values.tolist()\n",
    "    sparse_users[user_id] = books_ratings_clusters"
   ]
  },
  {
   "cell_type": "code",
   "execution_count": null,
   "id": "4b2bcc7b",
   "metadata": {},
   "outputs": [],
   "source": [
    "sparse_users[88][:20]  # Display first 20 ratings for user 88"
   ]
  },
  {
   "cell_type": "code",
   "execution_count": null,
   "id": "6be845f1",
   "metadata": {},
   "outputs": [],
   "source": [
    "cluster_sizes = df_books['cluster'].value_counts().sort_index().values\n",
    "print(cluster_sizes)"
   ]
  },
  {
   "cell_type": "code",
   "execution_count": null,
   "id": "0245eede",
   "metadata": {},
   "outputs": [],
   "source": [
    "def find_clusters_ratio(user):\n",
    "    # list of clusters for a user\n",
    "    list_of_clusters = []\n",
    "    for book_id, rating, cluster in sparse_users[user]:\n",
    "        list_of_clusters.append(cluster)\n",
    "    \n",
    "    # calculate ratio of ratings per cluster for this user\n",
    "    cluster_rating_counts = Counter(list_of_clusters)\n",
    "    total_user_ratings = len(list_of_clusters)  # total number of ratings\n",
    "    \n",
    "    cluster_ratios = {}\n",
    "    for cluster, count in cluster_rating_counts.items():\n",
    "        # percentage of ratings in this cluster\n",
    "        ratio = count / total_user_ratings\n",
    "        cluster_ratios[cluster] = (ratio, count)  # tuple with (ratio, count)\n",
    "    \n",
    "    # sort clusters by ratio descending, with cluster, ratio and count\n",
    "    list_of_clusters = [[cluster, ratio, count] for cluster, (ratio, count) in sorted(cluster_ratios.items(), key=lambda x: x[1][0], reverse=True)]\n",
    "    return list_of_clusters"
   ]
  },
  {
   "cell_type": "code",
   "execution_count": null,
   "id": "edf10b7d",
   "metadata": {},
   "outputs": [],
   "source": [
    "e88 = find_clusters_ratio(88)"
   ]
  },
  {
   "cell_type": "code",
   "execution_count": null,
   "id": "0d061113",
   "metadata": {},
   "outputs": [],
   "source": [
    "def sample_from_cluster(n, cluster, embedding):\n",
    "    \n",
    "    all_books = df_books[df_books['cluster'] == cluster]\n",
    "    count = 0\n",
    "    while count < n:\n",
    "        book = all_books.sample(1).iloc[0]\n",
    "        if book['goodreads_book_id'] not in [x[0] for x in embedding]:\n",
    "            embedding.append([book['goodreads_book_id'], 0])\n",
    "            count += 1\n",
    "    return embedding"
   ]
  },
  {
   "cell_type": "code",
   "execution_count": null,
   "id": "35747fa4",
   "metadata": {},
   "outputs": [],
   "source": [
    "def embed(user):\n",
    "    embedding = []\n",
    "    user_clusters = find_clusters_ratio(user)\n",
    "    \n",
    "    for book_id, rating, cluster in sparse_users[user]:\n",
    "        embedding.append([book_id, rating])\n",
    "    \n",
    "    tot_to_sample = 300 - len(embedding)\n",
    "    \n",
    "    for cluster, ratio, _ in user_clusters:\n",
    "        n = int(tot_to_sample * ratio)\n",
    "        sample_from_cluster(n, cluster, embedding)\n",
    "        \n",
    "    while len(embedding) < 300:\n",
    "        sample_from_cluster(1, user_clusters[0][0], embedding)\n",
    "    \n",
    "    return embedding"
   ]
  },
  {
   "cell_type": "code",
   "execution_count": null,
   "id": "79823349",
   "metadata": {},
   "outputs": [],
   "source": [
    "em88 = embed(88)\n",
    "print(len(em88))\n",
    "print(em88)"
   ]
  }
 ],
 "metadata": {
  "kernelspec": {
   "display_name": "venv",
   "language": "python",
   "name": "python3"
  },
  "language_info": {
   "codemirror_mode": {
    "name": "ipython",
    "version": 3
   },
   "file_extension": ".py",
   "mimetype": "text/x-python",
   "name": "python",
   "nbconvert_exporter": "python",
   "pygments_lexer": "ipython3",
   "version": "3.9.20"
  }
 },
 "nbformat": 4,
 "nbformat_minor": 5
}
