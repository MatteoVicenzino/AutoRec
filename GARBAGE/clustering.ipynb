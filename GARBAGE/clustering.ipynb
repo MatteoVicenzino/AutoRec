{
 "cells": [
  {
   "cell_type": "markdown",
   "id": "a83ae96cd558b1cf",
   "metadata": {},
   "source": [
    "# Data Pretreatment"
   ]
  },
  {
   "cell_type": "code",
   "execution_count": 3,
   "id": "c97874cd3ce98d9e",
   "metadata": {
    "ExecuteTime": {
     "end_time": "2025-06-17T09:39:57.103808Z",
     "start_time": "2025-06-17T09:39:57.100598Z"
    }
   },
   "outputs": [],
   "source": [
    "import numpy as np\n",
    "import pandas as pd\n",
    "import matplotlib.pyplot as plt"
   ]
  },
  {
   "cell_type": "markdown",
   "id": "aa2d084bb2440343",
   "metadata": {},
   "source": [
    "Import datasets"
   ]
  },
  {
   "cell_type": "code",
   "execution_count": 4,
   "id": "7c9c4329ad3ac522",
   "metadata": {
    "ExecuteTime": {
     "end_time": "2025-06-17T09:39:58.395623Z",
     "start_time": "2025-06-17T09:39:57.133231Z"
    }
   },
   "outputs": [],
   "source": [
    "df_books = pd.read_csv(\"books.csv\")\n",
    "df_booktags = pd.read_csv(\"book_tags.csv\")\n",
    "df_tags = pd.read_csv(\"tags.csv\")\n",
    "df_ratings = pd.read_csv(\"ratings.csv\")"
   ]
  },
  {
   "cell_type": "markdown",
   "id": "46f2b5f6a8d4fdf3",
   "metadata": {},
   "source": [
    "### 1. ratings\n",
    "Overwritten the books_id with goodread_books_id in ratings.csv for merging purposes with book_tags.csv"
   ]
  },
  {
   "cell_type": "code",
   "execution_count": 5,
   "id": "7a31f6e8547deda3",
   "metadata": {
    "ExecuteTime": {
     "end_time": "2025-06-17T09:39:58.523318Z",
     "start_time": "2025-06-17T09:39:58.415271Z"
    }
   },
   "outputs": [
    {
     "data": {
      "text/html": [
       "<div>\n",
       "<style scoped>\n",
       "    .dataframe tbody tr th:only-of-type {\n",
       "        vertical-align: middle;\n",
       "    }\n",
       "\n",
       "    .dataframe tbody tr th {\n",
       "        vertical-align: top;\n",
       "    }\n",
       "\n",
       "    .dataframe thead th {\n",
       "        text-align: right;\n",
       "    }\n",
       "</style>\n",
       "<table border=\"1\" class=\"dataframe\">\n",
       "  <thead>\n",
       "    <tr style=\"text-align: right;\">\n",
       "      <th></th>\n",
       "      <th>user_id</th>\n",
       "      <th>book_id</th>\n",
       "      <th>rating</th>\n",
       "    </tr>\n",
       "  </thead>\n",
       "  <tbody>\n",
       "    <tr>\n",
       "      <th>0</th>\n",
       "      <td>1</td>\n",
       "      <td>1232</td>\n",
       "      <td>5</td>\n",
       "    </tr>\n",
       "    <tr>\n",
       "      <th>1</th>\n",
       "      <td>2</td>\n",
       "      <td>231</td>\n",
       "      <td>4</td>\n",
       "    </tr>\n",
       "    <tr>\n",
       "      <th>2</th>\n",
       "      <td>2</td>\n",
       "      <td>4865</td>\n",
       "      <td>5</td>\n",
       "    </tr>\n",
       "    <tr>\n",
       "      <th>3</th>\n",
       "      <td>2</td>\n",
       "      <td>4887</td>\n",
       "      <td>5</td>\n",
       "    </tr>\n",
       "    <tr>\n",
       "      <th>4</th>\n",
       "      <td>2</td>\n",
       "      <td>998</td>\n",
       "      <td>3</td>\n",
       "    </tr>\n",
       "  </tbody>\n",
       "</table>\n",
       "</div>"
      ],
      "text/plain": [
       "   user_id  book_id  rating\n",
       "0        1     1232       5\n",
       "1        2      231       4\n",
       "2        2     4865       5\n",
       "3        2     4887       5\n",
       "4        2      998       3"
      ]
     },
     "execution_count": 5,
     "metadata": {},
     "output_type": "execute_result"
    }
   ],
   "source": [
    "book_id_map = df_books.set_index(\"book_id\")[\"goodreads_book_id\"].to_dict()\n",
    "df_ratings[\"book_id\"] = df_ratings[\"book_id\"].map(book_id_map)\n",
    "df_ratings.head()"
   ]
  },
  {
   "cell_type": "code",
   "execution_count": 6,
   "id": "db4d4b854932eedd",
   "metadata": {
    "ExecuteTime": {
     "end_time": "2025-06-17T09:39:58.575265Z",
     "start_time": "2025-06-17T09:39:58.571940Z"
    }
   },
   "outputs": [],
   "source": [
    "#df_ratings.to_csv(\"ratings_autorec.csv\", index=False)"
   ]
  },
  {
   "cell_type": "markdown",
   "id": "fa949dd8f04d4ae0",
   "metadata": {},
   "source": [
    "### 2.books"
   ]
  },
  {
   "cell_type": "code",
   "execution_count": 7,
   "id": "81406be11abb616e",
   "metadata": {
    "ExecuteTime": {
     "end_time": "2025-06-17T09:39:58.639680Z",
     "start_time": "2025-06-17T09:39:58.626778Z"
    }
   },
   "outputs": [
    {
     "data": {
      "text/html": [
       "<div>\n",
       "<style scoped>\n",
       "    .dataframe tbody tr th:only-of-type {\n",
       "        vertical-align: middle;\n",
       "    }\n",
       "\n",
       "    .dataframe tbody tr th {\n",
       "        vertical-align: top;\n",
       "    }\n",
       "\n",
       "    .dataframe thead th {\n",
       "        text-align: right;\n",
       "    }\n",
       "</style>\n",
       "<table border=\"1\" class=\"dataframe\">\n",
       "  <thead>\n",
       "    <tr style=\"text-align: right;\">\n",
       "      <th></th>\n",
       "      <th>book_id</th>\n",
       "      <th>goodreads_book_id</th>\n",
       "      <th>best_book_id</th>\n",
       "      <th>work_id</th>\n",
       "      <th>books_count</th>\n",
       "      <th>isbn</th>\n",
       "      <th>isbn13</th>\n",
       "      <th>authors</th>\n",
       "      <th>original_publication_year</th>\n",
       "      <th>original_title</th>\n",
       "      <th>...</th>\n",
       "      <th>ratings_count</th>\n",
       "      <th>work_ratings_count</th>\n",
       "      <th>work_text_reviews_count</th>\n",
       "      <th>ratings_1</th>\n",
       "      <th>ratings_2</th>\n",
       "      <th>ratings_3</th>\n",
       "      <th>ratings_4</th>\n",
       "      <th>ratings_5</th>\n",
       "      <th>image_url</th>\n",
       "      <th>small_image_url</th>\n",
       "    </tr>\n",
       "  </thead>\n",
       "  <tbody>\n",
       "    <tr>\n",
       "      <th>0</th>\n",
       "      <td>1</td>\n",
       "      <td>2767052</td>\n",
       "      <td>2767052</td>\n",
       "      <td>2792775</td>\n",
       "      <td>272</td>\n",
       "      <td>439023483</td>\n",
       "      <td>9.780439e+12</td>\n",
       "      <td>Suzanne Collins</td>\n",
       "      <td>2008.0</td>\n",
       "      <td>The Hunger Games</td>\n",
       "      <td>...</td>\n",
       "      <td>4780653</td>\n",
       "      <td>4942365</td>\n",
       "      <td>155254</td>\n",
       "      <td>66715</td>\n",
       "      <td>127936</td>\n",
       "      <td>560092</td>\n",
       "      <td>1481305</td>\n",
       "      <td>2706317</td>\n",
       "      <td>https://images.gr-assets.com/books/1447303603m...</td>\n",
       "      <td>https://images.gr-assets.com/books/1447303603s...</td>\n",
       "    </tr>\n",
       "    <tr>\n",
       "      <th>1</th>\n",
       "      <td>2</td>\n",
       "      <td>3</td>\n",
       "      <td>3</td>\n",
       "      <td>4640799</td>\n",
       "      <td>491</td>\n",
       "      <td>439554934</td>\n",
       "      <td>9.780440e+12</td>\n",
       "      <td>J.K. Rowling, Mary GrandPré</td>\n",
       "      <td>1997.0</td>\n",
       "      <td>Harry Potter and the Philosopher's Stone</td>\n",
       "      <td>...</td>\n",
       "      <td>4602479</td>\n",
       "      <td>4800065</td>\n",
       "      <td>75867</td>\n",
       "      <td>75504</td>\n",
       "      <td>101676</td>\n",
       "      <td>455024</td>\n",
       "      <td>1156318</td>\n",
       "      <td>3011543</td>\n",
       "      <td>https://images.gr-assets.com/books/1474154022m...</td>\n",
       "      <td>https://images.gr-assets.com/books/1474154022s...</td>\n",
       "    </tr>\n",
       "    <tr>\n",
       "      <th>2</th>\n",
       "      <td>3</td>\n",
       "      <td>41865</td>\n",
       "      <td>41865</td>\n",
       "      <td>3212258</td>\n",
       "      <td>226</td>\n",
       "      <td>316015849</td>\n",
       "      <td>9.780316e+12</td>\n",
       "      <td>Stephenie Meyer</td>\n",
       "      <td>2005.0</td>\n",
       "      <td>Twilight</td>\n",
       "      <td>...</td>\n",
       "      <td>3866839</td>\n",
       "      <td>3916824</td>\n",
       "      <td>95009</td>\n",
       "      <td>456191</td>\n",
       "      <td>436802</td>\n",
       "      <td>793319</td>\n",
       "      <td>875073</td>\n",
       "      <td>1355439</td>\n",
       "      <td>https://images.gr-assets.com/books/1361039443m...</td>\n",
       "      <td>https://images.gr-assets.com/books/1361039443s...</td>\n",
       "    </tr>\n",
       "    <tr>\n",
       "      <th>3</th>\n",
       "      <td>4</td>\n",
       "      <td>2657</td>\n",
       "      <td>2657</td>\n",
       "      <td>3275794</td>\n",
       "      <td>487</td>\n",
       "      <td>61120081</td>\n",
       "      <td>9.780061e+12</td>\n",
       "      <td>Harper Lee</td>\n",
       "      <td>1960.0</td>\n",
       "      <td>To Kill a Mockingbird</td>\n",
       "      <td>...</td>\n",
       "      <td>3198671</td>\n",
       "      <td>3340896</td>\n",
       "      <td>72586</td>\n",
       "      <td>60427</td>\n",
       "      <td>117415</td>\n",
       "      <td>446835</td>\n",
       "      <td>1001952</td>\n",
       "      <td>1714267</td>\n",
       "      <td>https://images.gr-assets.com/books/1361975680m...</td>\n",
       "      <td>https://images.gr-assets.com/books/1361975680s...</td>\n",
       "    </tr>\n",
       "    <tr>\n",
       "      <th>4</th>\n",
       "      <td>5</td>\n",
       "      <td>4671</td>\n",
       "      <td>4671</td>\n",
       "      <td>245494</td>\n",
       "      <td>1356</td>\n",
       "      <td>743273567</td>\n",
       "      <td>9.780743e+12</td>\n",
       "      <td>F. Scott Fitzgerald</td>\n",
       "      <td>1925.0</td>\n",
       "      <td>The Great Gatsby</td>\n",
       "      <td>...</td>\n",
       "      <td>2683664</td>\n",
       "      <td>2773745</td>\n",
       "      <td>51992</td>\n",
       "      <td>86236</td>\n",
       "      <td>197621</td>\n",
       "      <td>606158</td>\n",
       "      <td>936012</td>\n",
       "      <td>947718</td>\n",
       "      <td>https://images.gr-assets.com/books/1490528560m...</td>\n",
       "      <td>https://images.gr-assets.com/books/1490528560s...</td>\n",
       "    </tr>\n",
       "  </tbody>\n",
       "</table>\n",
       "<p>5 rows × 23 columns</p>\n",
       "</div>"
      ],
      "text/plain": [
       "   book_id  goodreads_book_id  best_book_id  work_id  books_count       isbn  \\\n",
       "0        1            2767052       2767052  2792775          272  439023483   \n",
       "1        2                  3             3  4640799          491  439554934   \n",
       "2        3              41865         41865  3212258          226  316015849   \n",
       "3        4               2657          2657  3275794          487   61120081   \n",
       "4        5               4671          4671   245494         1356  743273567   \n",
       "\n",
       "         isbn13                      authors  original_publication_year  \\\n",
       "0  9.780439e+12              Suzanne Collins                     2008.0   \n",
       "1  9.780440e+12  J.K. Rowling, Mary GrandPré                     1997.0   \n",
       "2  9.780316e+12              Stephenie Meyer                     2005.0   \n",
       "3  9.780061e+12                   Harper Lee                     1960.0   \n",
       "4  9.780743e+12          F. Scott Fitzgerald                     1925.0   \n",
       "\n",
       "                             original_title  ... ratings_count  \\\n",
       "0                          The Hunger Games  ...       4780653   \n",
       "1  Harry Potter and the Philosopher's Stone  ...       4602479   \n",
       "2                                  Twilight  ...       3866839   \n",
       "3                     To Kill a Mockingbird  ...       3198671   \n",
       "4                          The Great Gatsby  ...       2683664   \n",
       "\n",
       "  work_ratings_count  work_text_reviews_count  ratings_1  ratings_2  \\\n",
       "0            4942365                   155254      66715     127936   \n",
       "1            4800065                    75867      75504     101676   \n",
       "2            3916824                    95009     456191     436802   \n",
       "3            3340896                    72586      60427     117415   \n",
       "4            2773745                    51992      86236     197621   \n",
       "\n",
       "   ratings_3  ratings_4  ratings_5  \\\n",
       "0     560092    1481305    2706317   \n",
       "1     455024    1156318    3011543   \n",
       "2     793319     875073    1355439   \n",
       "3     446835    1001952    1714267   \n",
       "4     606158     936012     947718   \n",
       "\n",
       "                                           image_url  \\\n",
       "0  https://images.gr-assets.com/books/1447303603m...   \n",
       "1  https://images.gr-assets.com/books/1474154022m...   \n",
       "2  https://images.gr-assets.com/books/1361039443m...   \n",
       "3  https://images.gr-assets.com/books/1361975680m...   \n",
       "4  https://images.gr-assets.com/books/1490528560m...   \n",
       "\n",
       "                                     small_image_url  \n",
       "0  https://images.gr-assets.com/books/1447303603s...  \n",
       "1  https://images.gr-assets.com/books/1474154022s...  \n",
       "2  https://images.gr-assets.com/books/1361039443s...  \n",
       "3  https://images.gr-assets.com/books/1361975680s...  \n",
       "4  https://images.gr-assets.com/books/1490528560s...  \n",
       "\n",
       "[5 rows x 23 columns]"
      ]
     },
     "execution_count": 7,
     "metadata": {},
     "output_type": "execute_result"
    }
   ],
   "source": [
    "df_books.head()"
   ]
  },
  {
   "cell_type": "code",
   "execution_count": 8,
   "id": "a7866f141c531b78",
   "metadata": {
    "ExecuteTime": {
     "end_time": "2025-06-17T09:39:58.732839Z",
     "start_time": "2025-06-17T09:39:58.727472Z"
    }
   },
   "outputs": [],
   "source": [
    "df_books = df_books.drop(columns=['book_id', 'best_book_id', 'work_id', 'isbn', 'isbn13', 'image_url', 'small_image_url'], errors='ignore')"
   ]
  },
  {
   "cell_type": "code",
   "execution_count": 9,
   "id": "faf5415f74f2de77",
   "metadata": {
    "ExecuteTime": {
     "end_time": "2025-06-17T09:39:58.816049Z",
     "start_time": "2025-06-17T09:39:58.810405Z"
    }
   },
   "outputs": [
    {
     "name": "stdout",
     "output_type": "stream",
     "text": [
      "goodreads_book_id              int64\n",
      "books_count                    int64\n",
      "authors                       object\n",
      "original_publication_year    float64\n",
      "original_title                object\n",
      "title                         object\n",
      "language_code                 object\n",
      "average_rating               float64\n",
      "ratings_count                  int64\n",
      "work_ratings_count             int64\n",
      "work_text_reviews_count        int64\n",
      "ratings_1                      int64\n",
      "ratings_2                      int64\n",
      "ratings_3                      int64\n",
      "ratings_4                      int64\n",
      "ratings_5                      int64\n",
      "dtype: object\n"
     ]
    }
   ],
   "source": [
    "print(df_books.dtypes)\n",
    "df_books['original_title'] = df_books['original_title'].fillna(df_books['title']) # Fill NaN original titles with titles\n",
    "#print(df_books.isna().sum())\n",
    "#df_books.head()"
   ]
  },
  {
   "cell_type": "markdown",
   "id": "47b7c0a9a4a3a551",
   "metadata": {},
   "source": [
    "added column tag name in booktags"
   ]
  },
  {
   "cell_type": "code",
   "execution_count": 10,
   "id": "7b0c48d16bf22db8",
   "metadata": {
    "ExecuteTime": {
     "end_time": "2025-06-17T09:39:59.008435Z",
     "start_time": "2025-06-17T09:39:58.950670Z"
    }
   },
   "outputs": [
    {
     "data": {
      "text/html": [
       "<div>\n",
       "<style scoped>\n",
       "    .dataframe tbody tr th:only-of-type {\n",
       "        vertical-align: middle;\n",
       "    }\n",
       "\n",
       "    .dataframe tbody tr th {\n",
       "        vertical-align: top;\n",
       "    }\n",
       "\n",
       "    .dataframe thead th {\n",
       "        text-align: right;\n",
       "    }\n",
       "</style>\n",
       "<table border=\"1\" class=\"dataframe\">\n",
       "  <thead>\n",
       "    <tr style=\"text-align: right;\">\n",
       "      <th></th>\n",
       "      <th>goodreads_book_id</th>\n",
       "      <th>tag_id</th>\n",
       "      <th>count</th>\n",
       "      <th>tag_name</th>\n",
       "    </tr>\n",
       "  </thead>\n",
       "  <tbody>\n",
       "    <tr>\n",
       "      <th>0</th>\n",
       "      <td>1</td>\n",
       "      <td>30574</td>\n",
       "      <td>167697</td>\n",
       "      <td>to-read</td>\n",
       "    </tr>\n",
       "    <tr>\n",
       "      <th>1</th>\n",
       "      <td>1</td>\n",
       "      <td>11305</td>\n",
       "      <td>37174</td>\n",
       "      <td>fantasy</td>\n",
       "    </tr>\n",
       "    <tr>\n",
       "      <th>2</th>\n",
       "      <td>1</td>\n",
       "      <td>11557</td>\n",
       "      <td>34173</td>\n",
       "      <td>favorites</td>\n",
       "    </tr>\n",
       "    <tr>\n",
       "      <th>3</th>\n",
       "      <td>1</td>\n",
       "      <td>8717</td>\n",
       "      <td>12986</td>\n",
       "      <td>currently-reading</td>\n",
       "    </tr>\n",
       "    <tr>\n",
       "      <th>4</th>\n",
       "      <td>1</td>\n",
       "      <td>33114</td>\n",
       "      <td>12716</td>\n",
       "      <td>young-adult</td>\n",
       "    </tr>\n",
       "  </tbody>\n",
       "</table>\n",
       "</div>"
      ],
      "text/plain": [
       "   goodreads_book_id  tag_id   count           tag_name\n",
       "0                  1   30574  167697            to-read\n",
       "1                  1   11305   37174            fantasy\n",
       "2                  1   11557   34173          favorites\n",
       "3                  1    8717   12986  currently-reading\n",
       "4                  1   33114   12716        young-adult"
      ]
     },
     "execution_count": 10,
     "metadata": {},
     "output_type": "execute_result"
    }
   ],
   "source": [
    "df_tags = df_tags[df_tags['tag_name'].notna() & (df_tags['tag_name'] != '') & (df_tags['tag_name'] != '-')]\n",
    "df_booktags['tag_name'] = df_booktags['tag_id'].map(df_tags.set_index('tag_id')['tag_name'])\n",
    "\n",
    "df_booktags.head()"
   ]
  },
  {
   "cell_type": "markdown",
   "id": "625b730521298fa8",
   "metadata": {},
   "source": [
    "add list of tags for each books"
   ]
  },
  {
   "cell_type": "code",
   "execution_count": 11,
   "id": "fb508dee719056c7",
   "metadata": {
    "ExecuteTime": {
     "end_time": "2025-06-17T09:40:07.010528Z",
     "start_time": "2025-06-17T09:39:59.077604Z"
    }
   },
   "outputs": [],
   "source": [
    "def get_tags_for_book(book_id):\n",
    "    tags = df_booktags[df_booktags['goodreads_book_id'] == book_id]['tag_name'].tolist()\n",
    "    tags = [tag for tag in tags if tag != 'to-read']\n",
    "    return tags\n",
    "\n",
    "df_books['tags_list'] = df_books['goodreads_book_id'].apply(get_tags_for_book)\n",
    "\n",
    "# add authors, original_title, and title to tags_list to improve clustering\n",
    "df_books['tags_list'] = df_books.apply(\n",
    "    lambda row: row['tags_list'] + [row['authors'], row['original_title'], row['title']],\n",
    "    axis=1\n",
    ")\n",
    "# add language_code if not na\n",
    "df_books['tags_list'] = df_books.apply(\n",
    "    lambda row: row['tags_list'] + [row['language_code'], row['original_publication_year']] if pd.notna(row['language_code']) and pd.notna(row['original_publication_year']) else row['tags_list'],\n",
    "    axis=1\n",
    ")"
   ]
  },
  {
   "cell_type": "markdown",
   "id": "65d6ee08146a3b6a",
   "metadata": {},
   "source": [
    "add string tag list to tha dataframe"
   ]
  },
  {
   "cell_type": "code",
   "execution_count": 12,
   "id": "f3b89437c528b24c",
   "metadata": {
    "ExecuteTime": {
     "end_time": "2025-06-17T09:40:07.156766Z",
     "start_time": "2025-06-17T09:40:07.052033Z"
    }
   },
   "outputs": [],
   "source": [
    "df_books['tags_list'] = df_books['tags_list'].apply(\n",
    "    lambda x: x if isinstance(x, list) else []\n",
    ")\n",
    "df_books['tags_string'] = df_books['tags_list'].apply(lambda tags: ' '.join(map(str, tags)))"
   ]
  },
  {
   "cell_type": "code",
   "execution_count": 13,
   "id": "119898e539a4e1a6",
   "metadata": {
    "ExecuteTime": {
     "end_time": "2025-06-17T09:40:07.204876Z",
     "start_time": "2025-06-17T09:40:07.190823Z"
    }
   },
   "outputs": [
    {
     "name": "stdout",
     "output_type": "stream",
     "text": [
      "exemple of string:    currently-reading favorites classics fiction feminism literary-fiction owned contemporary non-fiction books-i-own feminist 1001 kindle re-read classics-to-read classic favourites my-library 1001-books-to-read-before-you-die classic-literature all-time-favorites rory-gilmore-challenge read-in-2015 literary favorite-books general-fiction mental-health school my-books mental-illness i-own to-re-read realistic-fiction nonfiction ebook suicide favorite drama read-in-2016 new-york read-in-english to-read-classics read-in-2013 audiobooks read-in-2017 gilmore-girls autobiography own-it classic-lit rory-gilmore-reading-challenge usa novels faves owned-books to-read-fiction book-club to-reread must-read ebooks college reread literature abandoned historical-fiction unfinished audio bookclub women-authors contemporary-fiction 50-books-to-read-before-you-die lit 5-stars 2016-reads adult psych 2015-reading-challenge need-to-buy read-again read-in-2011 my-favorites read-for-school memoir autobiographical read-2016 2016-reading-challenge modern-fiction bought psychology recommended borrowed banned-books all-time-favourites read-2014 want american america 1001-books-to-read did-not-finish on-hold Sylvia Plath The Bell Jar The Bell Jar en-US 1963.0\n"
     ]
    },
    {
     "data": {
      "text/html": [
       "<div>\n",
       "<style scoped>\n",
       "    .dataframe tbody tr th:only-of-type {\n",
       "        vertical-align: middle;\n",
       "    }\n",
       "\n",
       "    .dataframe tbody tr th {\n",
       "        vertical-align: top;\n",
       "    }\n",
       "\n",
       "    .dataframe thead th {\n",
       "        text-align: right;\n",
       "    }\n",
       "</style>\n",
       "<table border=\"1\" class=\"dataframe\">\n",
       "  <thead>\n",
       "    <tr style=\"text-align: right;\">\n",
       "      <th></th>\n",
       "      <th>goodreads_book_id</th>\n",
       "      <th>books_count</th>\n",
       "      <th>authors</th>\n",
       "      <th>original_publication_year</th>\n",
       "      <th>original_title</th>\n",
       "      <th>title</th>\n",
       "      <th>language_code</th>\n",
       "      <th>average_rating</th>\n",
       "      <th>ratings_count</th>\n",
       "      <th>work_ratings_count</th>\n",
       "      <th>work_text_reviews_count</th>\n",
       "      <th>ratings_1</th>\n",
       "      <th>ratings_2</th>\n",
       "      <th>ratings_3</th>\n",
       "      <th>ratings_4</th>\n",
       "      <th>ratings_5</th>\n",
       "      <th>tags_list</th>\n",
       "      <th>tags_string</th>\n",
       "    </tr>\n",
       "  </thead>\n",
       "  <tbody>\n",
       "    <tr>\n",
       "      <th>0</th>\n",
       "      <td>2767052</td>\n",
       "      <td>272</td>\n",
       "      <td>Suzanne Collins</td>\n",
       "      <td>2008.0</td>\n",
       "      <td>The Hunger Games</td>\n",
       "      <td>The Hunger Games (The Hunger Games, #1)</td>\n",
       "      <td>eng</td>\n",
       "      <td>4.34</td>\n",
       "      <td>4780653</td>\n",
       "      <td>4942365</td>\n",
       "      <td>155254</td>\n",
       "      <td>66715</td>\n",
       "      <td>127936</td>\n",
       "      <td>560092</td>\n",
       "      <td>1481305</td>\n",
       "      <td>2706317</td>\n",
       "      <td>[favorites, currently-reading, young-adult, fi...</td>\n",
       "      <td>favorites currently-reading young-adult fictio...</td>\n",
       "    </tr>\n",
       "    <tr>\n",
       "      <th>1</th>\n",
       "      <td>3</td>\n",
       "      <td>491</td>\n",
       "      <td>J.K. Rowling, Mary GrandPré</td>\n",
       "      <td>1997.0</td>\n",
       "      <td>Harry Potter and the Philosopher's Stone</td>\n",
       "      <td>Harry Potter and the Sorcerer's Stone (Harry P...</td>\n",
       "      <td>eng</td>\n",
       "      <td>4.44</td>\n",
       "      <td>4602479</td>\n",
       "      <td>4800065</td>\n",
       "      <td>75867</td>\n",
       "      <td>75504</td>\n",
       "      <td>101676</td>\n",
       "      <td>455024</td>\n",
       "      <td>1156318</td>\n",
       "      <td>3011543</td>\n",
       "      <td>[favorites, fantasy, currently-reading, young-...</td>\n",
       "      <td>favorites fantasy currently-reading young-adul...</td>\n",
       "    </tr>\n",
       "    <tr>\n",
       "      <th>2</th>\n",
       "      <td>41865</td>\n",
       "      <td>226</td>\n",
       "      <td>Stephenie Meyer</td>\n",
       "      <td>2005.0</td>\n",
       "      <td>Twilight</td>\n",
       "      <td>Twilight (Twilight, #1)</td>\n",
       "      <td>en-US</td>\n",
       "      <td>3.57</td>\n",
       "      <td>3866839</td>\n",
       "      <td>3916824</td>\n",
       "      <td>95009</td>\n",
       "      <td>456191</td>\n",
       "      <td>436802</td>\n",
       "      <td>793319</td>\n",
       "      <td>875073</td>\n",
       "      <td>1355439</td>\n",
       "      <td>[young-adult, fantasy, favorites, vampires, ya...</td>\n",
       "      <td>young-adult fantasy favorites vampires ya fict...</td>\n",
       "    </tr>\n",
       "    <tr>\n",
       "      <th>3</th>\n",
       "      <td>2657</td>\n",
       "      <td>487</td>\n",
       "      <td>Harper Lee</td>\n",
       "      <td>1960.0</td>\n",
       "      <td>To Kill a Mockingbird</td>\n",
       "      <td>To Kill a Mockingbird</td>\n",
       "      <td>eng</td>\n",
       "      <td>4.25</td>\n",
       "      <td>3198671</td>\n",
       "      <td>3340896</td>\n",
       "      <td>72586</td>\n",
       "      <td>60427</td>\n",
       "      <td>117415</td>\n",
       "      <td>446835</td>\n",
       "      <td>1001952</td>\n",
       "      <td>1714267</td>\n",
       "      <td>[classics, favorites, classic, historical-fict...</td>\n",
       "      <td>classics favorites classic historical-fiction ...</td>\n",
       "    </tr>\n",
       "    <tr>\n",
       "      <th>4</th>\n",
       "      <td>4671</td>\n",
       "      <td>1356</td>\n",
       "      <td>F. Scott Fitzgerald</td>\n",
       "      <td>1925.0</td>\n",
       "      <td>The Great Gatsby</td>\n",
       "      <td>The Great Gatsby</td>\n",
       "      <td>eng</td>\n",
       "      <td>3.89</td>\n",
       "      <td>2683664</td>\n",
       "      <td>2773745</td>\n",
       "      <td>51992</td>\n",
       "      <td>86236</td>\n",
       "      <td>197621</td>\n",
       "      <td>606158</td>\n",
       "      <td>936012</td>\n",
       "      <td>947718</td>\n",
       "      <td>[classics, favorites, fiction, classic, books-...</td>\n",
       "      <td>classics favorites fiction classic books-i-own...</td>\n",
       "    </tr>\n",
       "  </tbody>\n",
       "</table>\n",
       "</div>"
      ],
      "text/plain": [
       "   goodreads_book_id  books_count                      authors  \\\n",
       "0            2767052          272              Suzanne Collins   \n",
       "1                  3          491  J.K. Rowling, Mary GrandPré   \n",
       "2              41865          226              Stephenie Meyer   \n",
       "3               2657          487                   Harper Lee   \n",
       "4               4671         1356          F. Scott Fitzgerald   \n",
       "\n",
       "   original_publication_year                            original_title  \\\n",
       "0                     2008.0                          The Hunger Games   \n",
       "1                     1997.0  Harry Potter and the Philosopher's Stone   \n",
       "2                     2005.0                                  Twilight   \n",
       "3                     1960.0                     To Kill a Mockingbird   \n",
       "4                     1925.0                          The Great Gatsby   \n",
       "\n",
       "                                               title language_code  \\\n",
       "0            The Hunger Games (The Hunger Games, #1)           eng   \n",
       "1  Harry Potter and the Sorcerer's Stone (Harry P...           eng   \n",
       "2                            Twilight (Twilight, #1)         en-US   \n",
       "3                              To Kill a Mockingbird           eng   \n",
       "4                                   The Great Gatsby           eng   \n",
       "\n",
       "   average_rating  ratings_count  work_ratings_count  work_text_reviews_count  \\\n",
       "0            4.34        4780653             4942365                   155254   \n",
       "1            4.44        4602479             4800065                    75867   \n",
       "2            3.57        3866839             3916824                    95009   \n",
       "3            4.25        3198671             3340896                    72586   \n",
       "4            3.89        2683664             2773745                    51992   \n",
       "\n",
       "   ratings_1  ratings_2  ratings_3  ratings_4  ratings_5  \\\n",
       "0      66715     127936     560092    1481305    2706317   \n",
       "1      75504     101676     455024    1156318    3011543   \n",
       "2     456191     436802     793319     875073    1355439   \n",
       "3      60427     117415     446835    1001952    1714267   \n",
       "4      86236     197621     606158     936012     947718   \n",
       "\n",
       "                                           tags_list  \\\n",
       "0  [favorites, currently-reading, young-adult, fi...   \n",
       "1  [favorites, fantasy, currently-reading, young-...   \n",
       "2  [young-adult, fantasy, favorites, vampires, ya...   \n",
       "3  [classics, favorites, classic, historical-fict...   \n",
       "4  [classics, favorites, fiction, classic, books-...   \n",
       "\n",
       "                                         tags_string  \n",
       "0  favorites currently-reading young-adult fictio...  \n",
       "1  favorites fantasy currently-reading young-adul...  \n",
       "2  young-adult fantasy favorites vampires ya fict...  \n",
       "3  classics favorites classic historical-fiction ...  \n",
       "4  classics favorites fiction classic books-i-own...  "
      ]
     },
     "execution_count": 13,
     "metadata": {},
     "output_type": "execute_result"
    }
   ],
   "source": [
    "print(\"exemple of string:   \", df_books['tags_string'][177])\n",
    "df_books.head()"
   ]
  },
  {
   "cell_type": "code",
   "execution_count": 14,
   "id": "ab0d922840300c90",
   "metadata": {
    "ExecuteTime": {
     "end_time": "2025-06-17T09:40:07.268670Z",
     "start_time": "2025-06-17T09:40:07.260805Z"
    }
   },
   "outputs": [
    {
     "name": "stdout",
     "output_type": "stream",
     "text": [
      "1000\n"
     ]
    }
   ],
   "source": [
    "## PER IL CLUSTERING SUL DATASET DI 1000\n",
    "\n",
    "df_books2 = df_books.sort_values(by='ratings_count', ascending=False)\n",
    "df_books2 = df_books2.iloc[:1000]\n",
    "print(len(df_books2))"
   ]
  },
  {
   "cell_type": "code",
   "execution_count": 15,
   "id": "bfc11e1c775825f7",
   "metadata": {
    "ExecuteTime": {
     "end_time": "2025-06-17T09:40:08.400175Z",
     "start_time": "2025-06-17T09:40:07.357645Z"
    }
   },
   "outputs": [],
   "source": [
    "from sklearn.feature_extraction.text import TfidfVectorizer\n",
    "\n",
    "tfidf = TfidfVectorizer()\n",
    "X = tfidf.fit_transform(df_books['tags_string'])\n",
    "X_2 = tfidf.fit_transform(df_books2['tags_string'])"
   ]
  },
  {
   "cell_type": "markdown",
   "id": "8765a7b6c59d62ca",
   "metadata": {},
   "source": [
    "# Clustering with k-Means"
   ]
  },
  {
   "cell_type": "code",
   "execution_count": 16,
   "id": "2a0fd6fc717ad4e5",
   "metadata": {
    "ExecuteTime": {
     "end_time": "2025-06-17T09:40:12.765039Z",
     "start_time": "2025-06-17T09:40:08.421020Z"
    }
   },
   "outputs": [],
   "source": [
    "from sklearn.cluster import KMeans\n",
    "\n",
    "k = 15\n",
    "model = KMeans(n_clusters=k, random_state=3, max_iter=1000, n_init=10)\n",
    "df_books['cluster'] = model.fit_predict(X)"
   ]
  },
  {
   "cell_type": "code",
   "execution_count": 17,
   "id": "1a30fb25dfa5b28f",
   "metadata": {
    "ExecuteTime": {
     "end_time": "2025-06-17T09:40:12.792261Z",
     "start_time": "2025-06-17T09:40:12.787671Z"
    }
   },
   "outputs": [
    {
     "name": "stdout",
     "output_type": "stream",
     "text": [
      "Cluster 0: 409 elements\n",
      "Cluster 1: 1275 elements\n",
      "Cluster 2: 547 elements\n",
      "Cluster 3: 1273 elements\n",
      "Cluster 4: 475 elements\n",
      "Cluster 5: 853 elements\n",
      "Cluster 6: 404 elements\n",
      "Cluster 7: 790 elements\n",
      "Cluster 8: 195 elements\n",
      "Cluster 9: 931 elements\n",
      "Cluster 10: 1114 elements\n",
      "Cluster 11: 307 elements\n",
      "Cluster 12: 670 elements\n",
      "Cluster 13: 514 elements\n",
      "Cluster 14: 243 elements\n"
     ]
    }
   ],
   "source": [
    "cluster_counts = df_books['cluster'].value_counts().sort_index()\n",
    "for cluster_id, count in cluster_counts.items():\n",
    "    print(f\"Cluster {cluster_id}: {count} elements\")"
   ]
  },
  {
   "cell_type": "code",
   "execution_count": 39,
   "id": "5ea3c4063acf9e19",
   "metadata": {
    "ExecuteTime": {
     "end_time": "2025-06-17T09:40:12.890212Z",
     "start_time": "2025-06-17T09:40:12.885092Z"
    }
   },
   "outputs": [],
   "source": [
    "from collections import Counter\n",
    "\n",
    "def print_top_tags_per_cluster(df, top_n=20):\n",
    "\n",
    "    for cluster_id in sorted(df['cluster'].unique()):\n",
    "        tags = df[df['cluster'] == cluster_id]['tags_list'].explode()\n",
    "        tag_counts = Counter(tags)\n",
    "        most_common = tag_counts.most_common(top_n)\n",
    "        print(f\"\\nCluster {cluster_id}:\")\n",
    "        for tag, count in most_common:\n",
    "            print(f\"  {tag}\")"
   ]
  },
  {
   "cell_type": "code",
   "execution_count": 40,
   "id": "e0c1dc8b7ed4728e",
   "metadata": {
    "ExecuteTime": {
     "end_time": "2025-06-17T09:40:13.086950Z",
     "start_time": "2025-06-17T09:40:12.924595Z"
    }
   },
   "outputs": [
    {
     "name": "stdout",
     "output_type": "stream",
     "text": [
      "\n",
      "Cluster 0:\n",
      "  1001-books-to-read-before-you-die\n",
      "  favorites\n",
      "  literature\n",
      "  library\n",
      "  fiction\n",
      "\n",
      "Cluster 1:\n",
      "  favorites\n",
      "  owned\n",
      "  currently-reading\n",
      "  books-i-own\n",
      "  fiction\n",
      "\n",
      "Cluster 2:\n",
      "  romance\n",
      "  favorites\n",
      "  kindle\n",
      "  currently-reading\n",
      "  fiction\n",
      "\n",
      "Cluster 3:\n",
      "  mystery\n",
      "  fiction\n",
      "  mystery-thriller\n",
      "  owned\n",
      "  favorites\n",
      "\n",
      "Cluster 4:\n",
      "  non-fiction\n",
      "  biography\n",
      "  nonfiction\n",
      "  biography-memoir\n",
      "  owned\n",
      "\n",
      "Cluster 5:\n",
      "  childrens\n",
      "  children\n",
      "  children-s-books\n",
      "  currently-reading\n",
      "  children-s\n",
      "\n",
      "Cluster 6:\n",
      "  graphic-novels\n",
      "  favorites\n",
      "  graphic-novel\n",
      "  fiction\n",
      "  owned\n",
      "\n",
      "Cluster 7:\n",
      "  owned\n",
      "  young-adult\n",
      "  ya\n",
      "  fiction\n",
      "  favorites\n",
      "\n",
      "Cluster 8:\n",
      "  rory-gilmore-challenge\n",
      "  rory-gilmore\n",
      "  favorites\n",
      "  owned\n",
      "  rory-gilmore-reading-challenge\n",
      "\n",
      "Cluster 9:\n",
      "  fiction\n",
      "  favorites\n",
      "  owned\n",
      "  books-i-own\n",
      "  adult\n",
      "\n",
      "Cluster 10:\n",
      "  fantasy\n",
      "  fiction\n",
      "  sci-fi-fantasy\n",
      "  favorites\n",
      "  owned\n",
      "\n",
      "Cluster 11:\n",
      "  currently-reading\n",
      "  non-fiction\n",
      "  nonfiction\n",
      "  owned\n",
      "  favorites\n",
      "\n",
      "Cluster 12:\n",
      "  fantasy\n",
      "  favorites\n",
      "  paranormal\n",
      "  supernatural\n",
      "  fiction\n",
      "\n",
      "Cluster 13:\n",
      "  non-fiction\n",
      "  nonfiction\n",
      "  currently-reading\n",
      "  owned\n",
      "  favorites\n",
      "\n",
      "Cluster 14:\n",
      "  currently-reading\n",
      "  owned\n",
      "  books-i-own\n",
      "  favorites\n",
      "  default\n"
     ]
    }
   ],
   "source": [
    "print_top_tags_per_cluster(df_books, top_n=5)"
   ]
  },
  {
   "cell_type": "code",
   "execution_count": 62,
   "id": "3aa4b7eab180263a",
   "metadata": {
    "ExecuteTime": {
     "end_time": "2025-06-17T09:40:13.113257Z",
     "start_time": "2025-06-17T09:40:13.110083Z"
    }
   },
   "outputs": [],
   "source": [
    "#df_books.to_csv(\"books_autorec.csv\", index=False)"
   ]
  },
  {
   "cell_type": "markdown",
   "id": "bc5439c14c382e43",
   "metadata": {},
   "source": [
    "# Kmeans 1000"
   ]
  },
  {
   "cell_type": "code",
   "execution_count": 29,
   "id": "ced3fb8383105b35",
   "metadata": {
    "ExecuteTime": {
     "end_time": "2025-06-17T10:01:41.664574Z",
     "start_time": "2025-06-17T10:01:41.432041Z"
    }
   },
   "outputs": [
    {
     "name": "stdout",
     "output_type": "stream",
     "text": [
      "Cluster 0: 113 elements\n",
      "Cluster 1: 119 elements\n",
      "Cluster 2: 33 elements\n",
      "Cluster 3: 167 elements\n",
      "Cluster 4: 168 elements\n",
      "Cluster 5: 118 elements\n",
      "Cluster 6: 195 elements\n",
      "Cluster 7: 87 elements\n"
     ]
    }
   ],
   "source": [
    "k = 8\n",
    "model2 = KMeans(n_clusters=k, random_state=4, max_iter=1000, n_init=10)\n",
    "df_books2['cluster'] = model2.fit_predict(X_2)\n",
    "\n",
    "cluster_counts = df_books2['cluster'].value_counts().sort_index()\n",
    "for cluster_id, count in cluster_counts.items():\n",
    "    print(f\"Cluster {cluster_id}: {count} elements\")"
   ]
  },
  {
   "cell_type": "code",
   "execution_count": 30,
   "id": "1accc54324c0841d",
   "metadata": {
    "ExecuteTime": {
     "end_time": "2025-06-17T10:03:50.587473Z",
     "start_time": "2025-06-17T10:03:50.560202Z"
    }
   },
   "outputs": [
    {
     "name": "stdout",
     "output_type": "stream",
     "text": [
      "11744\n",
      "non-fiction\n",
      "12372\n",
      "fantasy\n",
      "3426\n",
      "fiction\n",
      "17360\n",
      "classics\n",
      "17464\n",
      "favorites\n",
      "12265\n",
      "favorites\n",
      "20277\n",
      "favorites\n",
      "9044\n",
      "fiction\n"
     ]
    }
   ],
   "source": [
    "print_top_tags_per_cluster(df_books2, top_n=20)"
   ]
  }
 ],
 "metadata": {
  "kernelspec": {
   "display_name": "venv",
   "language": "python",
   "name": "python3"
  },
  "language_info": {
   "codemirror_mode": {
    "name": "ipython",
    "version": 3
   },
   "file_extension": ".py",
   "mimetype": "text/x-python",
   "name": "python",
   "nbconvert_exporter": "python",
   "pygments_lexer": "ipython3",
   "version": "3.9.20"
  }
 },
 "nbformat": 4,
 "nbformat_minor": 5
}
